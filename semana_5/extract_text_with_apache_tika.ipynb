{
 "cells": [
  {
   "cell_type": "markdown",
   "metadata": {},
   "source": [
    "Antes de executar este notebook, configure um ambiente virtual e execute os comandos a seguir a partir da raíz do projeto:\n",
    "```shell\n",
    "$ pip install -r requirements.txt\n",
    "$ pip install -e .\n",
    "```\n",
    "\n",
    "O local deste notebook é `notebooks/examples/extract_text_with_apache_tika.ipynb`."
   ]
  },
  {
   "cell_type": "code",
   "execution_count": 1,
   "metadata": {},
   "outputs": [],
   "source": [
    "from pathlib import Path\n",
    "import os, re\n",
    "from queridodiario_toolbox import Gazette\n",
    "from queridodiario_toolbox.etl.text_extractor import create_text_extractor\n",
    "from queridodiario_toolbox.process.edition_process import extract_and_validate_cnpj"
   ]
  },
  {
   "cell_type": "code",
   "execution_count": 2,
   "metadata": {},
   "outputs": [
    {
     "name": "stdout",
     "output_type": "stream",
     "text": [
      "Raíz do projeto: /home/gcc/work/projects/querido-diario/toolbox\n",
      "Arquivo de diário: /home/gcc/work/projects/querido-diario/toolbox/examples/38004a4b724a24c1e3c746596acf04efb0c95a58.pdf\n"
     ]
    }
   ],
   "source": [
    "ROOT = Path(os.path.abspath('..'))\n",
    "print(f\"Raíz do projeto: {ROOT}\")\n",
    "actual_gazette = os.path.join(ROOT, \"examples/38004a4b724a24c1e3c746596acf04efb0c95a58.pdf\")\n",
    "print(f\"Arquivo de diário: {actual_gazette}\")"
   ]
  },
  {
   "cell_type": "markdown",
   "metadata": {},
   "source": [
    "Carrega extrator Apache Tika"
   ]
  },
  {
   "cell_type": "code",
   "execution_count": 3,
   "metadata": {
    "scrolled": false
   },
   "outputs": [],
   "source": [
    "config = {\"apache_tika_jar\": f'{ROOT}/tests/bin/tika-app-1.24.1.jar'}\n",
    "apache_tika_text_extractor = create_text_extractor(config)\n",
    "\n",
    "# Cria objeto de diário\n",
    "gazette = Gazette(filepath=actual_gazette)"
   ]
  },
  {
   "cell_type": "markdown",
   "metadata": {},
   "source": [
    "Extrai conteúdo textual e carrega no objeto de diário"
   ]
  },
  {
   "cell_type": "code",
   "execution_count": 4,
   "metadata": {
    "scrolled": true
   },
   "outputs": [
    {
     "data": {
      "text/plain": [
       "'\\nSegunda-feira, 26 de Outubro de 2020 - Edição n° 136\\n\\nDiário Oficial do Município de Pratânia/SP\\nEdição 136 - Página \\n\\n \\n\\n \\n\\n \\n\\nPODER EXECUTIVO 1 .................................................................................................................................... \\nDECRETOS 1 ............................................................................................................................................ \\nPORTARIAS RECURSOS HUMANOS 3 ................................................................................................... \\nLICITAÇÕES E CONTRATOS 6 ................................................................................................................ \\n\\n\\n\\n \\n\\n \\n \\n\\n \\n\\n \\n\\nRua Francisco Vieira da Maia, 10 - Fone (14) 3844-8200 Fax (14) 3844.8201 - CEP 18.660-000 \\n\\n \\n\\nDECRETO Nº 56 DE 26 DE OUTUBRO DE \\n\\n2020 \\n\\n \\n\\n“TRANSFERE O FERIADO DO DIA 28 DE OUTUBRO (DIA \\n\\nDO SERVIDOR PÚBLICO) NAS REPARTIÇÕES PÚBLICAS \\n\\nMUNICIPAIS E DÁ PROVIDÊNCIAS” \\n\\n \\n\\n \\n\\nDAVI PIRES BATISTA, Prefeito do Município de Pratânia, Estado de \\n\\nSão Paulo, no uso de suas atribuições legais e; \\n\\n \\n\\nConsiderando que o dia 28 de outubro é data consagrada às \\n\\ncomemorações do \"Dia do Servidor Público\", conforme disposto no art. 236 da Lei \\n\\nFederal nº 8.112/90; \\n\\n \\n\\nConsiderando ainda que neste no ano calendário de 2020, o dia 28 de \\n\\nOutubro é uma quarta-feira, revelando-se conveniente para o servidor público e para a \\n\\nAdministração a transferência das comemorações para o dia 30 de Outubro (sexta-feira); \\n\\n \\n\\nDECRETA: \\n\\n \\n\\nArt. 1º. Fica excepcionalmente transferido o feriado do dia 28 de \\n\\nOutubro de 2020 (quarta-feira) para o próximo dia 30 de Outubro de 2020 (sexta-feira) \\n\\nnas repartições públicas municipais. \\n\\n \\n\\nArt. 2º. Excetuam-se do disposto no artigo 1º deste Decreto, os \\n\\nserviços essenciais e ininterruptos, sendo que, o expediente será determinado pelos \\n\\nDiretores Municipais responsáveis por cada setor. \\n\\n \\n\\nArt. 3º. O servidor que exercer suas atividades em conformidade com o \\n\\nartigo 2º deste Decreto terá direito a folga correspondente ao período trabalhado. \\n\\n \\n\\nSegunda-feira, 26 de Outubro de 2020 - Edição n° 136\\n\\nPODER EXECUTIVO\\n\\nDECRETOS\\n\\nTRANSFERE O FERIADO DO DIA 28 DE OUTUBRO (DIA DO SERVIDOR PÚBLICO) NAS REPARTIÇÕES PÚBLICAS MUNICIPAIS E DÁ PROVIDÊNCIAS\\n\\nDiário Oficial do Município de Pratânia/SP\\nEdição 136 - Página 1\\n\\nPoder ExecutivoDecretos\\n\\n\\n\\n \\n\\n \\n \\n\\n \\n\\n \\n\\nRua Francisco Vieira da Maia, 10 - Fone (14) 3844-8200 Fax (14) 3844.8201 - CEP 18.660-000 \\n\\n \\n\\nArt. 4º. Este Decreto entra em vigor na data da sua afixação no átrio da \\n\\nPrefeitura Municipal. \\n\\n \\n\\nPratânia – SP, 26 de Outubro de 2020. \\n\\n \\n\\n \\n\\nDAVI PIRES BATISTA \\n\\nPrefeito Municipal \\n\\nSegunda-feira, 26 de Outubro de 2020 - Edição n° 136\\n\\nDiário Oficial do Município de Pratânia/SP\\nEdição 136 - Página 2\\n\\nPortarias Recursos Humanos\\n\\n\\n\\n \\n\\n \\n \\n\\n \\n\\n \\n\\nRua Francisco Vieira da Maia, 10 – Cohab / Fone (14) 3844-8200 / Fax (14) 3844-8201 - CEP 18660-030 / CNPJ: 01.576.782/0001-74 \\n\\n \\n\\n               PORTARIA DP Nº. 074, DE 08 DE OUTUBRO DE 2020. \\n\\n \\n\\n“DISPÕE SOBRE A EXONERAÇÃO DE SERVIDOR PÚBLICO MUNICIPAL, DE \\n\\nCARGO EM COMISSÃO, E DÁ OUTRAS PROVIDÊNCIAS” \\n\\n \\n\\nDAVI PIRES BATISTA, Prefeito Municipal de Pratânia, Estado de \\n\\nSão Paulo, no uso de suas atribuições legais: \\n\\nConsiderando o processo Administrativo protocolado sob o nº \\n\\n1998/1/2020 em 08/10/2020, através do qual a servidora pública municipal LISANDRA \\n\\nAKEMI DE MOURA NASCIMENTO, requereu, expressamente, sua exoneração do cargo \\n\\nem comissão de ASSESSOR DE DEPARTAMENTO NIVEL I a partir de 08/10/2020; \\n\\nConsiderando, ainda, que a Lei Complementar Municipal nº 48/06 \\n\\nde 23 de maio de 2006 prevê, em seu artigo 54, inciso I, a exoneração do cargo a pedido \\n\\ndo funcionário;  \\n\\nConsiderando, também, o disposto nos termos do artigo 99, inciso \\n\\nII, letra “a”, da Lei Orgânica Municipal, \\n\\nRESOLVE: \\n\\nArt. 1º - Fica EXONERADA   do cargo em comissão, de Assessor \\n\\nde Departamento Nível I, A PEDIDO,  a partir de 08 de outubro de 2020 a servidora pública \\n\\nmunicipal  LISANDRA AKEMI DE MOURA NASCIMENTO (RE Nº 10725) portadora do \\n\\nRG: 00.194.176-4 e  CPF: 052.141.421-02  residente e domiciliada no Município de \\n\\nPratânia /SP, ficando revogado a Portaria DP nº 93/19 de 29 de  julho de 2019. \\n\\nArt. 2º - Esta Portaria entra em vigor nesta data, mediante cópia da \\n\\nmesma ser entregue a servidora pública municipal, para fins de publicidade e \\n\\nconhecimento. \\n\\nPratânia, 08 de outubro de 2020 \\n\\n \\n\\n \\n\\nDAVI PIRES BATISTA \\n\\nPrefeito Municipal \\n\\n \\n\\nSegunda-feira, 26 de Outubro de 2020 - Edição n° 136\\n\\nPORTARIAS RECURSOS HUMANOS\\n\\nPORTARIA DP Nº. 074, DE 08 DE OUTUBRO DE 2020\\n\\nDiário Oficial do Município de Pratânia/SP\\nEdição 136 - Página 3\\n\\n\\n\\n \\n\\n \\n \\n\\n \\n\\n \\n\\nRua Francisco Vieira da Maia, 10 – Cohab / Fone (14) 3844-8200 / Fax (14) 3844-8201 - CEP 18660-030 / CNPJ: 01.576.782/0001-74 \\n\\n \\n\\nPORTARIA DP Nº. 75, DE 13 DE OUTUBRO DE 2020. \\n\\n“DISPÕE SOBRE A EXONERAÇÃO DE SERVIDOR PÚBLICO MUNICIPAL E \\n\\nDÁ OUTRAS PROVIDÊNCIAS” \\n\\n \\n\\nDAVI PIRES BATISTA, Prefeito Municipal de Pratânia, Estado de \\n\\nSão Paulo, no uso de suas atribuições legais: \\n\\nConsiderando o Processo Administrativo protocolado sob nº. \\n\\n1999/1/2020 em 08/10/2020, através do qual a funcionária pública municipal \\n\\nKLEDISLAINE VANEÇA NOGUEIRA CARDOSO, requereu, expressamente, sua \\n\\nexoneração do cargo de provimento efetivo de Farmacêutico a partir de 13/10/2020; \\n\\nConsiderando, ainda, que a Lei Complementar Municipal nº. 48/06 \\n\\nde 23 de maio de 2006 prevê, em seu artigo 54, inciso I, a exoneração do cargo a pedido \\n\\ndo funcionário; \\n\\nConsiderando, finalmente, o disposto no artigo 78, inciso I, c/c o \\n\\nartigo 99, inciso II, letra “a”, da Lei Orgânica do Município, \\n\\n \\n\\nRESOLVE: \\n\\n \\n\\nArt. 1º - Fica exonerada, A PEDIDO, do cargo de provimento efetivo \\n\\nde Farmacêutico, a partir do dia 13 de outubro de 2020, a Funcionária Pública Municipal, \\n\\na Sr.ª. KLEDISLAINE VANEÇA NOGUEIRA CARDOSO (RE Nº. 10639), portadora do RG \\n\\nnº 35.037.681-5 SSP/SP e do CPF nº 327.616.598-80, residente e domiciliada no município \\n\\nde Avaré/SP, ficando revogado a portaria DP Nº. 05/18 de 03 de Janeiro de 2018. \\n\\nArt. 2º - Esta Portaria entrará em vigor nesta data, devendo cópia \\n\\nda   mesma ser entregue a funcionária pública municipal, para fins de publicidade e \\n\\nconhecimento. \\n\\n \\n\\nPratânia, 13 de outubro de 2020. \\n\\n \\n\\n \\n\\nDAVI PIRES BATISTA \\n\\nPrefeito Municipal \\n\\n \\n\\nSegunda-feira, 26 de Outubro de 2020 - Edição n° 136\\n\\nPORTARIA DP Nº. 75, DE 13 DE OUTUBRO DE 2020\\n\\nDiário Oficial do Município de Pratânia/SP\\nEdição 136 - Página 4\\n\\n\\n\\n   \\n\\nRua Francisco Vieira da Maia, 10 – Cohab / Fone (14) 3844-8200 / Fax (14) 3844-8201 - CEP 18660-030 / CNPJ: 01.576.782/0001-74 \\n\\n \\n\\n \\n\\nPORTARIA DP Nº 76 DE 19 DE OUTUBRO DE 2019 \\n\\n \\n\\n“DISPÕE SOBRE A CONCESSÃO DE LICENÇA PATERNIDADE A \\nFUNCIONÁRIO PÚBLICO MUNICIPAL E DÁ OUTRAS PROVIDÊNCIAS” \\n \\n \\n\\nDAVI PIRES BATISTA, Prefeito Municipal de Pratânia, Estado de São \\nPaulo, no uso de suas atribuições legais e com fulcro no artigo 99, inciso II, alínea “a”, da \\nLei Orgânica Municipal: \\n\\n \\nConsiderando a Certidão de Nascimento sob nº 118174 01 55 2020 1 \\n\\n00059 074 0023971 68, expedida pelo Cartório de Registro Civil das Pessoas Naturais e \\nTabelionato de notas do Distrito de Rubião Junior Botucatu/SP, apresentado pelo \\nfuncionário público municipal AGUINALDO ROCHA RIBEIRO, que registra o Nascimento \\nde seu filho; \\n\\n \\nConsiderando, ainda, o disposto nos Artigos 110, inciso VI, e também o \\n\\nArtigo 132, da Lei Complementar Municipal nº 048, de 23 de maio de 2006, que concede \\nao funcionário público a Licença Paternidade de 05 (cinco) dias corridos, contados da \\ndata de nascimento de seu  filho (ª), sem prejuízo de sua remuneração;   \\n\\n \\nConsiderando, finalmente, o disposto nos termos do artigo 78, inciso IX, \\n\\ncombinado com o artigo 99, inciso II, letra “a”, ambos da Lei Orgânica do Município, \\n \\n \\nRESOLVE: \\n \\nArtigo 1º - Fica concedido, ao funcionário público municipal  \\n\\nAGUINALDO ROCHA RIBEIRO - (RE 10550), brasileiro, solteiro, portador do RG. nº \\n34.304.616-7 SSP/SP, e do CPF nº 269.401.958-74, ocupante do Cargo de Motorista \\nNível III, lotado no Setor  de Agricultura e Meio Ambiente, residente e domiciliado, no \\nMunicípio de Pratânia, a LICENÇA PATERNIDADE de 05 (cinco) dias, contados da data \\nde nascimento de seu filho, de 19 a 23.10.2020, sem prejuízo de sua remuneração. \\n\\n \\nArtigo 2º - Esta Portaria entrará em vigor nesta data, devendo cópia da \\n\\nmesma ser entregue ao funcionário municipal para fins de publicidade e conhecimento. \\n \\n\\n \\n \\n\\nPratânia, 19 de outubro de 2020. \\n. \\n \\n\\n \\n\\n \\n\\nDAVI PIRES BATISTA \\n\\nPrefeito Municipal \\n\\nSegunda-feira, 26 de Outubro de 2020 - Edição n° 136\\n\\nPORTARIA DP Nº 76 DE 19 DE OUTUBRO DE 2019\\n\\nDiário Oficial do Município de Pratânia/SP\\nEdição 136 - Página 5\\n\\n\\n\\nSegunda-feira, 26 de Outubro de 2020 - Edição n° 136\\n\\nDiário Oficial do Município de Pratânia/SP\\nEdição 136 - Página 6\\n\\nLICITAÇÕES E CONTRATOS\\n\\nEXTRATO DE CONTRATO\\n\\nCONTRATO ADMINISTRATIVO Nº 33/2020\\nPROCESSO ADMINISTRATIVO Nº 1690/1/2020\\nDISPENSA Nº 23/2020\\nCONTRATANTE: PREFEITURA MUNICIPAL DE PRATÂNIA\\nCONTRATADA: MASTER CONSTRUÇÕES E SERVIÇOS DE LIMPEZA EIRELI - ME\\nCNPJ Nº: 05.169.025/0001-37\\nOBJETO: Contratação de empresa especializada para manutenção em calçadas de concreto na Praça “Pe. II Quessada” e na R: Armando\\nCorazza e execução de canaleta de concreto na R: Henrique Zechel, cruzamento com a R: Capitão José Batista Ribeiro, no bairro da Pratinha,\\nno Município de Pratânia – SP.\\nVALOR: R$ 15.577,22 (quinze mil quinhentos e setenta e sete reais e vinte e dois centavos)\\nPRAZO DE VIGÊNCIA: 90 (noventa) dias\\nDATA DA ASSINATURA: 09/10/2020\\n\\nEXTRATO DE ADITAMENTO DE CONTRATO\\n\\nExtrato de Aditamento de Contrato nº 020/2020 - Aditivo nº 01 - Processo nº 2005/1/2020 - Dispensa nº 15/2020. Contratante:\\nMunicípio de Pratânia. Contratado: ANALE SERVIÇOS MÉDICOS LTDA. Objeto: Prestação de serviços de saúde de 01 (um) médico; 01 (um)\\nenfermeiro e 01 (01) auxiliar/técnico de enfermagem, com carga horária de 40 (quarenta) horas semanais, por 30 (trinta) dias, no Centro de\\nAtendimento para enfrentamento à COVID 19. Valor do aditivo: R$ 32.900,00 (trinta e dois mil e novecentos reais). Assinatura: 18/10/2020.\\nDavi Pires Batista – Prefeito Municipal\\n \\n \\n \\n\\n\\n\\nSegunda-feira, 26 de Outubro de 2020 - Edição n° 136\\n\\nDiário Oficial do Município de Pratânia/SP\\nEdição 136 - Página 7\\n\\nLei Municipal Nº 725 de 10 Abril de 2019\\n\\n \\n\\n \\n\\nJornalista Responsável: José Carlos Aparecido Nunes - MTB 89774/SP\\n\\n \\n\\n \\n\\n \\n\\nPREFEITURA DO MUNICÍPIO DE PRATÂNIA\\n\\nRua Francisco Vieira da Maia, Nº10 - Cohab I\\n\\nPratânia - SP\\n\\nTel: (14) 3844 - 8200\\n\\nE-mail.comunicacao@pratania.sp.gov.br\\n\\n \\n\\n \\n\\n\\n\\t\\t2020-10-26T17:59:45+0000\\n\\n\\n\\n\\n'"
      ]
     },
     "execution_count": 4,
     "metadata": {},
     "output_type": "execute_result"
    }
   ],
   "source": [
    "apache_tika_text_extractor.extract_text(gazette)\n",
    "apache_tika_text_extractor.load_content(gazette)\n",
    "gazette.content"
   ]
  },
  {
   "cell_type": "markdown",
   "metadata": {},
   "source": [
    "Extrai metadados do arquivo"
   ]
  },
  {
   "cell_type": "code",
   "execution_count": 5,
   "metadata": {
    "scrolled": true
   },
   "outputs": [
    {
     "data": {
      "text/plain": [
       "{'Author': 'Prefeitura de Pratânia - SP',\n",
       " 'Content-Length': '1081181',\n",
       " 'Content-Type': 'application/pdf',\n",
       " 'Creation-Date': '2020-10-26T17:58:44Z',\n",
       " 'Last-Modified': '2020-10-26T17:59:53Z',\n",
       " 'Last-Save-Date': '2020-10-26T17:59:53Z',\n",
       " 'X-Parsed-By': ['org.apache.tika.parser.DefaultParser',\n",
       "  'org.apache.tika.parser.pdf.PDFParser'],\n",
       " 'access_permission:assemble_document': 'true',\n",
       " 'access_permission:can_modify': 'true',\n",
       " 'access_permission:can_print': 'true',\n",
       " 'access_permission:can_print_degraded': 'true',\n",
       " 'access_permission:extract_content': 'true',\n",
       " 'access_permission:extract_for_accessibility': 'true',\n",
       " 'access_permission:fill_in_form': 'true',\n",
       " 'access_permission:modify_annotations': 'true',\n",
       " 'created': '2020-10-26T17:58:44Z',\n",
       " 'creator': 'Prefeitura de Pratânia - SP',\n",
       " 'date': '2020-10-26T17:59:53Z',\n",
       " 'dc:creator': 'Prefeitura de Pratânia - SP',\n",
       " 'dc:format': 'application/pdf; version=1.4',\n",
       " 'dc:title': 'Diário Oficial Eletrônico 136',\n",
       " 'dcterms:created': '2020-10-26T17:58:44Z',\n",
       " 'dcterms:modified': '2020-10-26T17:59:53Z',\n",
       " 'hasSignature': 'true',\n",
       " 'meta:author': 'Prefeitura de Pratânia - SP',\n",
       " 'meta:creation-date': '2020-10-26T17:58:44Z',\n",
       " 'meta:save-date': '2020-10-26T17:59:53Z',\n",
       " 'modified': '2020-10-26T17:59:53Z',\n",
       " 'pdf:PDFVersion': '1.4',\n",
       " 'pdf:charsPerPage': ['686',\n",
       "  '1611',\n",
       "  '411',\n",
       "  '1787',\n",
       "  '1760',\n",
       "  '2148',\n",
       "  '1435',\n",
       "  '377'],\n",
       " 'pdf:docinfo:created': '2020-10-26T17:58:44Z',\n",
       " 'pdf:docinfo:creator': 'Prefeitura de Pratânia - SP',\n",
       " 'pdf:docinfo:creator_tool': 'Prefeitura de Pratânia - SP',\n",
       " 'pdf:docinfo:modified': '2020-10-26T17:59:53Z',\n",
       " 'pdf:docinfo:producer': 'mPDF 7.0.3 - by Lacuna Software PKI SDK',\n",
       " 'pdf:docinfo:title': 'Diário Oficial Eletrônico 136',\n",
       " 'pdf:encrypted': 'false',\n",
       " 'pdf:foundNonAdobeExtensionName': 'ESIC',\n",
       " 'pdf:hasAcroFormFields': 'true',\n",
       " 'pdf:hasMarkedContent': 'false',\n",
       " 'pdf:hasXFA': 'false',\n",
       " 'pdf:hasXMP': 'false',\n",
       " 'pdf:unmappedUnicodeCharsPerPage': ['0', '0', '0', '0', '0', '0', '0', '0'],\n",
       " 'producer': 'mPDF 7.0.3 - by Lacuna Software PKI SDK',\n",
       " 'resourceName': '38004a4b724a24c1e3c746596acf04efb0c95a58.pdf',\n",
       " 'title': 'Diário Oficial Eletrônico 136',\n",
       " 'xmp:CreatorTool': 'Prefeitura de Pratânia - SP',\n",
       " 'xmpTPg:NPages': '8'}"
      ]
     },
     "execution_count": 5,
     "metadata": {},
     "output_type": "execute_result"
    }
   ],
   "source": [
    "apache_tika_text_extractor.extract_metadata(gazette)\n",
    "apache_tika_text_extractor.load_metadata(gazette)\n",
    "gazette.metadata"
   ]
  },
  {
   "cell_type": "markdown",
   "metadata": {},
   "source": [
    "Extrai textos com formato de CNPJ filtra apenas os válidos"
   ]
  },
  {
   "cell_type": "code",
   "execution_count": 6,
   "metadata": {},
   "outputs": [
    {
     "data": {
      "text/plain": [
       "['01.576.782/0001-74',\n",
       " '01.576.782/0001-74',\n",
       " '01.576.782/0001-74',\n",
       " '05.169.025/0001-37']"
      ]
     },
     "execution_count": 6,
     "metadata": {},
     "output_type": "execute_result"
    }
   ],
   "source": [
    "cnpjs = extract_and_validate_cnpj(gazette.content)\n",
    "cnpjs"
   ]
  },
  {
   "cell_type": "markdown",
   "metadata": {},
   "source": [
    "Exemplo de contexto em volta de um CNPJ"
   ]
  },
  {
   "cell_type": "code",
   "execution_count": 7,
   "metadata": {},
   "outputs": [
    {
     "data": {
      "text/plain": [
       "'RUÇÕES E SERVIÇOS DE LIMPEZA EIRELI - ME\\nCNPJ Nº: 05.169.025/0001-37\\nOBJETO: Contratação de empresa especializada para'"
      ]
     },
     "execution_count": 7,
     "metadata": {},
     "output_type": "execute_result"
    }
   ],
   "source": [
    "re.search(r\".{50}05\\.169\\.025\\/0001\\-37.{50}\", gazette.content, re.DOTALL).group()"
   ]
  }
 ],
 "metadata": {
  "kernelspec": {
   "display_name": "Python 3 (ipykernel)",
   "language": "python",
   "name": "python3"
  },
  "language_info": {
   "codemirror_mode": {
    "name": "ipython",
    "version": 3
   },
   "file_extension": ".py",
   "mimetype": "text/x-python",
   "name": "python",
   "nbconvert_exporter": "python",
   "pygments_lexer": "ipython3",
   "version": "3.9.5"
  }
 },
 "nbformat": 4,
 "nbformat_minor": 4
}
