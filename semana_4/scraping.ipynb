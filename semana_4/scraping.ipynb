{
 "cells": [
  {
   "cell_type": "markdown",
   "id": "87985f60",
   "metadata": {},
   "source": [
    "# requests-html"
   ]
  },
  {
   "cell_type": "code",
   "execution_count": 13,
   "id": "c4643d25",
   "metadata": {},
   "outputs": [],
   "source": [
    "# !pip install requests-html "
   ]
  },
  {
   "cell_type": "code",
   "execution_count": 3,
   "id": "8d6c9777",
   "metadata": {},
   "outputs": [],
   "source": [
    "url = (\n",
    "  \"https://pt.wikipedia.org/wiki/Lista_de_parlamentares_do_Rio_de_Janeiro\"\n",
    ")"
   ]
  },
  {
   "cell_type": "code",
   "execution_count": 4,
   "id": "d11645e0",
   "metadata": {},
   "outputs": [],
   "source": [
    "# requests_html: This library intends to make parsing HTML \n",
    "# (e.g. scraping the web) as simple and intuitive as possible.\n",
    "from requests_html import HTMLSession\n",
    "session = HTMLSession()"
   ]
  },
  {
   "cell_type": "code",
   "execution_count": 5,
   "id": "6e16e03a",
   "metadata": {},
   "outputs": [],
   "source": [
    "r = session.get(url)"
   ]
  },
  {
   "cell_type": "code",
   "execution_count": 6,
   "id": "2b12823d",
   "metadata": {},
   "outputs": [
    {
     "data": {
      "text/plain": [
       "<Element 'table' class=('wikitable',) style='font-size: 85%;'>"
      ]
     },
     "execution_count": 6,
     "metadata": {},
     "output_type": "execute_result"
    }
   ],
   "source": [
    "# Select Elements within Elements\n",
    "r.html.find(\"table\", first=True)\n",
    "# r.html.find(\"table\", first=True).text\n",
    "# r.html.find('a', containing='kenneth')"
   ]
  },
  {
   "cell_type": "code",
   "execution_count": 7,
   "id": "1f3083ea",
   "metadata": {},
   "outputs": [
    {
     "data": {
      "text/plain": [
       "<Result ('1891–1960',) {}>"
      ]
     },
     "execution_count": 7,
     "metadata": {},
     "output_type": "execute_result"
    }
   ],
   "source": [
    "# Search for text on the page:\n",
    "r.html.search('({})')\n",
    "# r.html.search('({ano})')"
   ]
  },
  {
   "cell_type": "code",
   "execution_count": 8,
   "id": "d75fc38f",
   "metadata": {},
   "outputs": [
    {
     "data": {
      "text/plain": [
       "[<Element 'div' id='mw-content-text' class=('mw-body-content', 'mw-content-ltr') lang='pt' dir='ltr'>]"
      ]
     },
     "execution_count": 8,
     "metadata": {},
     "output_type": "execute_result"
    }
   ],
   "source": [
    "# Select an Element with a CSS Selector\n",
    "r.html.find('#mw-content-text')\n",
    "# r.html.find('.mw-content-text')"
   ]
  },
  {
   "cell_type": "code",
   "execution_count": 12,
   "id": "92c86019",
   "metadata": {},
   "outputs": [
    {
     "data": {
      "text/plain": [
       "<Element 'table' class=('wikitable',) style='font-size: 85%;'>"
      ]
     },
     "execution_count": 12,
     "metadata": {},
     "output_type": "execute_result"
    }
   ],
   "source": [
    "tables = r.html.find(\"table\")\n",
    "\n",
    "table_df = tables[1]\n",
    "table_df"
   ]
  },
  {
   "cell_type": "code",
   "execution_count": 13,
   "id": "8db50144",
   "metadata": {},
   "outputs": [
    {
     "data": {
      "text/plain": [
       "[<Element 'tr' >,\n",
       " <Element 'tr' >,\n",
       " <Element 'tr' >,\n",
       " <Element 'tr' >,\n",
       " <Element 'tr' >,\n",
       " <Element 'tr' >,\n",
       " <Element 'tr' >]"
      ]
     },
     "execution_count": 13,
     "metadata": {},
     "output_type": "execute_result"
    }
   ],
   "source": [
    "rows = table_df.find(\"tr\")\n",
    "rows"
   ]
  },
  {
   "cell_type": "code",
   "execution_count": 16,
   "id": "3246dddd",
   "metadata": {},
   "outputs": [
    {
     "data": {
      "text/plain": [
       "'Senadores eleitos'"
      ]
     },
     "execution_count": 16,
     "metadata": {},
     "output_type": "execute_result"
    }
   ],
   "source": [
    "headers = rows[0].find(\"th\")\n",
    "headers[0].text"
   ]
  },
  {
   "cell_type": "code",
   "execution_count": 18,
   "id": "edf5c902",
   "metadata": {},
   "outputs": [],
   "source": [
    "headers_list = []\n",
    "\n",
    "for header in headers:\n",
    "    headers_list.append(header.text)"
   ]
  },
  {
   "cell_type": "code",
   "execution_count": null,
   "id": "bdc54b02",
   "metadata": {},
   "outputs": [],
   "source": [
    "dados = []\n",
    "\n",
    "for row in rows[1:]:\n",
    "    itens = row.find(\"td\")\n",
    "\n",
    "    r = []\n",
    "    \n",
    "    for item in itens:\n",
    "        r.append(item.text)\n",
    "\n",
    "        dados.append(r)"
   ]
  },
  {
   "cell_type": "code",
   "execution_count": 1,
   "id": "6c3b3f4c",
   "metadata": {},
   "outputs": [
    {
     "name": "stderr",
     "output_type": "stream",
     "text": [
      "/Users/gabriela/Development/Contrib/okb/python-inovacao-civica/notebooks/venv/lib/python3.7/site-packages/pandas/compat/__init__.py:97: UserWarning: Could not import the lzma module. Your installed Python is incomplete. Attempting to use lzma compression will result in a RuntimeError.\n",
      "  warnings.warn(msg)\n"
     ]
    }
   ],
   "source": [
    "import pandas as pd"
   ]
  },
  {
   "cell_type": "code",
   "execution_count": null,
   "id": "2137654a",
   "metadata": {},
   "outputs": [],
   "source": [
    "pd.DataFrame(dados, columns=headers)"
   ]
  },
  {
   "cell_type": "markdown",
   "id": "c9e06d39",
   "metadata": {},
   "source": [
    "# pandas"
   ]
  },
  {
   "cell_type": "code",
   "execution_count": 1,
   "id": "5159694a",
   "metadata": {
    "scrolled": false
   },
   "outputs": [
    {
     "name": "stderr",
     "output_type": "stream",
     "text": [
      "/Users/gabriela/Development/Contrib/okb/python-inovacao-civica/notebooks/venv/lib/python3.7/site-packages/pandas/compat/__init__.py:97: UserWarning: Could not import the lzma module. Your installed Python is incomplete. Attempting to use lzma compression will result in a RuntimeError.\n",
      "  warnings.warn(msg)\n"
     ]
    }
   ],
   "source": [
    "import pandas as pd\n",
    "\n",
    "url = (\n",
    "  \"https://pt.wikipedia.org/wiki/Lista_de_parlamentares_do_Rio_de_Janeiro\"\n",
    ")\n",
    "\n",
    "tables = pd.read_html(url)"
   ]
  },
  {
   "cell_type": "code",
   "execution_count": 2,
   "id": "36708f17",
   "metadata": {},
   "outputs": [
    {
     "name": "stdout",
     "output_type": "stream",
     "text": [
      "Total tables: 9\n"
     ]
    }
   ],
   "source": [
    "print(f'Total tables: {len(tables)}')"
   ]
  },
  {
   "cell_type": "code",
   "execution_count": 3,
   "id": "3bacf543",
   "metadata": {},
   "outputs": [
    {
     "name": "stdout",
     "output_type": "stream",
     "text": [
      "<class 'pandas.core.frame.DataFrame'>\n",
      "RangeIndex: 8 entries, 0 to 7\n",
      "Data columns (total 4 columns):\n",
      " #   Column             Non-Null Count  Dtype \n",
      "---  ------             --------------  ----- \n",
      " 0   Senadores eleitos  8 non-null      object\n",
      " 1   Naturalidade       8 non-null      object\n",
      " 2   Mandatos           8 non-null      int64 \n",
      " 3   Ano da eleição     8 non-null      int64 \n",
      "dtypes: int64(2), object(2)\n",
      "memory usage: 384.0+ bytes\n"
     ]
    }
   ],
   "source": [
    "tables[0].info()"
   ]
  },
  {
   "cell_type": "code",
   "execution_count": 11,
   "id": "1b7daa58",
   "metadata": {},
   "outputs": [
    {
     "data": {
      "text/html": [
       "<div>\n",
       "<style scoped>\n",
       "    .dataframe tbody tr th:only-of-type {\n",
       "        vertical-align: middle;\n",
       "    }\n",
       "\n",
       "    .dataframe tbody tr th {\n",
       "        vertical-align: top;\n",
       "    }\n",
       "\n",
       "    .dataframe thead th {\n",
       "        text-align: right;\n",
       "    }\n",
       "</style>\n",
       "<table border=\"1\" class=\"dataframe\">\n",
       "  <thead>\n",
       "    <tr style=\"text-align: right;\">\n",
       "      <th></th>\n",
       "      <th>Senadores eleitos</th>\n",
       "      <th>Naturalidade</th>\n",
       "      <th>Mandatos</th>\n",
       "      <th>Ano da eleição</th>\n",
       "    </tr>\n",
       "  </thead>\n",
       "  <tbody>\n",
       "    <tr>\n",
       "      <th>0</th>\n",
       "      <td>Hamilton Nogueira</td>\n",
       "      <td>Campos dos Goytacazes, RJ</td>\n",
       "      <td>1</td>\n",
       "      <td>1945</td>\n",
       "    </tr>\n",
       "    <tr>\n",
       "      <th>1</th>\n",
       "      <td>Luís Carlos Prestes[nota 1]</td>\n",
       "      <td>Porto Alegre, RS</td>\n",
       "      <td>1</td>\n",
       "      <td>1945</td>\n",
       "    </tr>\n",
       "    <tr>\n",
       "      <th>2</th>\n",
       "      <td>Mário Ramos</td>\n",
       "      <td>Rio de Janeiro, RJ</td>\n",
       "      <td>1</td>\n",
       "      <td>1947</td>\n",
       "    </tr>\n",
       "    <tr>\n",
       "      <th>3</th>\n",
       "      <td>Alencastro Guimarães</td>\n",
       "      <td>São Sebastião do Caí, RS</td>\n",
       "      <td>1</td>\n",
       "      <td>1950</td>\n",
       "    </tr>\n",
       "    <tr>\n",
       "      <th>4</th>\n",
       "      <td>Mozart Lago[nota 2]</td>\n",
       "      <td>Nova Friburgo, RJ</td>\n",
       "      <td>1</td>\n",
       "      <td>1950</td>\n",
       "    </tr>\n",
       "  </tbody>\n",
       "</table>\n",
       "</div>"
      ],
      "text/plain": [
       "             Senadores eleitos               Naturalidade  Mandatos  \\\n",
       "0            Hamilton Nogueira  Campos dos Goytacazes, RJ         1   \n",
       "1  Luís Carlos Prestes[nota 1]           Porto Alegre, RS         1   \n",
       "2                  Mário Ramos         Rio de Janeiro, RJ         1   \n",
       "3         Alencastro Guimarães   São Sebastião do Caí, RS         1   \n",
       "4          Mozart Lago[nota 2]          Nova Friburgo, RJ         1   \n",
       "\n",
       "   Ano da eleição  \n",
       "0            1945  \n",
       "1            1945  \n",
       "2            1947  \n",
       "3            1950  \n",
       "4            1950  "
      ]
     },
     "execution_count": 11,
     "metadata": {},
     "output_type": "execute_result"
    }
   ],
   "source": [
    "tables[0].head()"
   ]
  },
  {
   "cell_type": "code",
   "execution_count": 12,
   "id": "9a304b26",
   "metadata": {},
   "outputs": [
    {
     "data": {
      "text/html": [
       "<div>\n",
       "<style scoped>\n",
       "    .dataframe tbody tr th:only-of-type {\n",
       "        vertical-align: middle;\n",
       "    }\n",
       "\n",
       "    .dataframe tbody tr th {\n",
       "        vertical-align: top;\n",
       "    }\n",
       "\n",
       "    .dataframe thead th {\n",
       "        text-align: right;\n",
       "    }\n",
       "</style>\n",
       "<table border=\"1\" class=\"dataframe\">\n",
       "  <thead>\n",
       "    <tr style=\"text-align: right;\">\n",
       "      <th></th>\n",
       "      <th>Senadores eleitos</th>\n",
       "      <th>Naturalidade</th>\n",
       "      <th>Mandatos</th>\n",
       "      <th>Ano da eleição</th>\n",
       "    </tr>\n",
       "  </thead>\n",
       "  <tbody>\n",
       "    <tr>\n",
       "      <th>0</th>\n",
       "      <td>Danton Jobim[nota 5][nota 6]</td>\n",
       "      <td>Avaré, SP</td>\n",
       "      <td>2</td>\n",
       "      <td>1970, 1974</td>\n",
       "    </tr>\n",
       "    <tr>\n",
       "      <th>1</th>\n",
       "      <td>Gilberto Marinho</td>\n",
       "      <td>Pelotas, RS</td>\n",
       "      <td>1</td>\n",
       "      <td>1962</td>\n",
       "    </tr>\n",
       "    <tr>\n",
       "      <th>2</th>\n",
       "      <td>Aurélio Viana</td>\n",
       "      <td>Maceió, AL</td>\n",
       "      <td>1</td>\n",
       "      <td>1962</td>\n",
       "    </tr>\n",
       "    <tr>\n",
       "      <th>3</th>\n",
       "      <td>Mário Martins[nota 5]</td>\n",
       "      <td>Petrópolis, RJ</td>\n",
       "      <td>1</td>\n",
       "      <td>1966</td>\n",
       "    </tr>\n",
       "    <tr>\n",
       "      <th>4</th>\n",
       "      <td>Benjamin Farah[nota 6]</td>\n",
       "      <td>Corumbá, MS</td>\n",
       "      <td>1</td>\n",
       "      <td>1970</td>\n",
       "    </tr>\n",
       "  </tbody>\n",
       "</table>\n",
       "</div>"
      ],
      "text/plain": [
       "              Senadores eleitos    Naturalidade  Mandatos Ano da eleição\n",
       "0  Danton Jobim[nota 5][nota 6]       Avaré, SP         2     1970, 1974\n",
       "1              Gilberto Marinho     Pelotas, RS         1           1962\n",
       "2                 Aurélio Viana      Maceió, AL         1           1962\n",
       "3         Mário Martins[nota 5]  Petrópolis, RJ         1           1966\n",
       "4        Benjamin Farah[nota 6]     Corumbá, MS         1           1970"
      ]
     },
     "execution_count": 12,
     "metadata": {},
     "output_type": "execute_result"
    }
   ],
   "source": [
    "tables[1].head()"
   ]
  },
  {
   "cell_type": "code",
   "execution_count": 10,
   "id": "15eea857",
   "metadata": {},
   "outputs": [],
   "source": [
    "# !pip install html5lib"
   ]
  },
  {
   "cell_type": "code",
   "execution_count": 5,
   "id": "adb6d31e",
   "metadata": {},
   "outputs": [],
   "source": [
    "# tables_match = pd.read_html(url, match='Estado da Guanabara')\n",
    "# len(tables_match)"
   ]
  }
 ],
 "metadata": {
  "kernelspec": {
   "display_name": "Python 3",
   "language": "python",
   "name": "python3"
  },
  "language_info": {
   "codemirror_mode": {
    "name": "ipython",
    "version": 3
   },
   "file_extension": ".py",
   "mimetype": "text/x-python",
   "name": "python",
   "nbconvert_exporter": "python",
   "pygments_lexer": "ipython3",
   "version": "3.7.4"
  }
 },
 "nbformat": 4,
 "nbformat_minor": 5
}
