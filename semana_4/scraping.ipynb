{
 "cells": [
  {
   "cell_type": "markdown",
   "id": "87985f60",
   "metadata": {},
   "source": [
    "# requests-html"
   ]
  },
  {
   "cell_type": "code",
   "execution_count": 26,
   "id": "c4643d25",
   "metadata": {},
   "outputs": [],
   "source": [
    "# !pip install requests-html "
   ]
  },
  {
   "cell_type": "code",
   "execution_count": 50,
   "id": "8d6c9777",
   "metadata": {},
   "outputs": [],
   "source": [
    "url = (\n",
    "  \"https://pt.wikipedia.org/wiki/Lista_de_parlamentares_do_Rio_de_Janeiro\"\n",
    ")"
   ]
  },
  {
   "cell_type": "code",
   "execution_count": 136,
   "id": "d11645e0",
   "metadata": {},
   "outputs": [],
   "source": [
    "from requests_html import HTMLSession\n",
    "\n",
    "session = HTMLSession()"
   ]
  },
  {
   "cell_type": "code",
   "execution_count": 137,
   "id": "6e16e03a",
   "metadata": {},
   "outputs": [],
   "source": [
    "r = session.get(url)"
   ]
  },
  {
   "cell_type": "code",
   "execution_count": 62,
   "id": "51b6159a",
   "metadata": {},
   "outputs": [],
   "source": [
    "palavra1 = 'a\"'\n",
    "palavra2 = \"A's\""
   ]
  },
  {
   "cell_type": "code",
   "execution_count": 63,
   "id": "4364c90e",
   "metadata": {},
   "outputs": [
    {
     "data": {
      "text/plain": [
       "('a\"', \"A's\")"
      ]
     },
     "execution_count": 63,
     "metadata": {},
     "output_type": "execute_result"
    }
   ],
   "source": [
    "palavra1, palavra2"
   ]
  },
  {
   "cell_type": "code",
   "execution_count": 138,
   "id": "73838f52",
   "metadata": {},
   "outputs": [],
   "source": [
    "links = r.html.find(\n",
    "    \"table\", \n",
    "    containing='Parlamentares do Congresso Nacional do Brasil por estado',\n",
    "    first=True,\n",
    ").find(\"a\")"
   ]
  },
  {
   "cell_type": "code",
   "execution_count": 141,
   "id": "64cb4364",
   "metadata": {},
   "outputs": [
    {
     "name": "stdout",
     "output_type": "stream",
     "text": [
      "{'https://pt.wikipedia.org/wiki/Lista_de_parlamentares_do_Acre'}\n",
      "{'https://pt.wikipedia.org/wiki/Lista_de_parlamentares_de_Alagoas'}\n",
      "{'https://pt.wikipedia.org/wiki/Lista_de_parlamentares_do_Amap%C3%A1'}\n",
      "{'https://pt.wikipedia.org/wiki/Lista_de_parlamentares_do_Amazonas'}\n",
      "{'https://pt.wikipedia.org/wiki/Lista_de_parlamentares_da_Bahia'}\n",
      "{'https://pt.wikipedia.org/wiki/Lista_de_parlamentares_do_Cear%C3%A1'}\n",
      "{'https://pt.wikipedia.org/wiki/Lista_de_parlamentares_do_Distrito_Federal_(Brasil)'}\n",
      "{'https://pt.wikipedia.org/wiki/Lista_de_parlamentares_do_Esp%C3%ADrito_Santo'}\n",
      "{'https://pt.wikipedia.org/wiki/Lista_de_parlamentares_de_Goi%C3%A1s'}\n",
      "{'https://pt.wikipedia.org/wiki/Lista_de_parlamentares_do_Maranh%C3%A3o'}\n",
      "{'https://pt.wikipedia.org/wiki/Lista_de_parlamentares_de_Mato_Grosso'}\n",
      "{'https://pt.wikipedia.org/wiki/Lista_de_parlamentares_de_Mato_Grosso_do_Sul'}\n",
      "{'https://pt.wikipedia.org/wiki/Lista_de_parlamentares_de_Minas_Gerais'}\n",
      "{'https://pt.wikipedia.org/wiki/Lista_de_parlamentares_do_Par%C3%A1'}\n",
      "{'https://pt.wikipedia.org/wiki/Lista_de_parlamentares_da_Para%C3%ADba'}\n",
      "{'https://pt.wikipedia.org/wiki/Lista_de_parlamentares_do_Paran%C3%A1'}\n",
      "{'https://pt.wikipedia.org/wiki/Lista_de_parlamentares_de_Pernambuco'}\n",
      "{'https://pt.wikipedia.org/wiki/Lista_de_parlamentares_do_Piau%C3%AD'}\n",
      "{'https://pt.wikipedia.org/wiki/Lista_de_parlamentares_do_Rio_Grande_do_Norte'}\n",
      "{'https://pt.wikipedia.org/wiki/Lista_de_parlamentares_do_Rio_Grande_do_Sul'}\n",
      "{'https://pt.wikipedia.org/wiki/Lista_de_parlamentares_de_Rond%C3%B4nia'}\n",
      "{'https://pt.wikipedia.org/wiki/Lista_de_parlamentares_de_Roraima'}\n",
      "{'https://pt.wikipedia.org/wiki/Lista_de_parlamentares_de_Santa_Catarina'}\n",
      "{'https://pt.wikipedia.org/wiki/Lista_de_parlamentares_de_S%C3%A3o_Paulo'}\n",
      "{'https://pt.wikipedia.org/wiki/Lista_de_parlamentares_de_Sergipe'}\n",
      "{'https://pt.wikipedia.org/wiki/Lista_de_parlamentares_do_Tocantins'}\n"
     ]
    }
   ],
   "source": [
    "for link in links:\n",
    "    if link.absolute_links and \"Lista_de\" in link.absolute_links.pop():\n",
    "        print(link.absolute_links)"
   ]
  },
  {
   "cell_type": "code",
   "execution_count": 102,
   "id": "faf5aa1b",
   "metadata": {},
   "outputs": [],
   "source": [
    "links = [\n",
    "    link.absolute_links \n",
    "    for link in links \n",
    "    if link.absolute_links and (\"Lista_de\" in link.absolute_links.pop())\n",
    "]"
   ]
  },
  {
   "cell_type": "code",
   "execution_count": 103,
   "id": "88dd5e13",
   "metadata": {},
   "outputs": [
    {
     "data": {
      "text/plain": [
       "[{'https://pt.wikipedia.org/wiki/Lista_de_parlamentares_do_Acre'},\n",
       " {'https://pt.wikipedia.org/wiki/Lista_de_parlamentares_de_Alagoas'},\n",
       " {'https://pt.wikipedia.org/wiki/Lista_de_parlamentares_do_Amap%C3%A1'},\n",
       " {'https://pt.wikipedia.org/wiki/Lista_de_parlamentares_do_Amazonas'},\n",
       " {'https://pt.wikipedia.org/wiki/Lista_de_parlamentares_da_Bahia'},\n",
       " {'https://pt.wikipedia.org/wiki/Lista_de_parlamentares_do_Cear%C3%A1'},\n",
       " {'https://pt.wikipedia.org/wiki/Lista_de_parlamentares_do_Distrito_Federal_(Brasil)'},\n",
       " {'https://pt.wikipedia.org/wiki/Lista_de_parlamentares_do_Esp%C3%ADrito_Santo'},\n",
       " {'https://pt.wikipedia.org/wiki/Lista_de_parlamentares_de_Goi%C3%A1s'},\n",
       " {'https://pt.wikipedia.org/wiki/Lista_de_parlamentares_do_Maranh%C3%A3o'},\n",
       " {'https://pt.wikipedia.org/wiki/Lista_de_parlamentares_de_Mato_Grosso'},\n",
       " {'https://pt.wikipedia.org/wiki/Lista_de_parlamentares_de_Mato_Grosso_do_Sul'},\n",
       " {'https://pt.wikipedia.org/wiki/Lista_de_parlamentares_de_Minas_Gerais'},\n",
       " {'https://pt.wikipedia.org/wiki/Lista_de_parlamentares_do_Par%C3%A1'},\n",
       " {'https://pt.wikipedia.org/wiki/Lista_de_parlamentares_da_Para%C3%ADba'},\n",
       " {'https://pt.wikipedia.org/wiki/Lista_de_parlamentares_do_Paran%C3%A1'},\n",
       " {'https://pt.wikipedia.org/wiki/Lista_de_parlamentares_de_Pernambuco'},\n",
       " {'https://pt.wikipedia.org/wiki/Lista_de_parlamentares_do_Piau%C3%AD'},\n",
       " {'https://pt.wikipedia.org/wiki/Lista_de_parlamentares_do_Rio_Grande_do_Norte'},\n",
       " {'https://pt.wikipedia.org/wiki/Lista_de_parlamentares_do_Rio_Grande_do_Sul'},\n",
       " {'https://pt.wikipedia.org/wiki/Lista_de_parlamentares_de_Rond%C3%B4nia'},\n",
       " {'https://pt.wikipedia.org/wiki/Lista_de_parlamentares_de_Roraima'},\n",
       " {'https://pt.wikipedia.org/wiki/Lista_de_parlamentares_de_Santa_Catarina'},\n",
       " {'https://pt.wikipedia.org/wiki/Lista_de_parlamentares_de_S%C3%A3o_Paulo'},\n",
       " {'https://pt.wikipedia.org/wiki/Lista_de_parlamentares_de_Sergipe'},\n",
       " {'https://pt.wikipedia.org/wiki/Lista_de_parlamentares_do_Tocantins'}]"
      ]
     },
     "execution_count": 103,
     "metadata": {},
     "output_type": "execute_result"
    }
   ],
   "source": [
    "links"
   ]
  },
  {
   "cell_type": "code",
   "execution_count": 6,
   "id": "2b12823d",
   "metadata": {},
   "outputs": [
    {
     "data": {
      "text/plain": [
       "<Element 'table' class=('wikitable',) style='font-size: 85%;'>"
      ]
     },
     "execution_count": 6,
     "metadata": {},
     "output_type": "execute_result"
    }
   ],
   "source": [
    "# Select Elements within Elements\n",
    "r.html.find(\"table\", first=True)\n",
    "# r.html.find(\"table\", first=True).text\n",
    "# r.html.find('a', containing='kenneth')"
   ]
  },
  {
   "cell_type": "code",
   "execution_count": 43,
   "id": "1f3083ea",
   "metadata": {},
   "outputs": [],
   "source": [
    "# Search for text on the page:\n",
    "\n",
    "# r.html.search('({})')\n",
    "# r.html.search('({ano}) - {name}.')"
   ]
  },
  {
   "cell_type": "code",
   "execution_count": 44,
   "id": "d75fc38f",
   "metadata": {},
   "outputs": [
    {
     "data": {
      "text/plain": [
       "[<Element 'div' id='mw-content-text' class=('mw-body-content', 'mw-content-ltr') lang='pt' dir='ltr'>]"
      ]
     },
     "execution_count": 44,
     "metadata": {},
     "output_type": "execute_result"
    }
   ],
   "source": [
    "# Select an Element with a CSS Selector\n",
    "r.html.find('#mw-content-text')\n",
    "# r.html.find('.mw-content-text')"
   ]
  },
  {
   "cell_type": "code",
   "execution_count": 53,
   "id": "488e1c7a",
   "metadata": {
    "scrolled": false
   },
   "outputs": [
    {
     "data": {
      "text/plain": [
       "[]"
      ]
     },
     "execution_count": 53,
     "metadata": {},
     "output_type": "execute_result"
    }
   ],
   "source": [
    "r.html.find(\"#collapsibleTable2\")"
   ]
  },
  {
   "cell_type": "code",
   "execution_count": 104,
   "id": "92c86019",
   "metadata": {},
   "outputs": [],
   "source": [
    "tables = r.html.find(\"table\")"
   ]
  },
  {
   "cell_type": "code",
   "execution_count": 105,
   "id": "6c6ff8c3",
   "metadata": {},
   "outputs": [
    {
     "data": {
      "text/plain": [
       "[<Element 'table' class=('wikitable',) style='font-size: 85%;'>,\n",
       " <Element 'table' class=('wikitable',) style='font-size: 85%;'>,\n",
       " <Element 'table' class=('wikitable',) style='font-size: 85%;'>,\n",
       " <Element 'table' class=('wikitable',) style='font-size: 85%;'>,\n",
       " <Element 'table' class=('wikitable',) style='font-size: 85%;'>,\n",
       " <Element 'table' class=('wikitable',) style='font-size: 85%;'>,\n",
       " <Element 'table' class=('nowraplinks', 'collapsible', 'autocollapse', 'navbox-inner') style='border-spacing:0;background:transparent;color:inherit'>,\n",
       " <Element 'table' class=('nowraplinks', 'collapsible', 'autocollapse', 'navbox-inner') style='border-spacing:0;background:transparent;color:inherit'>,\n",
       " <Element 'table' class=('nowraplinks', 'collapsible', 'show', 'navbox-inner') style='border-spacing:0;background:transparent;color:inherit'>]"
      ]
     },
     "execution_count": 105,
     "metadata": {},
     "output_type": "execute_result"
    }
   ],
   "source": [
    "tables"
   ]
  },
  {
   "cell_type": "code",
   "execution_count": 108,
   "id": "9251c6a5",
   "metadata": {},
   "outputs": [
    {
     "data": {
      "text/plain": [
       "'Senadores eleitos\\nNaturalidade\\nMandatos\\nAno da eleição\\nHamilton Nogueira\\nCampos dos Goytacazes, RJ\\n1\\n1945\\nLuís Carlos Prestes[nota 1]\\nPorto Alegre, RS\\n1\\n1945\\nMário Ramos\\nRio de Janeiro, RJ\\n1\\n1947\\nAlencastro Guimarães\\nSão Sebastião do Caí, RS\\n1\\n1950\\nMozart Lago[nota 2]\\nNova Friburgo, RJ\\n1\\n1950\\nCaiado de Castro[nota 3]\\nRio de Janeiro, RJ\\n1\\n1954\\nGilberto Marinho[nota 3]\\nPelotas, RS\\n1\\n1954\\nAfonso Arinos[nota 4]\\nBelo Horizonte, MG\\n1\\n1958'"
      ]
     },
     "execution_count": 108,
     "metadata": {},
     "output_type": "execute_result"
    }
   ],
   "source": [
    "tables[0].text"
   ]
  },
  {
   "cell_type": "code",
   "execution_count": 109,
   "id": "7df9475e",
   "metadata": {},
   "outputs": [],
   "source": [
    "table_df = tables[0]"
   ]
  },
  {
   "cell_type": "code",
   "execution_count": 111,
   "id": "8db50144",
   "metadata": {},
   "outputs": [],
   "source": [
    "rows = table_df.find(\"tr\")"
   ]
  },
  {
   "cell_type": "code",
   "execution_count": 123,
   "id": "20aa1152",
   "metadata": {},
   "outputs": [
    {
     "data": {
      "text/plain": [
       "[<Element 'th' width='190' style='background-color:#CCCCCC'>,\n",
       " <Element 'th' width='190' style='background-color:#CCCCCC'>,\n",
       " <Element 'th' width='80' style='background-color:#CCCCCC'>,\n",
       " <Element 'th' width='470' style='background-color:#CCCCCC'>]"
      ]
     },
     "execution_count": 123,
     "metadata": {},
     "output_type": "execute_result"
    }
   ],
   "source": [
    "rows[0].find(\"th\")"
   ]
  },
  {
   "cell_type": "code",
   "execution_count": 124,
   "id": "3246dddd",
   "metadata": {},
   "outputs": [
    {
     "data": {
      "text/plain": [
       "[<Element 'th' width='190' style='background-color:#CCCCCC'>,\n",
       " <Element 'th' width='190' style='background-color:#CCCCCC'>,\n",
       " <Element 'th' width='80' style='background-color:#CCCCCC'>,\n",
       " <Element 'th' width='470' style='background-color:#CCCCCC'>]"
      ]
     },
     "execution_count": 124,
     "metadata": {},
     "output_type": "execute_result"
    }
   ],
   "source": [
    "headers = rows[0].find(\"th\")\n",
    "headers"
   ]
  },
  {
   "cell_type": "code",
   "execution_count": 126,
   "id": "b310a2ea",
   "metadata": {},
   "outputs": [],
   "source": [
    "lista_cabecalho = []\n",
    "\n",
    "for header in headers:\n",
    "    lista_cabecalho.append(header.text)"
   ]
  },
  {
   "cell_type": "code",
   "execution_count": 127,
   "id": "3228a5c4",
   "metadata": {},
   "outputs": [
    {
     "data": {
      "text/plain": [
       "['Senadores eleitos', 'Naturalidade', 'Mandatos', 'Ano da eleição']"
      ]
     },
     "execution_count": 127,
     "metadata": {},
     "output_type": "execute_result"
    }
   ],
   "source": [
    "lista_cabecalho"
   ]
  },
  {
   "cell_type": "code",
   "execution_count": 129,
   "id": "bdc54b02",
   "metadata": {},
   "outputs": [],
   "source": [
    "dados = []\n",
    "\n",
    "for row in rows[1:]:\n",
    "    itens = row.find(\"td\")\n",
    "\n",
    "    r = []\n",
    "    \n",
    "    for item in itens:\n",
    "#         print(item.text)\n",
    "        r.append(item.text)\n",
    "\n",
    "    dados.append(r)"
   ]
  },
  {
   "cell_type": "code",
   "execution_count": 130,
   "id": "72c4487b",
   "metadata": {},
   "outputs": [
    {
     "data": {
      "text/plain": [
       "[['Hamilton Nogueira', 'Campos dos Goytacazes, RJ', '1', '1945'],\n",
       " ['Luís Carlos Prestes[nota 1]', 'Porto Alegre, RS', '1', '1945'],\n",
       " ['Mário Ramos', 'Rio de Janeiro, RJ', '1', '1947'],\n",
       " ['Alencastro Guimarães', 'São Sebastião do Caí, RS', '1', '1950'],\n",
       " ['Mozart Lago[nota 2]', 'Nova Friburgo, RJ', '1', '1950'],\n",
       " ['Caiado de Castro[nota 3]', 'Rio de Janeiro, RJ', '1', '1954'],\n",
       " ['Gilberto Marinho[nota 3]', 'Pelotas, RS', '1', '1954'],\n",
       " ['Afonso Arinos[nota 4]', 'Belo Horizonte, MG', '1', '1958']]"
      ]
     },
     "execution_count": 130,
     "metadata": {},
     "output_type": "execute_result"
    }
   ],
   "source": [
    "dados"
   ]
  },
  {
   "cell_type": "code",
   "execution_count": 131,
   "id": "6c3b3f4c",
   "metadata": {},
   "outputs": [],
   "source": [
    "import pandas as pd"
   ]
  },
  {
   "cell_type": "code",
   "execution_count": 133,
   "id": "2137654a",
   "metadata": {},
   "outputs": [
    {
     "data": {
      "text/html": [
       "<div>\n",
       "<style scoped>\n",
       "    .dataframe tbody tr th:only-of-type {\n",
       "        vertical-align: middle;\n",
       "    }\n",
       "\n",
       "    .dataframe tbody tr th {\n",
       "        vertical-align: top;\n",
       "    }\n",
       "\n",
       "    .dataframe thead th {\n",
       "        text-align: right;\n",
       "    }\n",
       "</style>\n",
       "<table border=\"1\" class=\"dataframe\">\n",
       "  <thead>\n",
       "    <tr style=\"text-align: right;\">\n",
       "      <th></th>\n",
       "      <th>Senadores eleitos</th>\n",
       "      <th>Naturalidade</th>\n",
       "      <th>Mandatos</th>\n",
       "      <th>Ano da eleição</th>\n",
       "    </tr>\n",
       "  </thead>\n",
       "  <tbody>\n",
       "    <tr>\n",
       "      <th>0</th>\n",
       "      <td>Hamilton Nogueira</td>\n",
       "      <td>Campos dos Goytacazes, RJ</td>\n",
       "      <td>1</td>\n",
       "      <td>1945</td>\n",
       "    </tr>\n",
       "    <tr>\n",
       "      <th>1</th>\n",
       "      <td>Luís Carlos Prestes[nota 1]</td>\n",
       "      <td>Porto Alegre, RS</td>\n",
       "      <td>1</td>\n",
       "      <td>1945</td>\n",
       "    </tr>\n",
       "    <tr>\n",
       "      <th>2</th>\n",
       "      <td>Mário Ramos</td>\n",
       "      <td>Rio de Janeiro, RJ</td>\n",
       "      <td>1</td>\n",
       "      <td>1947</td>\n",
       "    </tr>\n",
       "    <tr>\n",
       "      <th>3</th>\n",
       "      <td>Alencastro Guimarães</td>\n",
       "      <td>São Sebastião do Caí, RS</td>\n",
       "      <td>1</td>\n",
       "      <td>1950</td>\n",
       "    </tr>\n",
       "    <tr>\n",
       "      <th>4</th>\n",
       "      <td>Mozart Lago[nota 2]</td>\n",
       "      <td>Nova Friburgo, RJ</td>\n",
       "      <td>1</td>\n",
       "      <td>1950</td>\n",
       "    </tr>\n",
       "    <tr>\n",
       "      <th>5</th>\n",
       "      <td>Caiado de Castro[nota 3]</td>\n",
       "      <td>Rio de Janeiro, RJ</td>\n",
       "      <td>1</td>\n",
       "      <td>1954</td>\n",
       "    </tr>\n",
       "    <tr>\n",
       "      <th>6</th>\n",
       "      <td>Gilberto Marinho[nota 3]</td>\n",
       "      <td>Pelotas, RS</td>\n",
       "      <td>1</td>\n",
       "      <td>1954</td>\n",
       "    </tr>\n",
       "    <tr>\n",
       "      <th>7</th>\n",
       "      <td>Afonso Arinos[nota 4]</td>\n",
       "      <td>Belo Horizonte, MG</td>\n",
       "      <td>1</td>\n",
       "      <td>1958</td>\n",
       "    </tr>\n",
       "  </tbody>\n",
       "</table>\n",
       "</div>"
      ],
      "text/plain": [
       "             Senadores eleitos               Naturalidade Mandatos  \\\n",
       "0            Hamilton Nogueira  Campos dos Goytacazes, RJ        1   \n",
       "1  Luís Carlos Prestes[nota 1]           Porto Alegre, RS        1   \n",
       "2                  Mário Ramos         Rio de Janeiro, RJ        1   \n",
       "3         Alencastro Guimarães   São Sebastião do Caí, RS        1   \n",
       "4          Mozart Lago[nota 2]          Nova Friburgo, RJ        1   \n",
       "5     Caiado de Castro[nota 3]         Rio de Janeiro, RJ        1   \n",
       "6     Gilberto Marinho[nota 3]                Pelotas, RS        1   \n",
       "7        Afonso Arinos[nota 4]         Belo Horizonte, MG        1   \n",
       "\n",
       "  Ano da eleição  \n",
       "0           1945  \n",
       "1           1945  \n",
       "2           1947  \n",
       "3           1950  \n",
       "4           1950  \n",
       "5           1954  \n",
       "6           1954  \n",
       "7           1958  "
      ]
     },
     "execution_count": 133,
     "metadata": {},
     "output_type": "execute_result"
    }
   ],
   "source": [
    "pd.DataFrame(dados, columns=lista_cabecalho)"
   ]
  },
  {
   "cell_type": "markdown",
   "id": "c9e06d39",
   "metadata": {},
   "source": [
    "# pandas"
   ]
  },
  {
   "cell_type": "code",
   "execution_count": 8,
   "id": "5159694a",
   "metadata": {
    "scrolled": false
   },
   "outputs": [],
   "source": [
    "import pandas as pd\n",
    "\n",
    "url = (\n",
    "  \"https://pt.wikipedia.org/wiki/Lista_de_parlamentares_do_Rio_Grande_do_Norte\"\n",
    ")\n",
    "\n",
    "tables = pd.read_html(url)"
   ]
  },
  {
   "cell_type": "code",
   "execution_count": 9,
   "id": "36708f17",
   "metadata": {},
   "outputs": [
    {
     "name": "stdout",
     "output_type": "stream",
     "text": [
      "Total tables: 4\n"
     ]
    }
   ],
   "source": [
    "print(f'Total tables: {len(tables)}')"
   ]
  },
  {
   "cell_type": "code",
   "execution_count": 10,
   "id": "3bacf543",
   "metadata": {},
   "outputs": [
    {
     "name": "stdout",
     "output_type": "stream",
     "text": [
      "<class 'pandas.core.frame.DataFrame'>\n",
      "RangeIndex: 64 entries, 0 to 63\n",
      "Data columns (total 4 columns):\n",
      " #   Column                      Non-Null Count  Dtype \n",
      "---  ------                      --------------  ----- \n",
      " 0   Deputados federais eleitos  64 non-null     object\n",
      " 1   Naturalidade                64 non-null     object\n",
      " 2   Mandatos                    64 non-null     int64 \n",
      " 3   Ano da eleição              64 non-null     object\n",
      "dtypes: int64(1), object(3)\n",
      "memory usage: 2.1+ KB\n"
     ]
    }
   ],
   "source": [
    "tables[1].info()"
   ]
  },
  {
   "cell_type": "code",
   "execution_count": 11,
   "id": "1b7daa58",
   "metadata": {},
   "outputs": [
    {
     "data": {
      "text/html": [
       "<div>\n",
       "<style scoped>\n",
       "    .dataframe tbody tr th:only-of-type {\n",
       "        vertical-align: middle;\n",
       "    }\n",
       "\n",
       "    .dataframe tbody tr th {\n",
       "        vertical-align: top;\n",
       "    }\n",
       "\n",
       "    .dataframe thead th {\n",
       "        text-align: right;\n",
       "    }\n",
       "</style>\n",
       "<table border=\"1\" class=\"dataframe\">\n",
       "  <thead>\n",
       "    <tr style=\"text-align: right;\">\n",
       "      <th></th>\n",
       "      <th>Deputados federais eleitos</th>\n",
       "      <th>Naturalidade</th>\n",
       "      <th>Mandatos</th>\n",
       "      <th>Ano da eleição</th>\n",
       "    </tr>\n",
       "  </thead>\n",
       "  <tbody>\n",
       "    <tr>\n",
       "      <th>0</th>\n",
       "      <td>Henrique Eduardo Alves</td>\n",
       "      <td>Rio de Janeiro, RJ</td>\n",
       "      <td>11</td>\n",
       "      <td>1970, 1974, 1978, 1982, 1986, 1990, 1994, 1998...</td>\n",
       "    </tr>\n",
       "    <tr>\n",
       "      <th>1</th>\n",
       "      <td>Vingt Rosado</td>\n",
       "      <td>Mossoró, RN</td>\n",
       "      <td>7</td>\n",
       "      <td>1962, 1966, 1970, 1974, 1978, 1982, 1986</td>\n",
       "    </tr>\n",
       "    <tr>\n",
       "      <th>2</th>\n",
       "      <td>Aluizio Alves[nota 12]</td>\n",
       "      <td>Angicos, RN</td>\n",
       "      <td>6</td>\n",
       "      <td>1945, 1950, 1954, 1958, 1966, 1990</td>\n",
       "    </tr>\n",
       "    <tr>\n",
       "      <th>3</th>\n",
       "      <td>Djalma Marinho[nota 13]</td>\n",
       "      <td>São José do Campestre, RN</td>\n",
       "      <td>6</td>\n",
       "      <td>1954, 1958, 1962, 1966, 1970, 1978</td>\n",
       "    </tr>\n",
       "    <tr>\n",
       "      <th>4</th>\n",
       "      <td>Ney Lopes[nota 12]</td>\n",
       "      <td>Natal, RN</td>\n",
       "      <td>5</td>\n",
       "      <td>1974, 1990, 1994, 1998, 2002</td>\n",
       "    </tr>\n",
       "  </tbody>\n",
       "</table>\n",
       "</div>"
      ],
      "text/plain": [
       "  Deputados federais eleitos               Naturalidade  Mandatos  \\\n",
       "0     Henrique Eduardo Alves         Rio de Janeiro, RJ        11   \n",
       "1               Vingt Rosado                Mossoró, RN         7   \n",
       "2     Aluizio Alves[nota 12]                Angicos, RN         6   \n",
       "3    Djalma Marinho[nota 13]  São José do Campestre, RN         6   \n",
       "4         Ney Lopes[nota 12]                  Natal, RN         5   \n",
       "\n",
       "                                      Ano da eleição  \n",
       "0  1970, 1974, 1978, 1982, 1986, 1990, 1994, 1998...  \n",
       "1           1962, 1966, 1970, 1974, 1978, 1982, 1986  \n",
       "2                 1945, 1950, 1954, 1958, 1966, 1990  \n",
       "3                 1954, 1958, 1962, 1966, 1970, 1978  \n",
       "4                       1974, 1990, 1994, 1998, 2002  "
      ]
     },
     "execution_count": 11,
     "metadata": {},
     "output_type": "execute_result"
    }
   ],
   "source": [
    "tables[1].head()"
   ]
  },
  {
   "cell_type": "code",
   "execution_count": 24,
   "id": "9a304b26",
   "metadata": {},
   "outputs": [
    {
     "data": {
      "text/plain": [
       "Naturalidade\n",
       "Natal, RN                    13\n",
       "Mossoró, RN                  10\n",
       "Caicó, RN                     4\n",
       "Rio de Janeiro, RJ            4\n",
       "Santana do Matos, RN          3\n",
       "Santa Cruz, RN                3\n",
       "Recife, PE                    3\n",
       "Campina Grande, PB            2\n",
       "Catolé do Rocha, PB           2\n",
       "Ceará-Mirim, RN               2\n",
       "Pau dos Ferros, RN            2\n",
       "Parelhas, RN                  1\n",
       "São José do Campestre, RN     1\n",
       "Santa Rita, PB                1\n",
       "Pirpirituba, PB               1\n",
       "Patu, RN                      1\n",
       "Angicos, RN                   1\n",
       "Nova Palmeira, PB             1\n",
       "Areia Branca, RN              1\n",
       "Macaíba, RN                   1\n",
       "João Pessoa, PB               1\n",
       "João Câmara, RN               1\n",
       "Fortaleza, CE                 1\n",
       "Florânia, RN                  1\n",
       "Extremoz, RN                  1\n",
       "Brejo do Cruz, PB             1\n",
       "Umarizal, RN                  1\n",
       "Name: Ano da eleição, dtype: int64"
      ]
     },
     "execution_count": 24,
     "metadata": {},
     "output_type": "execute_result"
    }
   ],
   "source": [
    "tables[1].groupby(\"Naturalidade\")[\"Ano da eleição\"].count().sort_values(ascending=False)"
   ]
  },
  {
   "cell_type": "code",
   "execution_count": 14,
   "id": "135823ac",
   "metadata": {},
   "outputs": [
    {
     "data": {
      "text/plain": [
       "((20, 4), (64, 4))"
      ]
     },
     "execution_count": 14,
     "metadata": {},
     "output_type": "execute_result"
    }
   ],
   "source": [
    "tables[0].shape, tables[1].shape"
   ]
  },
  {
   "cell_type": "code",
   "execution_count": 12,
   "id": "5b7a5ca4",
   "metadata": {},
   "outputs": [
    {
     "data": {
      "text/html": [
       "<div>\n",
       "<style scoped>\n",
       "    .dataframe tbody tr th:only-of-type {\n",
       "        vertical-align: middle;\n",
       "    }\n",
       "\n",
       "    .dataframe tbody tr th {\n",
       "        vertical-align: top;\n",
       "    }\n",
       "\n",
       "    .dataframe thead th {\n",
       "        text-align: right;\n",
       "    }\n",
       "</style>\n",
       "<table border=\"1\" class=\"dataframe\">\n",
       "  <thead>\n",
       "    <tr style=\"text-align: right;\">\n",
       "      <th></th>\n",
       "      <th>Senadores eleitos</th>\n",
       "      <th>Naturalidade</th>\n",
       "      <th>Mandatos</th>\n",
       "      <th>Ano da eleição</th>\n",
       "      <th>Deputados federais eleitos</th>\n",
       "    </tr>\n",
       "  </thead>\n",
       "  <tbody>\n",
       "    <tr>\n",
       "      <th>0</th>\n",
       "      <td>Dinarte Mariz[nota 1]</td>\n",
       "      <td>Serra Negra do Norte, RN</td>\n",
       "      <td>4</td>\n",
       "      <td>1954, 1962, 1970, 1978</td>\n",
       "      <td>NaN</td>\n",
       "    </tr>\n",
       "    <tr>\n",
       "      <th>1</th>\n",
       "      <td>José Agripino Maia[nota 2]</td>\n",
       "      <td>Mossoró, RN</td>\n",
       "      <td>4</td>\n",
       "      <td>1986, 1994, 2002, 2010</td>\n",
       "      <td>NaN</td>\n",
       "    </tr>\n",
       "    <tr>\n",
       "      <th>2</th>\n",
       "      <td>Garibaldi Alves Filho[nota 3]</td>\n",
       "      <td>Natal, RN</td>\n",
       "      <td>3</td>\n",
       "      <td>1990, 2002, 2010</td>\n",
       "      <td>NaN</td>\n",
       "    </tr>\n",
       "    <tr>\n",
       "      <th>3</th>\n",
       "      <td>Georgino Avelino[nota 4]</td>\n",
       "      <td>Angicos, RN</td>\n",
       "      <td>2</td>\n",
       "      <td>1945, 1954</td>\n",
       "      <td>NaN</td>\n",
       "    </tr>\n",
       "    <tr>\n",
       "      <th>4</th>\n",
       "      <td>Jessé Freire[nota 5]</td>\n",
       "      <td>Macaíba, RN</td>\n",
       "      <td>2</td>\n",
       "      <td>1970, 1978</td>\n",
       "      <td>NaN</td>\n",
       "    </tr>\n",
       "    <tr>\n",
       "      <th>...</th>\n",
       "      <td>...</td>\n",
       "      <td>...</td>\n",
       "      <td>...</td>\n",
       "      <td>...</td>\n",
       "      <td>...</td>\n",
       "    </tr>\n",
       "    <tr>\n",
       "      <th>59</th>\n",
       "      <td>NaN</td>\n",
       "      <td>Natal, RN</td>\n",
       "      <td>1</td>\n",
       "      <td>2014</td>\n",
       "      <td>Antônio Jácome</td>\n",
       "    </tr>\n",
       "    <tr>\n",
       "      <th>60</th>\n",
       "      <td>NaN</td>\n",
       "      <td>Brejo do Cruz, PB</td>\n",
       "      <td>1</td>\n",
       "      <td>2014</td>\n",
       "      <td>Zenaide Maia</td>\n",
       "    </tr>\n",
       "    <tr>\n",
       "      <th>61</th>\n",
       "      <td>NaN</td>\n",
       "      <td>Santana do Matos, RN</td>\n",
       "      <td>1</td>\n",
       "      <td>2018</td>\n",
       "      <td>Benes Leocádio</td>\n",
       "    </tr>\n",
       "    <tr>\n",
       "      <th>62</th>\n",
       "      <td>NaN</td>\n",
       "      <td>Fortaleza, CE</td>\n",
       "      <td>1</td>\n",
       "      <td>2018</td>\n",
       "      <td>Eliéser Girão</td>\n",
       "    </tr>\n",
       "    <tr>\n",
       "      <th>63</th>\n",
       "      <td>NaN</td>\n",
       "      <td>Natal, RN</td>\n",
       "      <td>1</td>\n",
       "      <td>2018</td>\n",
       "      <td>Natália Bonavides</td>\n",
       "    </tr>\n",
       "  </tbody>\n",
       "</table>\n",
       "<p>84 rows × 5 columns</p>\n",
       "</div>"
      ],
      "text/plain": [
       "                Senadores eleitos              Naturalidade  Mandatos  \\\n",
       "0           Dinarte Mariz[nota 1]  Serra Negra do Norte, RN         4   \n",
       "1      José Agripino Maia[nota 2]               Mossoró, RN         4   \n",
       "2   Garibaldi Alves Filho[nota 3]                 Natal, RN         3   \n",
       "3        Georgino Avelino[nota 4]               Angicos, RN         2   \n",
       "4            Jessé Freire[nota 5]               Macaíba, RN         2   \n",
       "..                            ...                       ...       ...   \n",
       "59                            NaN                 Natal, RN         1   \n",
       "60                            NaN         Brejo do Cruz, PB         1   \n",
       "61                            NaN      Santana do Matos, RN         1   \n",
       "62                            NaN             Fortaleza, CE         1   \n",
       "63                            NaN                 Natal, RN         1   \n",
       "\n",
       "            Ano da eleição Deputados federais eleitos  \n",
       "0   1954, 1962, 1970, 1978                        NaN  \n",
       "1   1986, 1994, 2002, 2010                        NaN  \n",
       "2         1990, 2002, 2010                        NaN  \n",
       "3               1945, 1954                        NaN  \n",
       "4               1970, 1978                        NaN  \n",
       "..                     ...                        ...  \n",
       "59                    2014             Antônio Jácome  \n",
       "60                    2014               Zenaide Maia  \n",
       "61                    2018             Benes Leocádio  \n",
       "62                    2018              Eliéser Girão  \n",
       "63                    2018          Natália Bonavides  \n",
       "\n",
       "[84 rows x 5 columns]"
      ]
     },
     "execution_count": 12,
     "metadata": {},
     "output_type": "execute_result"
    }
   ],
   "source": [
    "tables[0].append(tables[1])"
   ]
  },
  {
   "cell_type": "code",
   "execution_count": 10,
   "id": "15eea857",
   "metadata": {},
   "outputs": [],
   "source": [
    "# !pip install html5lib"
   ]
  },
  {
   "cell_type": "code",
   "execution_count": 5,
   "id": "adb6d31e",
   "metadata": {},
   "outputs": [],
   "source": [
    "# tables_match = pd.read_html(url, match='Estado da Guanabara')\n",
    "# len(tables_match)"
   ]
  }
 ],
 "metadata": {
  "kernelspec": {
   "display_name": "Python 3",
   "language": "python",
   "name": "python3"
  },
  "language_info": {
   "codemirror_mode": {
    "name": "ipython",
    "version": 3
   },
   "file_extension": ".py",
   "mimetype": "text/x-python",
   "name": "python",
   "nbconvert_exporter": "python",
   "pygments_lexer": "ipython3",
   "version": "3.7.4"
  }
 },
 "nbformat": 4,
 "nbformat_minor": 5
}
