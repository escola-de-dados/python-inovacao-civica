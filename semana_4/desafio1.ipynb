{
 "cells": [
  {
   "cell_type": "markdown",
   "id": "d5a29734",
   "metadata": {
    "id": "d5a29734"
   },
   "source": [
    "### Leia o arquivo dos dados da Receita Federal e cruze eles com os dados da CEAP"
   ]
  },
  {
   "cell_type": "code",
   "execution_count": null,
   "id": "44e86205",
   "metadata": {
    "id": "44e86205"
   },
   "outputs": [],
   "source": []
  },
  {
   "cell_type": "markdown",
   "id": "8d638f74",
   "metadata": {
    "id": "8d638f74"
   },
   "source": [
    "### Some o total da coluna `vlrLiquido` agrupando por `txtCNPJCPF` e `txtFornecedor` "
   ]
  },
  {
   "cell_type": "code",
   "execution_count": null,
   "id": "8517c3e0",
   "metadata": {
    "id": "8517c3e0"
   },
   "outputs": [],
   "source": []
  },
  {
   "cell_type": "markdown",
   "id": "722d01d0",
   "metadata": {
    "id": "722d01d0"
   },
   "source": [
    "### Ordene os dados da consulta anterior de forma decrescente"
   ]
  },
  {
   "cell_type": "code",
   "execution_count": null,
   "id": "c154660e",
   "metadata": {
    "id": "c154660e"
   },
   "outputs": [],
   "source": []
  },
  {
   "cell_type": "markdown",
   "id": "12fc64d4",
   "metadata": {
    "id": "12fc64d4"
   },
   "source": [
    "### Consulte se houveram gastos reembolsados associados a empresas que na época estavam com status `08`\n",
    "\n",
    "\n",
    "status == 8 significa `BAIXADA` (*a empresa foi extinta, seja por solicitação dos sócios ou por ação da Receita*)"
   ]
  },
  {
   "cell_type": "code",
   "execution_count": null,
   "id": "ec3b6710",
   "metadata": {
    "id": "ec3b6710"
   },
   "outputs": [],
   "source": []
  },
  {
   "cell_type": "markdown",
   "id": "a9f6370a",
   "metadata": {
    "id": "a9f6370a"
   },
   "source": [
    "### Desafio extra\n",
    "\n",
    "Esse desafio traz algumas ideias de análises. Fique a vontade para tentar encontrar essas respostas :)\n",
    "\n",
    "- Qual o total gasto nos finais de semana?\n",
    "\n",
    "- Agrupando por parlamentar e filtrando por finais de semana, qual o parlamentar que mais gastou em um final de semana?\n",
    "\n",
    "- Tente filtrar os reembolsos envolvendo alimentação, agrupar por fornecedor, e verificar os fornecedores mais frequentados. Poderíamos analisar se existiram gastos com alto desvio padrão considerando os reembolsos de um restaurante em específico. Se você tem o grupo de gastos feitos em um local X, é possível encontrar a média de gasto feito por deputados nesse local X, e de repente encontrar qual teve um gasto muito acima desse valor. \n",
    "\n",
    "- Podemos tentar encontrar se houve parlamentar que teve alta frequência de reembolsos associados a empresas que já estavam com status `Baixada`."
   ]
  }
 ],
 "metadata": {
  "colab": {
   "name": "desafio1.ipynb",
   "provenance": []
  },
  "kernelspec": {
   "display_name": "Python 3 (ipykernel)",
   "language": "python",
   "name": "python3"
  },
  "language_info": {
   "codemirror_mode": {
    "name": "ipython",
    "version": 3
   },
   "file_extension": ".py",
   "mimetype": "text/x-python",
   "name": "python",
   "nbconvert_exporter": "python",
   "pygments_lexer": "ipython3",
   "version": "3.9.6"
  }
 },
 "nbformat": 4,
 "nbformat_minor": 5
}
