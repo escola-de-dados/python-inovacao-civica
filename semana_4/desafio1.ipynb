{
  "nbformat": 4,
  "nbformat_minor": 5,
  "metadata": {
    "kernelspec": {
      "display_name": "Python 3",
      "language": "python",
      "name": "python3"
    },
    "language_info": {
      "codemirror_mode": {
        "name": "ipython",
        "version": 3
      },
      "file_extension": ".py",
      "mimetype": "text/x-python",
      "name": "python",
      "nbconvert_exporter": "python",
      "pygments_lexer": "ipython3",
      "version": "3.7.4"
    },
    "colab": {
      "name": "desafio1.ipynb",
      "provenance": []
    }
  },
  "cells": [
    {
      "cell_type": "markdown",
      "metadata": {
        "id": "d5a29734"
      },
      "source": [
        "### Leia o arquivo dos dados da Receita Federal e cruze eles com os dados da CEAP"
      ],
      "id": "d5a29734"
    },
    {
      "cell_type": "code",
      "metadata": {
        "id": "44e86205"
      },
      "source": [
        ""
      ],
      "id": "44e86205",
      "execution_count": null,
      "outputs": []
    },
    {
      "cell_type": "markdown",
      "metadata": {
        "id": "8d638f74"
      },
      "source": [
        "### Some o total da coluna `vlrLiquido` agrupando por `txtCNPJCPF` e `txtFornecedor` "
      ],
      "id": "8d638f74"
    },
    {
      "cell_type": "code",
      "metadata": {
        "id": "8517c3e0"
      },
      "source": [
        ""
      ],
      "id": "8517c3e0",
      "execution_count": null,
      "outputs": []
    },
    {
      "cell_type": "markdown",
      "metadata": {
        "id": "722d01d0"
      },
      "source": [
        "### Ordene os dados da consulta anterior de forma decrescente"
      ],
      "id": "722d01d0"
    },
    {
      "cell_type": "code",
      "metadata": {
        "id": "c154660e"
      },
      "source": [
        ""
      ],
      "id": "c154660e",
      "execution_count": null,
      "outputs": []
    },
    {
      "cell_type": "markdown",
      "metadata": {
        "id": "12fc64d4"
      },
      "source": [
        "### Consulte se houveram gastos reembolsados associados a empresas que na época estavam com status `08`\n",
        "\n",
        "\n",
        "status == 8 significa `BAIXADA` (*a empresa foi extinta, seja por solicitação dos sócios ou por ação da Receita*)"
      ],
      "id": "12fc64d4"
    },
    {
      "cell_type": "code",
      "metadata": {
        "id": "ec3b6710"
      },
      "source": [
        ""
      ],
      "id": "ec3b6710",
      "execution_count": null,
      "outputs": []
    },
    {
      "cell_type": "markdown",
      "metadata": {
        "id": "a9f6370a"
      },
      "source": [
        "### Desafio extra\n",
        "\n",
        "Esse desafio traz algumas ideias de análises. Fique a vontade para tentar encontrar essas respostas :)\n",
        "\n",
        "- Qual o total gasto nos finais de semana?\n",
        "\n",
        "- Agrupando por parlamentar e filtrando por finais de semana, qual o parlamentar que mais gastou em um final de semana?\n",
        "\n",
        "- Tente filtrar os reembolsos envolvendo alimentação, agrupar por fornecedor, e verificar os fornecedores mais frequentados. Poderíamos analisar se existiram gastos com alto desvio padrão considerando os reembolsos de um restaurante em específico. Se você tem o grupo de gastos feitos em um local X, é possível encontrar a média de gasto feito por deputados nesse local X, e de repente encontrar qual teve um gasto muito acima desse valor. \n",
        "\n",
        "- Podemos tentar encontrar se houve parlamentar que teve alta frequência de reembolsos associados a empresas que já estavam com status `Baixada`."
      ],
      "id": "a9f6370a"
    }
  ]
}
