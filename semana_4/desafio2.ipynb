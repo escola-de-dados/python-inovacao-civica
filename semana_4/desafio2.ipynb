{
  "nbformat": 4,
  "nbformat_minor": 5,
  "metadata": {
    "kernelspec": {
      "display_name": "Python 3",
      "language": "python",
      "name": "python3"
    },
    "language_info": {
      "codemirror_mode": {
        "name": "ipython",
        "version": 3
      },
      "file_extension": ".py",
      "mimetype": "text/x-python",
      "name": "python",
      "nbconvert_exporter": "python",
      "pygments_lexer": "ipython3",
      "version": "3.7.4"
    },
    "colab": {
      "name": "desafio2.ipynb",
      "provenance": []
    }
  },
  "cells": [
    {
      "cell_type": "markdown",
      "metadata": {
        "id": "3fa47b5e"
      },
      "source": [
        "Escolha a página do wikipédia relacionada a lista de parlamentares do seu estado e extraia as tabelas existentes na página."
      ],
      "id": "3fa47b5e"
    },
    {
      "cell_type": "code",
      "metadata": {
        "id": "54290dad"
      },
      "source": [
        ""
      ],
      "id": "54290dad",
      "execution_count": null,
      "outputs": []
    },
    {
      "cell_type": "markdown",
      "metadata": {
        "id": "db63e93d"
      },
      "source": [
        "### Quantas tabelas existem na página?"
      ],
      "id": "db63e93d"
    },
    {
      "cell_type": "code",
      "metadata": {
        "id": "74363a0c"
      },
      "source": [
        ""
      ],
      "id": "74363a0c",
      "execution_count": null,
      "outputs": []
    },
    {
      "cell_type": "markdown",
      "metadata": {
        "id": "79e2ce18"
      },
      "source": [
        "### Qual o total de senadores?"
      ],
      "id": "79e2ce18"
    },
    {
      "cell_type": "code",
      "metadata": {
        "id": "dcec24d2"
      },
      "source": [
        ""
      ],
      "id": "dcec24d2",
      "execution_count": null,
      "outputs": []
    },
    {
      "cell_type": "markdown",
      "metadata": {
        "id": "dd782b0e"
      },
      "source": [
        "### Qual o total de deputados federais?"
      ],
      "id": "dd782b0e"
    },
    {
      "cell_type": "code",
      "metadata": {
        "id": "e2d5f589"
      },
      "source": [
        ""
      ],
      "id": "e2d5f589",
      "execution_count": null,
      "outputs": []
    },
    {
      "cell_type": "markdown",
      "metadata": {
        "id": "e46e7b1a"
      },
      "source": [
        "### Qual o total de deputados e senadores por cidade?\n",
        "\n",
        "dica: `groupby`"
      ],
      "id": "e46e7b1a"
    },
    {
      "cell_type": "code",
      "metadata": {
        "id": "adb82dcf"
      },
      "source": [
        ""
      ],
      "id": "adb82dcf",
      "execution_count": null,
      "outputs": []
    },
    {
      "cell_type": "markdown",
      "metadata": {
        "id": "149673f0"
      },
      "source": [
        "### Qual deputado/senador com mais mandatos?"
      ],
      "id": "149673f0"
    },
    {
      "cell_type": "code",
      "metadata": {
        "id": "0be894db"
      },
      "source": [
        ""
      ],
      "id": "0be894db",
      "execution_count": null,
      "outputs": []
    },
    {
      "cell_type": "markdown",
      "metadata": {
        "id": "fdeba3c0"
      },
      "source": [
        "### Desafio extra\n",
        "\n",
        "Esse desafio traz uma ideia extra de cruzamento de dados. Fique a vontade para tentar encontrar essas respostas :)\n",
        "\n",
        "- E se você cruzasse esses dados com os dados da CEAP? Quanto o deputado com maior número de candidaturas gastou?"
      ],
      "id": "fdeba3c0"
    }
  ]
}