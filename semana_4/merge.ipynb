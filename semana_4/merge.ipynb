{
 "cells": [
  {
   "cell_type": "markdown",
   "id": "4914c7df",
   "metadata": {
    "id": "bFYatS11gOtN"
   },
   "source": [
    "# Escola de Dados - Python para inovação cívica\n",
    "\n",
    "## Módulo 2: Análise exporatória de dados do Legislativo\n",
    "\n",
    "* [Aula 02: Acessando os dados da CEAP via API](#Aula-02:-Acessando-os-dados-da-CEAP-via-API)\n",
    "* [Aula 03: Lendo os dados com Pandas](#Aula-03:-Lendo-os-dados-com-Pandas)\n",
    "    * [Dicionário de dados](#Dicionário-de-Dados)\n",
    "* [Aula 04: Organizando e visualizando os dados](#Aula-04:-Organizando-e-visualizando-os-dados)\n",
    "    * [Preenchendo valores nulos](#Preenchendo-valores-nulos) \n",
    "    * [Informando tipos na leitura dos dados](#Informando-tipos-na-leitura-dos-dados)\n",
    "    * [as type](#astype)\n",
    "    * [to_datetime](#to_datetime)\n",
    "    * [completando, substituindo e reformatando](#completando,-substituindo-e-reformatando)\n",
    "* [Aula 07: Dados da Receita Federal](#Aula-07:-Dados-da-Receita-Federal)\n",
    "* [Aula 08: Receita Federal e CEAP](#Aula-8:-Receita-Federal-e-CEAP)"
   ]
  },
  {
   "cell_type": "markdown",
   "id": "eec2c925",
   "metadata": {
    "id": "qwYEO7nyRh9H"
   },
   "source": [
    "### Aula 02: Acessando os dados da CEAP via API"
   ]
  },
  {
   "cell_type": "markdown",
   "id": "8b0ee316",
   "metadata": {
    "id": "ouMkJasFSZtx"
   },
   "source": [
    "Para baixar os arquivos das despesas pela Cota para Exercício da Atividade Parlamentar, podemos utilizar a API da Câmara Legislativa. Os arquivos de cada ano estão disponíveis via URLs no formato `http://www.camara.leg.br/cotas/Ano-{ano}.{formato}[.zip]`.\n",
    "\n",
    "Você pode encontrar mais detalhes na [documentação dos dados sobre Despesas pela Cota para Exercício da Atividade Parlamentar](https://dadosabertos.camara.leg.br/swagger/api.html#staticfile).\n",
    "\n",
    "Há diversas formas de fazer o download dos arquivos usando Python. Para esse tutorial, vamos usar o pacote `requests`."
   ]
  },
  {
   "cell_type": "code",
   "execution_count": null,
   "id": "55c3f455",
   "metadata": {
    "id": "3lEoz1Lr5NeJ"
   },
   "outputs": [],
   "source": [
    "url = f\"http://www.camara.leg.br/cotas/Ano-2019.csv.zip\""
   ]
  },
  {
   "cell_type": "code",
   "execution_count": null,
   "id": "e335c8c7",
   "metadata": {
    "id": "H-ShSuQJ5ICY"
   },
   "outputs": [],
   "source": [
    "import requests\n",
    "\n",
    "# fazendo o download do conteúdo do arquivo\n",
    "r = requests.get(url)"
   ]
  },
  {
   "cell_type": "code",
   "execution_count": null,
   "id": "a80fbd1c",
   "metadata": {
    "id": "5aXzYO4MziQn"
   },
   "outputs": [],
   "source": [
    "# abrindo um arquivo no seu computador\n",
    "file = open(f\"Ano-2019.csv.zip\", \"wb\")\n",
    "\n",
    "# escrever o conteúdo\n",
    "file.write(r.content)\n",
    "file.close()"
   ]
  },
  {
   "cell_type": "code",
   "execution_count": null,
   "id": "4407d92a",
   "metadata": {
    "id": "Xmzmw4oLzg-k"
   },
   "outputs": [],
   "source": [
    "# outra forma de criar arquivos, e escrever conteúdo\n",
    "\n",
    "# with open(f\"Ano-{year}.csv.zip\", \"wb\") as code:\n",
    "#    code.write(r.content)"
   ]
  },
  {
   "cell_type": "markdown",
   "id": "4c1d34dc",
   "metadata": {
    "id": "PcB4ko8UUaP3"
   },
   "source": [
    "Como o arquivo baixado pela API é um arquivo zip, vamos precisar descompatar. Vamos usar o `zipfile`, um módulo que nos dá ferramentas para diversas manipulações de arquivos zipados."
   ]
  },
  {
   "cell_type": "code",
   "execution_count": null,
   "id": "db445c34",
   "metadata": {
    "id": "SpeJGZ5s4tYR"
   },
   "outputs": [],
   "source": [
    "from zipfile import ZipFile"
   ]
  },
  {
   "cell_type": "code",
   "execution_count": null,
   "id": "a75fb247",
   "metadata": {
    "id": "vke0teol4w8S"
   },
   "outputs": [],
   "source": [
    "zip_file = ZipFile(f\"Ano-2019.csv.zip\", 'r')"
   ]
  },
  {
   "cell_type": "code",
   "execution_count": null,
   "id": "ba5a3fe0",
   "metadata": {
    "colab": {
     "base_uri": "https://localhost:8080/"
    },
    "id": "K6KlfvVW4yEJ",
    "outputId": "e81a4c9e-513a-4f8a-855c-9f17c113fdb5"
   },
   "outputs": [],
   "source": [
    "zip_file.namelist()"
   ]
  },
  {
   "cell_type": "code",
   "execution_count": null,
   "id": "835aaa1a",
   "metadata": {
    "colab": {
     "base_uri": "https://localhost:8080/",
     "height": 37
    },
    "id": "XpnL3tJe5Lm_",
    "outputId": "cff349aa-b17f-4ab0-8498-7ce6df1de82f"
   },
   "outputs": [],
   "source": [
    "zip_file.extract(member=f\"Ano-2019.csv\", path=f\"reembolso-2019\")"
   ]
  },
  {
   "cell_type": "code",
   "execution_count": null,
   "id": "aea63be7",
   "metadata": {
    "id": "qF4UmfPqiELQ"
   },
   "outputs": [],
   "source": [
    "# caso a gente queira extrair todo o conteúdo do arquivo zip\n",
    "\n",
    "# zip_file.extractall(path=f\"reimbursements-{year}\")"
   ]
  },
  {
   "cell_type": "code",
   "execution_count": null,
   "id": "3a113e58",
   "metadata": {
    "id": "HWMAqsBT5W8e"
   },
   "outputs": [],
   "source": [
    "zip_file.close()"
   ]
  },
  {
   "cell_type": "markdown",
   "id": "e7244afa",
   "metadata": {
    "id": "9V6UrEjQiS4S"
   },
   "source": [
    "### Aula 03: Lendo os dados com Pandas"
   ]
  },
  {
   "cell_type": "code",
   "execution_count": null,
   "id": "55880b49",
   "metadata": {
    "id": "yalZ9LW96ONR",
    "scrolled": true
   },
   "outputs": [],
   "source": [
    "import pandas as pd"
   ]
  },
  {
   "cell_type": "code",
   "execution_count": null,
   "id": "88ab1cb1",
   "metadata": {
    "colab": {
     "base_uri": "https://localhost:8080/",
     "height": 477
    },
    "id": "hVtndpQ4ih4b",
    "outputId": "ac7cb771-b5df-49ab-cdef-31bcf0015aef",
    "scrolled": false
   },
   "outputs": [],
   "source": [
    "pd.read_csv(\"reembolso-2019/Ano-2019.csv\")"
   ]
  },
  {
   "cell_type": "markdown",
   "id": "135892df",
   "metadata": {},
   "source": [
    "Opa! Erro na leitura do nosso arquivo. Quando encontramos esse erro na leitura de um arquivo, existe algumas possíveis causas mais comuns, uma delas é que o caracter que separa as colunas pode não ser o que o `read_csv` espera. \n",
    "\n",
    "Encontre na [documentação do read_csv](https://pandas.pydata.org/docs/reference/api/pandas.read_csv.html) qual o separador considerado padrão e depois confira no arquivo qual o separador que é utilizado. \n",
    "\n",
    "Agora, modifique a próxima célula com o que você acha que deve ser feito para que a leitura do csv aconteça sem erros."
   ]
  },
  {
   "cell_type": "code",
   "execution_count": null,
   "id": "f4f74532",
   "metadata": {
    "colab": {
     "base_uri": "https://localhost:8080/",
     "height": 462
    },
    "id": "vF5kKe42VEjo",
    "outputId": "4454dcec-c4d8-41eb-a165-af209b4be511",
    "scrolled": true
   },
   "outputs": [],
   "source": [
    "df_reimbursements = pd.read_csv(\"reembolso-2019/Ano-2019.csv\", sep=\"???\") \n",
    "# sep == delimiter"
   ]
  },
  {
   "cell_type": "markdown",
   "id": "dfabdc7f",
   "metadata": {},
   "source": [
    "Vamos visualizar as 5 primeiras linhas do nosso Dataframe."
   ]
  },
  {
   "cell_type": "code",
   "execution_count": null,
   "id": "6972f3d7",
   "metadata": {},
   "outputs": [],
   "source": [
    "df_reimbursements.head()"
   ]
  },
  {
   "cell_type": "markdown",
   "id": "06bae264",
   "metadata": {},
   "source": [
    "## Como podemos fazer para visualizar as 10 primeiras linhas?\n",
    "\n",
    "Escreva e rode o código na célula abaixo."
   ]
  },
  {
   "cell_type": "code",
   "execution_count": null,
   "id": "6cdc90f5",
   "metadata": {},
   "outputs": [],
   "source": []
  },
  {
   "cell_type": "markdown",
   "id": "e34e98e9",
   "metadata": {},
   "source": [
    "Podemos também recuperar uma amosta aleatória do nosso Dataframe. Para isso, usamos o [`sample`](https://pandas.pydata.org/pandas-docs/stable/reference/api/pandas.DataFrame.sample.html)."
   ]
  },
  {
   "cell_type": "code",
   "execution_count": null,
   "id": "ed4d422d",
   "metadata": {},
   "outputs": [],
   "source": [
    "df_reimbursements.sample()"
   ]
  },
  {
   "cell_type": "markdown",
   "id": "04ac3026",
   "metadata": {},
   "source": [
    "## Como podemos fazer para visualizar 5 amostras aleatórias?"
   ]
  },
  {
   "cell_type": "code",
   "execution_count": null,
   "id": "fbde4877",
   "metadata": {},
   "outputs": [],
   "source": []
  },
  {
   "cell_type": "markdown",
   "id": "be0725bb",
   "metadata": {
    "id": "3LhB4RCUVMm7"
   },
   "source": [
    "#### Dicionário de Dados"
   ]
  },
  {
   "cell_type": "markdown",
   "id": "792b06d1",
   "metadata": {
    "id": "vvvTZj4BVeU_"
   },
   "source": [
    "Um passo importante para dar antes de começar a análisar é entender os dados que estamos manipulando. \n",
    "\n",
    "*Sempre procure o significado dos campos, procure entender quais os tipos de dados preenchem aquele campo. São dados numéricos? São caracteres? Não palavras usadas para categorizar/classificar os dados?*"
   ]
  },
  {
   "cell_type": "markdown",
   "id": "18d86a62",
   "metadata": {
    "id": "MC-aJ8YviZNb"
   },
   "source": [
    "| Elemento de Dado          | Nome do Dado                           | Definição do Dado                                                                                                                                                                                                                                                                                                                                                                                                                   |   |   |\n",
    "|---------------------------|----------------------------------------|-------------------------------------------------------------------------------------------------------------------------------------------------------------------------------------------------------------------------------------------------------------------------------------------------------------------------------------------------------------------------------------------------------------------------------------|---|---|\n",
    "| txNomeParlamentar         | Nome Parlamentar                       | Nome adotado pelo Parlamentar ao tomar posse do seu mandato. Compõe-se de dois elementos: um prenome e o nome; dois nomes; ou dois prenomes, salvo, a juízo do Presidente da Casa legislativa, que poderá alterar essa regra para que não ocorram confusões.                                                                                                                                                                        |   |   |\n",
    "| ideCadastro               | Identificador Único do Parlamentar     | Número que identifica unicamente um deputado federal na CD.                                                                                                                                                                                                                                                                                                                                                                         |   |   |\n",
    "| nuCarteiraParlamentar     | Número da  Carteira Parlamentar        | Documento usado para identificar um deputado federal na CD. Pode alterar a cada Legislatura nova.                                                                                                                                                                                                                                                                                                                                   |   |   |\n",
    "| nuLegislatura             | Número da  Legislatura                 | No contexto da cota CEAP, representa o ano base de início da legislatura e é utilizado para compor a Carteira Parlamentar, pois esta poderá ser alterada à medida que se muda de Legislatura.                                                                                                                                     |   |   |\n",
    "| sgUF                      | Sigla da UF                            | No contexto da cota CEAP, representa a unidade da federação pela qual o deputado foi eleito e é utilizada para definir o valor da cota a que o deputado tem.                                                                                                                                                                                                                                                                        |   |   |\n",
    "| sgPartido                 | Sigla do Partido                       | O seu conteúdo representa a sigla de um partido. Tem personalidade jurídica de direito privado e goza de autonomia e liberdade no que diz respeito à criação, organização e funcionamento, observados os princípios e preceitos constitucionais. |   |   |\n",
    "| codLegislatura            | Código da Legislatura                  | No contexto da cota CEAP, o seu conteúdo representa o código identificador da Legislatura, que um número ordinal sequencial, alterado de um em um, a cada início de uma nova Legislatura (por exemplo, a Legislatura que iniciou em 2011 é a 54ª Legislatura).                                                                    |   |   |\n",
    "| numSubCota                | Número da Subcota                      | No contexto da Cota CEAP, o conteúdo deste dado representa o código do Tipo de Despesa referente à despesa realizada pelo deputado e comprovada por meio da emissão de um documento fiscal, a qual é debitada na cota do deputado.                                                                                                                                                                                                  |   |   |\n",
    "| txtDescricao              | Descrição da Subcota                   | O seu conteúdo é a descrição do Tipo de Despesa relativo à despesa em questão.                                                                                                                                                                                                                                                                                                                                                      |   |   |\n",
    "| numEspecificacaoSubCota   | Número da Especificação da Subcota     | No contexto da Cota CEAP, há despesas cujo Tipo de Despesa necessita ter uma especificação mais detalhada (por exemplo, “Combustível”). O conteúdo deste dado representa o código desta especificação mais detalhada.                                                                                                                                                                                                               |   |   |\n",
    "| txtDescricaoEspecificacao | Descrição da Especificação da Subcota  | Representa a descrição  especificação mais detalhada de um referido Tipo de Despesa.                                                                                                                                                                                                                                                                                                                                                |   |   |\n",
    "| txtFornecedor             | Fornecedor                             | O conteúdo deste dado representa o nome do fornecedor do produto ou serviço presente no documento fiscal                                                                                                                                                                                                                                                                                                                            |   |   |\n",
    "| txtCNPJCPF                | CNPJ/CPF                               | O conteúdo deste dado representa o CNPJ ou o CPF do emitente do documento fiscal, quando se tratar do uso da cota em razão do reembolso despesas comprovadas pela emissão de documentos fiscais.                                                                                                                                                                                                                                    |   |   |\n",
    "| txtNumero                 | Número do Documento                    | O conteúdo deste dado representa o número de face do documento fiscal emitido ou o número do documento que deu causa à despesa debitada na cota do deputado.                                                                                                                                                                                                                                                                        |   |   |\n",
    "| indTipoDocumento          | Indicativo de Tipo de Documento Fiscal | Este dado representa o tipo de documento do fiscal – 0 (Zero), para Nota Fiscal; 1 (um), para Recibo; e 2, para Despesa no Exterior.                                                                                                                                                                                                                                                                                                |   |   |\n",
    "| datEmissao                | Data de Emissão                        | O conteúdo deste dado é a data de emissão do documento fiscal ou a data do documento que tenha dado causa à despesa.                                                                                                                                                                                                                                                                                                                |   |   |\n",
    "| vlrDocumento              | Valor do Documento                     | O seu conteúdo é o valor de face do documento fiscal ou o valor do documento que deu causa à despesa. Quando se tratar de bilhete aéreo, esse valor poderá ser negativo, significando que o referido bilhete é um bilhete de compensação, pois compensa um outro bilhete emitido e não utilizado pelo deputado (idem para o dado vlrLiquido abaixo).                                                                                |   |   |\n",
    "| vlrGlosa                  | Valor da Glosa                         | O seu conteúdo representa o valor da glosa do documento fiscal que incidirá sobre o Valor do Documento, ou o valor da glosa do documento que deu causa à despesa.                                                                                                                                                                                                                                                                   |   |   |\n",
    "| vlrLiquido                | Valor Líquido                          | O seu conteúdo representa o valor líquido do documento fiscal ou do documento que deu causa à despesa e será calculado pela diferença entre o Valor do Documento e o Valor da Glosa. É este valor que será debitado da cota do deputado. Caso o débito seja do Tipo Telefonia e o valor seja igual a zero, significa que a despesa foi franqueada.                                                                                  |   |   |\n",
    "| numMes                    | Mês                                    | O seu conteúdo representa o Mês da competência financeira do documento fiscal ou do documento que deu causa à despesa. É utilizado, junto com o ano, para determinar em que período o débito gerará efeito financeiro sobre a cota.                                                                                                                                                                                                 |   |   |\n",
    "| numAno                    | Ano                                    | O seu conteúdo representa o Ano da competência financeira do documento fiscal ou do documento que deu causa à despesa. É utilizado, junto com o mês, para determinar em que período o débito gerará efeito financeiro sobre a cota.                                                                                                                                                                                                 |   |   |\n",
    "| numParcela                | Número da Parcela                      | O seu conteúdo representa o número da parcela do documento fiscal. Ocorre quando o documento tem de ser reembolsado de forma parcelada.                                                                                                                                                                                                                                                                                             |   |   |\n",
    "| txtPassageiro             | Passageiro                             | O conteúdo deste dado representa o nome do passageiro, quando o documento que deu causa à despesa se tratar de emissão de bilhete aéreo.                                                                                                                                                                                                                                                                                            |   |   |\n",
    "| txtTrecho                 | Trecho                                 | O conteúdo deste dado representa o trecho da viagem, quando o documento que deu causa à despesa se tratar de emissão de bilhete aéreo.                                                                                                                                                                                                                                                                                              |   |   |\n",
    "| numLote                   | Número do Lote                         | No contexto da Cota CEAP, o Número do Lote representa uma capa de lote que agrupa os documentos que serão entregues à Câmara para serem ressarcidos. Este dado, juntamente com o Número do Ressarcimento, auxilia a localização do documento no Arquivo da Casa.                                                                                                                                                                    |   |   |\n",
    "| numRessarcimento          | Número do Ressarcimento                | No contexto da Cota CEAP, o Número do Ressarcimento indica o ressarcimento do qual o documento fez parte por ocasião do processamento do seu reembolso. Este dado, juntamente com o Valor da Restituição, auxilia a localização do documento no Arquivo da Casa.                                                                                                                                                                 |   |   |\n",
    "|  vlrRestituicao           |  Valor da Restituição                  |  O seu conteúdo representa o valor restituído do documento fiscal que incidirá sobre o Valor do Documento.                                                                                                                                                                                                                                                                                                                          |   |   |\n",
    "| nuDeputadoId              | Identificador do Solicitante           | Número que identifica um Parlamentar ou Liderança na Transparência da Cota para Exercício da Atividade Parlamentar.                                                                                                                                                                                                                                                                                                                 |   |   |\n",
    "\n",
    "\n",
    "Legislatura: Período de quatro anos coincidente com o mandato parlamentar dos Deputados Federais.\n",
    "\n",
    "Definição de partido: é uma organização formada por pessoas com interesse ou ideologia comuns, que se associam com o fim de assumir o poder para implantar um programa de governo. \n",
    "\n",
    "*Fonte*: [EXPLICAÇÕES SOBRE O FORMATO DOS ARQUIVOS XML](https://www2.camara.leg.br/transparencia/cota-para-exercicio-da-atividade-parlamentar/explicacoes-sobre-o-formato-dos-arquivos-xml)"
   ]
  },
  {
   "cell_type": "markdown",
   "id": "571f663b",
   "metadata": {
    "id": "9V6UrEjQiS4S"
   },
   "source": [
    "### Aula 04: Organizando e visualizando os dados"
   ]
  },
  {
   "cell_type": "markdown",
   "id": "ec281944",
   "metadata": {},
   "source": [
    "Vamos conhecer mais algumas operações que podem nos ajudar a visualizar e entender nossos dados."
   ]
  },
  {
   "cell_type": "code",
   "execution_count": null,
   "id": "012f95e4",
   "metadata": {},
   "outputs": [],
   "source": [
    "df_reimbursements.tail()"
   ]
  },
  {
   "cell_type": "code",
   "execution_count": null,
   "id": "b353d004",
   "metadata": {},
   "outputs": [],
   "source": [
    "df_reimbursements.shape"
   ]
  },
  {
   "cell_type": "code",
   "execution_count": null,
   "id": "7a9dfa57",
   "metadata": {},
   "outputs": [],
   "source": [
    "df_reimbursements.info()"
   ]
  },
  {
   "cell_type": "code",
   "execution_count": null,
   "id": "33def82f",
   "metadata": {},
   "outputs": [],
   "source": [
    "df_reimbursements.columns"
   ]
  },
  {
   "cell_type": "markdown",
   "id": "6f9c817f",
   "metadata": {},
   "source": [
    "#### Preenchendo valores nulos"
   ]
  },
  {
   "cell_type": "code",
   "execution_count": null,
   "id": "08d71122",
   "metadata": {
    "colab": {
     "base_uri": "https://localhost:8080/",
     "height": 462
    },
    "id": "StprWX3WdrFh",
    "outputId": "5436707a-d0f6-45f7-ccbe-52246c4cb3b6"
   },
   "outputs": [],
   "source": [
    "df_reimbursements.fillna(value=\"Não se aplica\").head()"
   ]
  },
  {
   "cell_type": "code",
   "execution_count": null,
   "id": "bcb39dca",
   "metadata": {},
   "outputs": [],
   "source": [
    "df_reimbursements[df_reimbursements.sgPartido.isna()]"
   ]
  },
  {
   "cell_type": "code",
   "execution_count": null,
   "id": "345ec402",
   "metadata": {},
   "outputs": [],
   "source": [
    "df_reimbursements[df_reimbursements['ideDocumento'].isnull()]"
   ]
  },
  {
   "cell_type": "markdown",
   "id": "d338eea5",
   "metadata": {},
   "source": [
    "#### Informando tipos na leitura dos dados\n",
    "\n",
    "Quando trabalhamos com pandas, é sempre interessante entender que tipos de dados estão contidos em cada coluna. Na leitura do arquivo podemos aproveitar para deixar isso configurado.\n",
    "\n",
    "Isso pode ser extramamente útil quando estamos lendo dados que contém informação sobre documentos, como CPF. Nesses casos podemos ter algo como `091777777`, se esse valor por lido como um número, ele vai virar `91777777`, já que não existe número que inicie com 0. Esse é um ótimo exemplo de dado que deve ser lido como um string, para que ele seja preservado ao máximo. \n",
    "\n",
    "Agora, sabendo quais dados nosso dataframe possui, vamos definir o tipo para cada um."
   ]
  },
  {
   "cell_type": "code",
   "execution_count": null,
   "id": "c022f1c8",
   "metadata": {},
   "outputs": [],
   "source": [
    "DTYPE = {\n",
    "    'txNomeParlamentar': str,\n",
    "    'ideCadastro': str,\n",
    "    'nuCarteiraParlamentar': str,\n",
    "    'nuLegislatura': str,\n",
    "    'sgUF': str,\n",
    "    'sgPartido': str,\n",
    "    'codLegislatura': str,\n",
    "    'numSubCota': str,\n",
    "    'txtDescricao': str,\n",
    "    'numEspecificacaoSubCota': str,\n",
    "    'txtDescricaoEspecificacao': str,\n",
    "    'txtFornecedor': str,\n",
    "    'txtCNPJCPF': str,\n",
    "    'txtNumero': str,\n",
    "    'indTipoDocumento': str,\n",
    "    'datEmissao': str,\n",
    "    'vlrDocumento': float,\n",
    "    'vlrGlosa': str,\n",
    "    'vlrLiquido': float,\n",
    "    'numMes': str,\n",
    "    'numAno': str,\n",
    "    'numParcela': str,\n",
    "    'txtPassageiro': str,\n",
    "    'txtTrecho': str,\n",
    "    'numLote': str,\n",
    "    'numRessarcimento': str,\n",
    "    'nuDeputadoId': str,\n",
    "    'ideDocumento': str,\n",
    "}\n",
    "\n",
    "df_reimbursements = pd.read_csv(\n",
    "    \"reembolso-2019/Ano-2019.csv\", \n",
    "    delimiter=\";\", \n",
    "    dtype=DTYPE, \n",
    "    low_memory=False\n",
    ")"
   ]
  },
  {
   "cell_type": "markdown",
   "id": "b5377bd8",
   "metadata": {},
   "source": [
    "Opa! Você lembra qual método podemos usar para conferir os tipos de cada coluna?\n",
    "**dica**: já passamos por esse método..."
   ]
  },
  {
   "cell_type": "code",
   "execution_count": null,
   "id": "e02c7464",
   "metadata": {},
   "outputs": [],
   "source": []
  },
  {
   "cell_type": "markdown",
   "id": "f048cb6e",
   "metadata": {},
   "source": [
    "#### astype"
   ]
  },
  {
   "cell_type": "code",
   "execution_count": null,
   "id": "a68a72f8",
   "metadata": {},
   "outputs": [],
   "source": [
    "# df_reimbursements[\"ideCadastro\"] = df_reimbursements[\"ideCadastro\"].astype('string')"
   ]
  },
  {
   "cell_type": "markdown",
   "id": "51e672ae",
   "metadata": {},
   "source": [
    "#### to_datetime\n",
    "\n",
    "Por default, o `to_datetime()` vai converter string no formato `MM/DD`, `MMDD` ou `MM-DD`. No nosso caso, as datas estão em um formato diferente, por isso, vamos passar como argumento do `format`o valor `%Y-%m-%d`, informando que as datas possuem primeiro o *ano* completo (ex.: 2020), *mês (ex.: 05), e dia (ex.: 12). "
   ]
  },
  {
   "cell_type": "code",
   "execution_count": null,
   "id": "8bf65f61",
   "metadata": {
    "scrolled": false
   },
   "outputs": [],
   "source": [
    "df_reimbursements[\"datEmissao\"] = pd.to_datetime(\n",
    "    df_reimbursements.datEmissao, \n",
    "    format='%Y-%m-%d'\n",
    ") "
   ]
  },
  {
   "cell_type": "markdown",
   "id": "ede6366c",
   "metadata": {},
   "source": [
    "Caso essa conversão gere algum erro, você pode informar ao pandas como ele deve lidar com isso. O `to_datetime()` possue o argumento `errors`, que pode receber `ignore` caso você queria que os erros sejam ignorados, ou `coerce` caso você queria que os valores inválidos recebam `NaT`."
   ]
  },
  {
   "cell_type": "markdown",
   "id": "c942b33f",
   "metadata": {},
   "source": [
    "##### Para quem quiser saber mais!\n",
    "\n",
    "Você deve estar se perguntando o porquê dessa conversão utilizando o `to_datetime`. _O que ganhamos com isso?_ Existem várias vantagens do Pandas entender que uma coluna é uma data. Uma dessas vantagens é que você vai poder trabalhar com os dados como uma série temporal, ou seja, um conjunto de registros ao longo do tempo. \n",
    "\n",
    "Os reembolsos se encaixam bem nisso... pense só, nossos dados são um conjunto de pedidos de reembolsos solicitados ao longo de um ano. Quando convertemos o dados para um datetime, podemos realizar algumas operações que só são possíveis com datas. Por exemplo, podemos selecionar uma janela de tempo:"
   ]
  },
  {
   "cell_type": "code",
   "execution_count": null,
   "id": "f19fbf56",
   "metadata": {},
   "outputs": [],
   "source": [
    "df_reimbursements.set_index(\"datEmissao\").loc[\"2020-01-01\":\"2020-04-30\"]"
   ]
  },
  {
   "cell_type": "markdown",
   "id": "2cf004ba",
   "metadata": {},
   "source": [
    "Outras coisas são possíveis, como encontrar o dia da semana de cada uma dessas datas, calcular a média móvel, calcular quantos anos se passaram, ou agrupar os dados por janelas de tempo."
   ]
  },
  {
   "cell_type": "markdown",
   "id": "e8bb3954",
   "metadata": {},
   "source": [
    "#### Completando, substituindo e reformatando"
   ]
  },
  {
   "cell_type": "code",
   "execution_count": null,
   "id": "72548aa5",
   "metadata": {},
   "outputs": [],
   "source": [
    "# vamos trocar qualquer caracter que não seja um dígito número por '', essa operação remove os dígitos\n",
    "df_reimbursements[\"txtCNPJCPF\"] = df_reimbursements[\"txtCNPJCPF\"].str.replace(r'\\D', '', regex=True)"
   ]
  },
  {
   "cell_type": "code",
   "execution_count": null,
   "id": "7c31b966",
   "metadata": {},
   "outputs": [],
   "source": [
    "# Este dado representa o tipo de documento do fiscal – \n",
    "# 0 (Zero), para Nota Fiscal; 1 (um), para Recibo; e 2, para Despesa no Exterior.\n",
    "\n",
    "df_reimbursements.indTipoDocumento.unique()"
   ]
  },
  {
   "cell_type": "code",
   "execution_count": null,
   "id": "5166905a",
   "metadata": {},
   "outputs": [],
   "source": [
    "converters = {\n",
    "    \"0\": 'nota_fiscal',\n",
    "    \"1\": 'recibo',\n",
    "    \"2\": 'despesa_exterior',\n",
    "    \"4\": None\n",
    "}\n",
    "\n",
    "converters"
   ]
  },
  {
   "cell_type": "code",
   "execution_count": null,
   "id": "0b7a82b2",
   "metadata": {},
   "outputs": [],
   "source": [
    "df_reimbursements.indTipoDocumento.replace(converters, inplace=True)"
   ]
  },
  {
   "cell_type": "code",
   "execution_count": null,
   "id": "f521b74b",
   "metadata": {},
   "outputs": [],
   "source": [
    "df_reimbursements.indTipoDocumento.unique()"
   ]
  },
  {
   "cell_type": "markdown",
   "id": "644512e6",
   "metadata": {},
   "source": [
    "### Aula 07: Dados da Receita Federal"
   ]
  },
  {
   "cell_type": "markdown",
   "id": "3e91ef9d",
   "metadata": {},
   "source": [
    "Referencias:\n",
    "\n",
    "- http://receita.economia.gov.br/sobre/acordos-e-convenios/compartilhamento-de-bases-de-dados-2013-decreto-no-8-789-2016/leiaute-das-bases/dados-da-base-cnpj\n",
    "- http://200.152.38.155/CNPJ/LAYOUT_DADOS_ABERTOS_CNPJ.pdf\n",
    "\n",
    "\n",
    "situation (Situação cadastral)\n",
    "\n",
    "    1 – NULA: o CNPJ torna-se inválido, seja por inconformidade de dados, fraudes ou outros motivos.\n",
    "    2 – ATIVA: significa que a empresa está em dia com todas as suas pendências, não há nenhuma irregularidade e os pagamentos estão em dia;\n",
    "    3 – SUSPENSA: a empresa tem pendências com a Receita Federal, não cumpriu com suas obrigações ou pagamentos ou está sendo investigada por possível fraude;\n",
    "    4 – INAPTA: a empresa está a dois anos ou mais com suspensão e não apresentou os devidos dados contábeis;\n",
    "    8 – BAIXADA: a empresa foi extinta, seja por solicitação dos sócios ou por ação da Receita;\n",
    "    \n",
    "    \n",
    "situation_date (Data da situação cadastral): DATA DO EVENTO DA SITUACAO CADASTRAL"
   ]
  },
  {
   "cell_type": "code",
   "execution_count": null,
   "id": "8bd54633",
   "metadata": {},
   "outputs": [],
   "source": [
    "DTYPE = {\n",
    "    'cnpj': str,\n",
    "}\n",
    "\n",
    "df_empresas = pd.read_csv(\n",
    "    '2019-11-19-companies.csv.xz', \n",
    "    compression='xz',\n",
    "    dtype=DTYPE,  \n",
    ")\n",
    "df_empresas.head(1)"
   ]
  },
  {
   "cell_type": "code",
   "execution_count": null,
   "id": "b37a6a71",
   "metadata": {},
   "outputs": [],
   "source": [
    "df_empresas['situation_date'] = pd.to_datetime(\n",
    "    df_empresas['situation_date'], \n",
    "    format=\"%Y-%m-%d\"\n",
    ")"
   ]
  },
  {
   "cell_type": "code",
   "execution_count": null,
   "id": "fe66149b",
   "metadata": {},
   "outputs": [],
   "source": [
    "df_empresas[\"cnpj\"] = df_empresas[\"cnpj\"].str.replace(r'\\D', '', regex=True)"
   ]
  },
  {
   "cell_type": "markdown",
   "id": "ce90ab8d",
   "metadata": {},
   "source": [
    "### Aula 8: Receita Federal e CEAP"
   ]
  },
  {
   "cell_type": "code",
   "execution_count": null,
   "id": "7b86ed96",
   "metadata": {},
   "outputs": [],
   "source": [
    "df_final = df_reimbursements.merge(\n",
    "    df_empresas,\n",
    "    how='left',\n",
    "    left_on='txtCNPJCPF',\n",
    "    right_on='cnpj'\n",
    ")"
   ]
  },
  {
   "cell_type": "markdown",
   "id": "f4f63b07",
   "metadata": {},
   "source": [
    "### Exportando o resultado"
   ]
  },
  {
   "cell_type": "code",
   "execution_count": null,
   "id": "8cd4db3d",
   "metadata": {},
   "outputs": [],
   "source": [
    "df_reimbursements.to_csv('reembolso-2019-completo.csv')"
   ]
  }
 ],
 "metadata": {
  "kernelspec": {
   "display_name": "Python 3 (ipykernel)",
   "language": "python",
   "name": "python3"
  },
  "language_info": {
   "codemirror_mode": {
    "name": "ipython",
    "version": 3
   },
   "file_extension": ".py",
   "mimetype": "text/x-python",
   "name": "python",
   "nbconvert_exporter": "python",
   "pygments_lexer": "ipython3",
   "version": "3.8.2"
  },
  "toc": {
   "base_numbering": 1,
   "nav_menu": {},
   "number_sections": true,
   "sideBar": true,
   "skip_h1_title": false,
   "title_cell": "Table of Contents",
   "title_sidebar": "Contents",
   "toc_cell": false,
   "toc_position": {
    "height": "calc(100% - 180px)",
    "left": "10px",
    "top": "150px",
    "width": "165px"
   },
   "toc_section_display": true,
   "toc_window_display": true
  }
 },
 "nbformat": 4,
 "nbformat_minor": 5
}
