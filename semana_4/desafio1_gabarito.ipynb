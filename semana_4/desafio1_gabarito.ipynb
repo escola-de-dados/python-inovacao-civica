{
 "cells": [
  {
   "cell_type": "code",
   "execution_count": null,
   "id": "dc04f15f",
   "metadata": {},
   "outputs": [],
   "source": [
    "# import requests\n",
    "\n",
    "# url = \"http://www.camara.leg.br/cotas/Ano-2019.csv.zip\"\n",
    "# r = requests.get(url)"
   ]
  },
  {
   "cell_type": "code",
   "execution_count": null,
   "id": "30bfb747",
   "metadata": {},
   "outputs": [],
   "source": [
    "# file = open(\"Ano-2019.csv.zip\", \"wb\")\n",
    "# file.write(r.content)\n",
    "# file.close()"
   ]
  },
  {
   "cell_type": "code",
   "execution_count": null,
   "id": "eda30677",
   "metadata": {},
   "outputs": [],
   "source": [
    "# from zipfile import ZipFile\n",
    "\n",
    "# zip_file = ZipFile(\"Ano-2019.csv.zip\", 'r')"
   ]
  },
  {
   "cell_type": "code",
   "execution_count": null,
   "id": "b50ab3c9",
   "metadata": {},
   "outputs": [],
   "source": [
    "# zip_file.extract(member=\"Ano-2019.csv\", path=\"reembolso-2019\")"
   ]
  },
  {
   "cell_type": "code",
   "execution_count": null,
   "id": "432107d5",
   "metadata": {},
   "outputs": [],
   "source": [
    "# zip_file.close()"
   ]
  },
  {
   "cell_type": "code",
   "execution_count": null,
   "id": "911add05",
   "metadata": {},
   "outputs": [],
   "source": [
    "import pandas as pd"
   ]
  },
  {
   "cell_type": "code",
   "execution_count": null,
   "id": "c25fc19f",
   "metadata": {},
   "outputs": [],
   "source": [
    "DTYPE = {\n",
    "    'txNomeParlamentar': str,\n",
    "    'ideCadastro': str,\n",
    "    'nuCarteiraParlamentar': str,\n",
    "    'nuLegislatura': str,\n",
    "    'sgUF': str,\n",
    "    'sgPartido': str,\n",
    "    'codLegislatura': str,\n",
    "    'numSubCota': str,\n",
    "    'txtDescricao': str,\n",
    "    'numEspecificacaoSubCota': str,\n",
    "    'txtDescricaoEspecificacao': str,\n",
    "    'txtFornecedor': str,\n",
    "    'txtCNPJCPF': str,\n",
    "    'txtNumero': str,\n",
    "    'indTipoDocumento': str,\n",
    "    'datEmissao': str,\n",
    "    'vlrDocumento': float,\n",
    "    'vlrGlosa': str,\n",
    "    'vlrLiquido': float,\n",
    "    'numMes': str,\n",
    "    'numAno': str,\n",
    "    'numParcela': str,\n",
    "    'txtPassageiro': str,\n",
    "    'txtTrecho': str,\n",
    "    'numLote': str,\n",
    "    'numRessarcimento': str,\n",
    "    'nuDeputadoId': str,\n",
    "    'ideDocumento': str,\n",
    "}\n",
    "\n",
    "df_reembolso = pd.read_csv(\"reembolso-2019/Ano-2019.csv\", sep=\";\", dtype=DTYPE) "
   ]
  },
  {
   "cell_type": "code",
   "execution_count": null,
   "id": "1fccfa53",
   "metadata": {},
   "outputs": [],
   "source": [
    "df_reembolso.head(1)"
   ]
  },
  {
   "cell_type": "code",
   "execution_count": null,
   "id": "606e81d1",
   "metadata": {},
   "outputs": [],
   "source": [
    "df_reembolso.sample(10)"
   ]
  },
  {
   "cell_type": "code",
   "execution_count": null,
   "id": "5ba31b61",
   "metadata": {},
   "outputs": [],
   "source": [
    "filtro_partido_null = df_reembolso.cpf.isna()\n",
    "# filtro_partido_null = df_reembolso['sg-Partido'].isna()\n",
    "\n",
    "df_reembolso.loc[filtro_partido_null, \"cpf\"] = \"0000000\""
   ]
  },
  {
   "cell_type": "code",
   "execution_count": null,
   "id": "cbfd3d72",
   "metadata": {},
   "outputs": [],
   "source": [
    "df_reembolso.head()"
   ]
  },
  {
   "cell_type": "code",
   "execution_count": null,
   "id": "74183b04",
   "metadata": {},
   "outputs": [],
   "source": [
    "# df_reembolso[\"datEmissao\"]"
   ]
  },
  {
   "cell_type": "code",
   "execution_count": null,
   "id": "56661e8f",
   "metadata": {},
   "outputs": [],
   "source": [
    "df_reembolso[\"datEmissao\"] = pd.to_datetime(df_reembolso[\"datEmissao\"], format=\"%Y-%m-%d\") "
   ]
  },
  {
   "cell_type": "code",
   "execution_count": null,
   "id": "8f2ef22a",
   "metadata": {},
   "outputs": [],
   "source": [
    "# pegando dados do final de semana\n",
    "# df_reembolso[\"datEmissao\"].dt.dayofweek < 5"
   ]
  },
  {
   "cell_type": "code",
   "execution_count": null,
   "id": "4860dddb",
   "metadata": {},
   "outputs": [],
   "source": [
    "df_reembolso[\"txtCNPJCPF\"] = df_reembolso[\"txtCNPJCPF\"].str.replace(r'\\D', '', regex=True)"
   ]
  },
  {
   "cell_type": "code",
   "execution_count": null,
   "id": "876c963b",
   "metadata": {},
   "outputs": [],
   "source": [
    "df_reembolso[\"txtCNPJCPF\"]"
   ]
  },
  {
   "cell_type": "code",
   "execution_count": null,
   "id": "ac581be3",
   "metadata": {},
   "outputs": [],
   "source": [
    "# usando a opção de normalizar o resultado do value_counts\n",
    "# também ordenamos por ordem decrescente\n",
    "df_reembolso.txtDescricao.value_counts(normalize=True).sort_values(ascending=False).to_frame().head(10)"
   ]
  },
  {
   "cell_type": "code",
   "execution_count": null,
   "id": "66f48c24",
   "metadata": {},
   "outputs": [],
   "source": [
    "df_reembolso[\"vlrLiquido\"].describe()"
   ]
  },
  {
   "cell_type": "code",
   "execution_count": null,
   "id": "9827a0d2",
   "metadata": {},
   "outputs": [],
   "source": [
    "# usamos 2 filtros aqui, para txtDescricao e para vlrLiquido\n",
    "\n",
    "filtro_cat_alim = df_reembolso.txtDescricao == 'FORNECIMENTO DE ALIMENTAÇÃO DO PARLAMENTAR'\n",
    "filtro_vlr_max = df_reembolso.vlrLiquido > 5000\n",
    "\n",
    "df_reembolso[(filtro_cat_alim) & (filtro_vlr_max)]"
   ]
  },
  {
   "cell_type": "code",
   "execution_count": null,
   "id": "487f126c",
   "metadata": {},
   "outputs": [],
   "source": [
    "# aqui nós agrupamos por partido, UF e nome do parlamentar. \n",
    "# Somamos o vlrLiquido considerando os grupos gerados pelo groupby\n",
    "# ordenamos de forma decrescente \n",
    "\n",
    "df_reembolso.groupby(\n",
    "    ['sgPartido', 'sgUF', 'txNomeParlamentar']\n",
    ")[\"vlrLiquido\"].sum().sort_values(ascending=False).to_frame()"
   ]
  },
  {
   "cell_type": "code",
   "execution_count": null,
   "id": "94567091",
   "metadata": {},
   "outputs": [],
   "source": [
    "# aqui nós configuramos para o pandas mostrar números decimais considerando somente\n",
    "# 2 casas decimais depois do ponto \n",
    "pd.options.display.float_format = '{:,.2f}'.format\n",
    "\n",
    "# agrupamos os dados por txtCNPJCPF e txtFornecedor. \n",
    "# somamos o vlrLiquido considerando o grupo resultante pelo groupby\n",
    "# nós pegamos tbm só os 10 primeiros itens através do [:10]\n",
    "df_reembolso.groupby(['txtCNPJCPF', 'txtFornecedor'])['vlrLiquido'].sum().sort_values(\n",
    "    ascending=False\n",
    ").to_frame()[:10]"
   ]
  },
  {
   "cell_type": "markdown",
   "id": "80ad2e17",
   "metadata": {},
   "source": [
    "###  Receita Federal"
   ]
  },
  {
   "cell_type": "code",
   "execution_count": null,
   "id": "2d0b28cb",
   "metadata": {},
   "outputs": [],
   "source": [
    "DTYPE = {\n",
    "    'cnpj': str\n",
    "}\n",
    "\n",
    "df_empresas = pd.read_csv(\n",
    "    '2019-11-19-companies.csv',\n",
    "    dtype=DTYPE,  \n",
    ")"
   ]
  },
  {
   "cell_type": "code",
   "execution_count": null,
   "id": "91cf0627",
   "metadata": {},
   "outputs": [],
   "source": [
    "# usamos essa configuração para o pandas mostrar todas as colunas do dataframe. \n",
    "# se preferir, mude ela para o início do notebook, pq essa configuração só vale\n",
    "# depois que vc executar esse comando\n",
    "pd.set_option('display.max_columns', None)"
   ]
  },
  {
   "cell_type": "code",
   "execution_count": null,
   "id": "dd9a6bc4",
   "metadata": {},
   "outputs": [],
   "source": [
    "df_empresas.head(1)"
   ]
  },
  {
   "cell_type": "code",
   "execution_count": null,
   "id": "c41f0347",
   "metadata": {},
   "outputs": [],
   "source": [
    "# fizemos o merge da tabela df_reembolso com df_empresas.\n",
    "# LEMBRANDO: \n",
    "# df_reembolso é considerada a tabela da esquerda, então ela é a left.\n",
    "# df_empresas é considerada a tabela da direita, então ela é a right.\n",
    "df_final = df_reembolso.merge(\n",
    "    df_empresas, \n",
    "    how='left', \n",
    "    left_on='txtCNPJCPF', \n",
    "    right_on='cnpj'\n",
    ")"
   ]
  },
  {
   "cell_type": "code",
   "execution_count": null,
   "id": "fc25e551",
   "metadata": {},
   "outputs": [],
   "source": [
    "df_final[['txtCNPJCPF', 'cnpj']]"
   ]
  },
  {
   "cell_type": "code",
   "execution_count": null,
   "id": "859555bb",
   "metadata": {},
   "outputs": [],
   "source": [
    "# situation == 8 significa empresa que está BAIXADA\n",
    "f = df_final.situation == 8 \n",
    "\n",
    "df_final[f].shape"
   ]
  },
  {
   "cell_type": "code",
   "execution_count": null,
   "id": "d0208071",
   "metadata": {
    "scrolled": true
   },
   "outputs": [],
   "source": [
    "# datEmissao é a coluna que informa a data em que o gasto foi feito (vem da base da CEAP)\n",
    "# situation_date é a coluna que informa a data em que a empresa ficou com a situação da coluna situation (vem da Receita Federal)\n",
    "df_final[\"datEmissao\"] = pd.to_datetime(df_final[\"datEmissao\"], format=\"%Y-%m-%d\") \n",
    "df_final['situation_date'] = pd.to_datetime(df_final[\"situation_date\"], format=\"%Y-%m-%d\") "
   ]
  },
  {
   "cell_type": "markdown",
   "id": "e81c14ce",
   "metadata": {},
   "source": [
    "Lembrando, se temos `datEmissao` como `02/10/2020` e `situation_date` como `01/10/2020`, o python/pandas vai entender que `datEmissao` contém uma data posterior a `situation_date`, logo, é uma _data maior_. Por isso podemos fazer algo como `datEmissao` > `situation_date`, isso vai ser verdadeiro se a `datEmissao` for uma data que veio depois de `situation_date`."
   ]
  },
  {
   "cell_type": "code",
   "execution_count": null,
   "id": "386eee41",
   "metadata": {},
   "outputs": [],
   "source": [
    "# aqui vamos pesquisar se a data do gasto veio depois da data em que a empresa mudou de situação\n",
    "# vamos agrupar por txNomeParlamentar\n",
    "# aplicamos count em ideCadastro e sum em vlrLiquido\n",
    "# ordenamos o resultado por vlrLiquido\n",
    "(\n",
    "    df_final[f].query('datEmissao > situation_date')\n",
    "    .groupby('txNomeParlamentar')\n",
    "    .agg({'ideCadastro': 'count', 'vlrLiquido': 'sum'})\n",
    "    .sort_values(by='vlrLiquido', ascending=False)\n",
    "    .reset_index()\n",
    ")"
   ]
  },
  {
   "cell_type": "code",
   "execution_count": null,
   "id": "9f8257fd",
   "metadata": {},
   "outputs": [],
   "source": [
    "df_final.columns"
   ]
  },
  {
   "cell_type": "code",
   "execution_count": null,
   "id": "ca9f4925",
   "metadata": {},
   "outputs": [],
   "source": [
    "(\n",
    "    df_final[f].query('datEmissao > situation_date')\n",
    "    .groupby(['txNomeParlamentar', 'txtFornecedor', 'situation'])['ideCadastro'].count()\n",
    "    .sort_values(ascending=False).to_frame()\n",
    ")"
   ]
  }
 ],
 "metadata": {
  "kernelspec": {
   "display_name": "Python 3",
   "language": "python",
   "name": "python3"
  },
  "language_info": {
   "codemirror_mode": {
    "name": "ipython",
    "version": 3
   },
   "file_extension": ".py",
   "mimetype": "text/x-python",
   "name": "python",
   "nbconvert_exporter": "python",
   "pygments_lexer": "ipython3",
   "version": "3.7.4"
  }
 },
 "nbformat": 4,
 "nbformat_minor": 5
}
