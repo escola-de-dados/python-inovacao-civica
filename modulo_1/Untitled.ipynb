{
 "cells": [
  {
   "cell_type": "code",
   "execution_count": 4,
   "id": "8ed8f08c",
   "metadata": {},
   "outputs": [],
   "source": [
    "import pandas as pd\n",
    "import glob"
   ]
  },
  {
   "cell_type": "code",
   "execution_count": 5,
   "id": "520a2815",
   "metadata": {},
   "outputs": [
    {
     "name": "stdout",
     "output_type": "stream",
     "text": [
      "['conjunto_dados\\\\consulta_cand_2020_PE.csv', 'conjunto_dados\\\\consulta_cand_2020_RN.csv']\n"
     ]
    }
   ],
   "source": [
    "lista_arquivos = glob.glob('conjunto_dados/*.csv')\n",
    "print(lista_arquivos)"
   ]
  },
  {
   "cell_type": "code",
   "execution_count": 7,
   "id": "cd507c20",
   "metadata": {},
   "outputs": [],
   "source": [
    "lista_df = []"
   ]
  },
  {
   "cell_type": "code",
   "execution_count": 9,
   "id": "d165a27f",
   "metadata": {},
   "outputs": [],
   "source": [
    "for csv in lista_arquivos:\n",
    "    df = pd.read_csv(csv, sep=';', encoding='latin1')\n",
    "    lista_df.append(df)"
   ]
  },
  {
   "cell_type": "code",
   "execution_count": 10,
   "id": "c0657c53",
   "metadata": {},
   "outputs": [],
   "source": [
    "candidaturas_PE_RN = pd.concat(lista_df, axis=0, ignore_index=True)"
   ]
  }
 ],
 "metadata": {
  "kernelspec": {
   "display_name": "Python 3 (ipykernel)",
   "language": "python",
   "name": "python3"
  },
  "language_info": {
   "codemirror_mode": {
    "name": "ipython",
    "version": 3
   },
   "file_extension": ".py",
   "mimetype": "text/x-python",
   "name": "python",
   "nbconvert_exporter": "python",
   "pygments_lexer": "ipython3",
   "version": "3.9.5"
  }
 },
 "nbformat": 4,
 "nbformat_minor": 5
}
