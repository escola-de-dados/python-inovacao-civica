{
 "cells": [
  {
   "cell_type": "markdown",
   "id": "97a2694e",
   "metadata": {},
   "source": [
    "### Dicas\n",
    "\n",
    "*   Antes de ir pro código, leia a descrição do desafio e busque definir pequenos passos para chegar a solução.  \n",
    "*   Leia o código para se familiarizar com a solução que está em desenvolvimento;\n",
    "\n",
    "*  Tente entender o que o código faz ou significa. \n",
    "\n",
    "*  Busque encontrar as partes que faltam ser colocadas e erros no código que precisam ser corrigidos;\n",
    "\n",
    "*  Se aparecer erros, procure corrigir e/ou repita os passos acima.\n",
    "\n",
    "\n",
    "\n",
    "# 1. Desafio: dicionário\n",
    "\n",
    "Utilizando o conhecimento que obtivemos essa semana, utilize o Google Colab ou o Jupyter Notebook  para fazer um programa que consiga responder às seguintes perguntas:\n",
    "\n",
    "1. Quantas pessoas candidatas no estado de Pernambuco seriam mais novas do que você?\n",
    "2. Quantos porcentos isso representa em relação ao total de pessoas candidatas?\n",
    "\n",
    "Dica: Use como referência a coluna \"NR_IDADE_DATA_POSSE\" do conjunto de dados \"consulta_cand_2020_PE_desafio1.csv\"\n",
    "\n",
    "\n",
    "> Fonte: TSE. Repositório de dados eleitorais. Conjunto de dados [Candidatos - 2020](https://www.tse.jus.br/eleicoes/estatisticas/repositorio-de-dados-eleitorais-1)"
   ]
  },
  {
   "cell_type": "markdown",
   "id": "623268b2",
   "metadata": {},
   "source": [
    "### Importe as bibliotecas que usuará no código"
   ]
  },
  {
   "cell_type": "code",
   "execution_count": null,
   "id": "287a13e3",
   "metadata": {},
   "outputs": [],
   "source": []
  },
  {
   "cell_type": "markdown",
   "id": "bfc5092a",
   "metadata": {},
   "source": [
    "### Determine sua idade"
   ]
  },
  {
   "cell_type": "code",
   "execution_count": null,
   "id": "acb8de62",
   "metadata": {},
   "outputs": [],
   "source": []
  },
  {
   "cell_type": "markdown",
   "id": "4ae99d52",
   "metadata": {},
   "source": [
    "### Leia o csv e converta para dicionário"
   ]
  },
  {
   "cell_type": "code",
   "execution_count": null,
   "id": "ad03e5a6",
   "metadata": {},
   "outputs": [],
   "source": []
  },
  {
   "cell_type": "markdown",
   "id": "6dfee1eb",
   "metadata": {},
   "source": [
    "###  Quantas pessoas candidatas no estado de Pernambuco seriam mais novas do que você "
   ]
  },
  {
   "cell_type": "code",
   "execution_count": null,
   "id": "af79eec9",
   "metadata": {},
   "outputs": [],
   "source": []
  },
  {
   "cell_type": "markdown",
   "id": "68ce6ce5",
   "metadata": {},
   "source": [
    "### Quantos porcentos isso representa em relação ao total de pessoas candidatas."
   ]
  },
  {
   "cell_type": "code",
   "execution_count": null,
   "id": "336e0593",
   "metadata": {},
   "outputs": [],
   "source": []
  }
 ],
 "metadata": {
  "kernelspec": {
   "display_name": "Python 3",
   "language": "python",
   "name": "python3"
  },
  "language_info": {
   "codemirror_mode": {
    "name": "ipython",
    "version": 3
   },
   "file_extension": ".py",
   "mimetype": "text/x-python",
   "name": "python",
   "nbconvert_exporter": "python",
   "pygments_lexer": "ipython3",
   "version": "3.8.10"
  }
 },
 "nbformat": 4,
 "nbformat_minor": 5
}
