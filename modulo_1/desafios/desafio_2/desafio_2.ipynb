{
 "cells": [
  {
   "cell_type": "markdown",
   "id": "91612634",
   "metadata": {},
   "source": [
    "### Dicas\n",
    "\n",
    "*   Antes de ir pro código, leia a descrição do desafio e busque definir pequenos passos para chegar a solução.  \n",
    "*   Leia o código para se familiarizar com a solução que está em desenvolvimento;\n",
    "\n",
    "*  Tente entender o que o código faz ou significa. \n",
    "\n",
    "*  Busque encontrar as partes que faltam ser colocadas e erros no código que precisam ser corrigidos;\n",
    "\n",
    "*  Se aparecer erros, procure corrigir e/ou repita os passos acima.\n",
    "\n",
    "\n",
    "\n",
    "# 2. Desafio: pré-processamento e análise de dados\n",
    "\n",
    "Utilizando o conhecimento que obtivemos essa semana, utilize o Google Colab ou o Jupyter Notebook  para fazer um programa que consiga responder às seguintes perguntas:\n",
    "\n",
    "1. Qual foi a maior doação de pessoa física e pessoa jurídica em cada estado?\n",
    "2. Qual o valor médio das doações por tipo de entidade (pessoa física e pessoa jurídica)?\n",
    "3. Qual o total de doações recebidas por partido?\n",
    "\n",
    "Dica: Use conjunto de dados \"receitas_orgaos_partidarios_2020_NORDESTE.csv\"\n",
    "\n",
    "> Fonte: TSE. Repositório de dados eleitorais. Conjunto de dados [Orgão Partidário: receita - órgãos partidários - 2020](https://www.tse.jus.br/eleicoes/estatisticas/repositorio-de-dados-eleitorais-1)"
   ]
  },
  {
   "cell_type": "markdown",
   "id": "4bffcccc",
   "metadata": {},
   "source": [
    "### Importe todas as bibliotecas que você usará"
   ]
  },
  {
   "cell_type": "code",
   "execution_count": null,
   "id": "0c5cdae5",
   "metadata": {},
   "outputs": [],
   "source": []
  },
  {
   "cell_type": "markdown",
   "id": "c4d77b4c",
   "metadata": {},
   "source": [
    "### Pré-processe os dados antes de começar a análise"
   ]
  },
  {
   "cell_type": "code",
   "execution_count": null,
   "id": "bf4cc169",
   "metadata": {},
   "outputs": [],
   "source": []
  },
  {
   "cell_type": "markdown",
   "id": "4782edee",
   "metadata": {},
   "source": [
    "### Qual foi a maior doação de pessoa física e pessoa jurídica em cada estado?\n"
   ]
  },
  {
   "cell_type": "code",
   "execution_count": null,
   "id": "7d335d34",
   "metadata": {},
   "outputs": [],
   "source": []
  },
  {
   "cell_type": "markdown",
   "id": "689f0db4",
   "metadata": {},
   "source": [
    "### Qual o valor médio das doações por tipo de entidade?"
   ]
  },
  {
   "cell_type": "code",
   "execution_count": null,
   "id": "36662b1b",
   "metadata": {},
   "outputs": [],
   "source": []
  },
  {
   "cell_type": "markdown",
   "id": "a24d8f14",
   "metadata": {},
   "source": [
    "### Qual o total de doações recebidas por partido?"
   ]
  },
  {
   "cell_type": "code",
   "execution_count": null,
   "id": "bd11991f",
   "metadata": {},
   "outputs": [],
   "source": []
  }
 ],
 "metadata": {
  "kernelspec": {
   "display_name": "Python 3",
   "language": "python",
   "name": "python3"
  },
  "language_info": {
   "codemirror_mode": {
    "name": "ipython",
    "version": 3
   },
   "file_extension": ".py",
   "mimetype": "text/x-python",
   "name": "python",
   "nbconvert_exporter": "python",
   "pygments_lexer": "ipython3",
   "version": "3.8.10"
  }
 },
 "nbformat": 4,
 "nbformat_minor": 5
}
