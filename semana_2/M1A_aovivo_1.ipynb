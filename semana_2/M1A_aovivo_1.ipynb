{
 "cells": [
  {
   "cell_type": "markdown",
   "id": "3f0a94d4",
   "metadata": {},
   "source": [
    "Exercícios\n",
    "- Crie uma lista numérica do intervalo\n",
    "- Se o número for divísivel por 3, substitua o número por \"Tecnologia\"\n",
    "- Se o número for divísivel por 5, substitua-o por \"Cívica\"\n",
    "- Se o número for divisível por 3 e 5, subsitua-o por \"Tecnologia Cívica\""
   ]
  },
  {
   "cell_type": "code",
   "execution_count": 43,
   "id": "757990f7",
   "metadata": {},
   "outputs": [
    {
     "name": "stdout",
     "output_type": "stream",
     "text": [
      "Insira um número positivo: 5\n"
     ]
    }
   ],
   "source": [
    "numero_1 = int(input(\"Insira um número positivo: \"))"
   ]
  },
  {
   "cell_type": "code",
   "execution_count": 50,
   "id": "46e252d6",
   "metadata": {},
   "outputs": [
    {
     "name": "stdout",
     "output_type": "stream",
     "text": [
      "Insira outra número positivo: 17\n"
     ]
    }
   ],
   "source": [
    "numero_2 = int(input(\"Insira outra número positivo: \"))"
   ]
  },
  {
   "cell_type": "code",
   "execution_count": 51,
   "id": "61d3253e",
   "metadata": {},
   "outputs": [],
   "source": [
    "lista = list(range(numero_1,numero_2))"
   ]
  },
  {
   "cell_type": "code",
   "execution_count": 46,
   "id": "ba8a8fa9",
   "metadata": {},
   "outputs": [
    {
     "name": "stdout",
     "output_type": "stream",
     "text": [
      "[5, 6, 7, 8, 9, 10, 11, 12, 13, 14, 15]\n"
     ]
    }
   ],
   "source": [
    "print(lista)"
   ]
  },
  {
   "cell_type": "code",
   "execution_count": 56,
   "id": "8e3a0e35",
   "metadata": {},
   "outputs": [],
   "source": [
    "lista_atualizada = []"
   ]
  },
  {
   "cell_type": "code",
   "execution_count": 57,
   "id": "86b584f7",
   "metadata": {},
   "outputs": [],
   "source": [
    "for numero in lista:\n",
    "    if numero % 3 == 0 and numero % 5 == 0:\n",
    "        lista_atualizada.append('Tecnologia Cívica')\n",
    "    elif numero % 3 == 0:\n",
    "        lista_atualizada.append('Tecnologia')\n",
    "    elif numero % 5 == 0:\n",
    "        lista_atualizada.append('Cívica')    \n",
    "    else: \n",
    "        lista_atualizada.append(numero)"
   ]
  },
  {
   "cell_type": "code",
   "execution_count": 58,
   "id": "53cf131f",
   "metadata": {},
   "outputs": [
    {
     "name": "stdout",
     "output_type": "stream",
     "text": [
      "['Cívica', 'Tecnologia', 7, 8, 'Tecnologia', 'Cívica', 11, 'Tecnologia', 13, 14, 'Tecnologia Cívica', 16]\n"
     ]
    }
   ],
   "source": [
    "print(lista_atualizada)"
   ]
  },
  {
   "cell_type": "code",
   "execution_count": null,
   "id": "00ccaf3d",
   "metadata": {},
   "outputs": [],
   "source": []
  }
 ],
 "metadata": {
  "kernelspec": {
   "display_name": "Python 3 (ipykernel)",
   "language": "python",
   "name": "python3"
  },
  "language_info": {
   "codemirror_mode": {
    "name": "ipython",
    "version": 3
   },
   "file_extension": ".py",
   "mimetype": "text/x-python",
   "name": "python",
   "nbconvert_exporter": "python",
   "pygments_lexer": "ipython3",
   "version": "3.9.5"
  }
 },
 "nbformat": 4,
 "nbformat_minor": 5
}
