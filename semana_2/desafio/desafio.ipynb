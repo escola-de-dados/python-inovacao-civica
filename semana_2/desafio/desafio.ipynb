{
 "cells": [
  {
   "cell_type": "markdown",
   "id": "9241d5d0",
   "metadata": {},
   "source": [
    "# Limpeza de dados e estatística descritiva\n",
    "\n",
    "Neste desafio, iremos revisar alguns conceitos vistos nas aulas e ver algumas novidades. Os dados originais são do [repositório de dados eleitorais do Tribunal Superior Eleitoral](https://www.tse.jus.br/eleicoes/estatisticas/repositorio-de-dados-eleitorais-1). \n",
    "\n",
    "O CSV disponibilizado é formado pela conjunção de algumas tabelas do arquivo [orgao_partidario.zip](https://cdn.tse.jus.br/estatistica/sead/odsele/orgao_partidario/orgao_partidario.zip), localizado no menu Partidos > Órgão Partidário.\n",
    "\n",
    "Preencha as lacunas abaixo para completar o desafio."
   ]
  },
  {
   "cell_type": "markdown",
   "id": "e00ae0ef",
   "metadata": {},
   "source": [
    "# Importe os pacotes necessários"
   ]
  },
  {
   "cell_type": "code",
   "execution_count": 5,
   "id": "18e51491",
   "metadata": {},
   "outputs": [],
   "source": [
    "import pandas as pd\n",
    "import numpy as np"
   ]
  },
  {
   "cell_type": "markdown",
   "id": "d1f28e32",
   "metadata": {},
   "source": [
    "# Leia o arquivo \"receitas_orgaos_partidarios_2020_NORDESTE.csv\" usando o Pandas\n",
    "\n",
    "Na aula `1.10 - Outliers e valores faltantes`, vimos como utilizar o método `replace` para substituir valores em certos colunas do nosso dataframe e trocar o texto (string) `#NULO#` pela representação padrão do Pandas para valores nulos.\n",
    "\n",
    "Aqui, vamos utilizar um outro método, onde definimos quais strings serão considerados valores nulos já na importação do arquivo.\n",
    "\n",
    "Edite as células abaixo e inclua:\n",
    "\n",
    "* O nome do arquivo que queremos importar\n",
    "* O separador utilizado\n",
    "* Insira uma lista no parâmetro `na_values` que contenha o texto a ser ignorado.\n",
    "\n",
    "Experimente rodar os comandos primeiro sem e depois com o parâmetro `na_values`, então, compare a diferença. Observe, por exemplo, o campo `CD_CNAE_DOADOR`."
   ]
  },
  {
   "cell_type": "code",
   "execution_count": 10,
   "id": "9e57c20b",
   "metadata": {},
   "outputs": [
    {
     "name": "stdout",
     "output_type": "stream",
     "text": [
      "<class 'pandas.core.frame.DataFrame'>\n",
      "RangeIndex: 12874 entries, 0 to 12873\n",
      "Data columns (total 48 columns):\n",
      " #   Column                       Non-Null Count  Dtype \n",
      "---  ------                       --------------  ----- \n",
      " 0   DT_GERACAO                   12874 non-null  object\n",
      " 1   HH_GERACAO                   12874 non-null  object\n",
      " 2   ANO_ELEICAO                  12874 non-null  int64 \n",
      " 3   CD_TIPO_ELEICAO              12874 non-null  int64 \n",
      " 4   NM_TIPO_ELEICAO              12874 non-null  object\n",
      " 5   TP_PRESTACAO_CONTAS          12874 non-null  object\n",
      " 6   DT_PRESTACAO_CONTAS          12874 non-null  object\n",
      " 7   SQ_PRESTADOR_CONTAS          12874 non-null  int64 \n",
      " 8   CD_ESFERA_PARTIDARIA         12874 non-null  object\n",
      " 9   DS_ESFERA_PARTIDARIA         12874 non-null  object\n",
      " 10  SG_UF                        12874 non-null  object\n",
      " 11  CD_MUNICIPIO                 12874 non-null  int64 \n",
      " 12  NM_MUNICIPIO                 12874 non-null  object\n",
      " 13  NR_CNPJ_PRESTADOR_CONTA      12874 non-null  int64 \n",
      " 14  NR_PARTIDO                   12874 non-null  int64 \n",
      " 15  SG_PARTIDO                   12874 non-null  object\n",
      " 16  NM_PARTIDO                   12874 non-null  object\n",
      " 17  CD_FONTE_RECEITA             12874 non-null  int64 \n",
      " 18  DS_FONTE_RECEITA             12874 non-null  object\n",
      " 19  CD_ORIGEM_RECEITA            12874 non-null  int64 \n",
      " 20  DS_ORIGEM_RECEITA            12874 non-null  object\n",
      " 21  CD_NATUREZA_RECEITA          12874 non-null  int64 \n",
      " 22  DS_NATUREZA_RECEITA          12874 non-null  object\n",
      " 23  CD_ESPECIE_RECEITA           12874 non-null  int64 \n",
      " 24  DS_ESPECIE_RECEITA           12874 non-null  object\n",
      " 25  CD_CNAE_DOADOR               12874 non-null  int64 \n",
      " 26  DS_CNAE_DOADOR               12874 non-null  object\n",
      " 27  NR_CPF_CNPJ_DOADOR           12874 non-null  int64 \n",
      " 28  NM_DOADOR                    12874 non-null  object\n",
      " 29  NM_DOADOR_RFB                12874 non-null  object\n",
      " 30  CD_ESFERA_PARTIDARIA_DOADOR  12874 non-null  object\n",
      " 31  DS_ESFERA_PARTIDARIA_DOADOR  12874 non-null  object\n",
      " 32  SG_UF_DOADOR                 12874 non-null  object\n",
      " 33  CD_MUNICIPIO_DOADOR          12874 non-null  int64 \n",
      " 34  NM_MUNICIPIO_DOADOR          12874 non-null  object\n",
      " 35  SQ_CANDIDATO_DOADOR          12874 non-null  int64 \n",
      " 36  NR_CANDIDATO_DOADOR          12874 non-null  int64 \n",
      " 37  CD_CARGO_CANDIDATO_DOADOR    12874 non-null  int64 \n",
      " 38  DS_CARGO_CANDIDATO_DOADOR    12874 non-null  object\n",
      " 39  NR_PARTIDO_DOADOR            12874 non-null  int64 \n",
      " 40  SG_PARTIDO_DOADOR            12874 non-null  object\n",
      " 41  NM_PARTIDO_DOADOR            12874 non-null  object\n",
      " 42  NR_RECIBO_DOACAO             12874 non-null  object\n",
      " 43  NR_DOCUMENTO_DOACAO          12874 non-null  object\n",
      " 44  SQ_RECEITA                   12874 non-null  int64 \n",
      " 45  DT_RECEITA                   12874 non-null  object\n",
      " 46  DS_RECEITA                   12874 non-null  object\n",
      " 47  VR_RECEITA                   12874 non-null  int64 \n",
      "dtypes: int64(19), object(29)\n",
      "memory usage: 4.7+ MB\n"
     ]
    }
   ],
   "source": [
    "df = pd.read_csv('receitas_orgaos_partidarios_2020_NORDESTE.csv',sep=';')\n",
    "\n",
    "df.info()"
   ]
  },
  {
   "cell_type": "code",
   "execution_count": 12,
   "id": "a5b57043",
   "metadata": {},
   "outputs": [
    {
     "name": "stdout",
     "output_type": "stream",
     "text": [
      "<class 'pandas.core.frame.DataFrame'>\n",
      "RangeIndex: 12874 entries, 0 to 12873\n",
      "Data columns (total 48 columns):\n",
      " #   Column                       Non-Null Count  Dtype \n",
      "---  ------                       --------------  ----- \n",
      " 0   DT_GERACAO                   12874 non-null  object\n",
      " 1   HH_GERACAO                   12874 non-null  object\n",
      " 2   ANO_ELEICAO                  12874 non-null  int64 \n",
      " 3   CD_TIPO_ELEICAO              12874 non-null  int64 \n",
      " 4   NM_TIPO_ELEICAO              12874 non-null  object\n",
      " 5   TP_PRESTACAO_CONTAS          12874 non-null  object\n",
      " 6   DT_PRESTACAO_CONTAS          12874 non-null  object\n",
      " 7   SQ_PRESTADOR_CONTAS          12874 non-null  int64 \n",
      " 8   CD_ESFERA_PARTIDARIA         12874 non-null  object\n",
      " 9   DS_ESFERA_PARTIDARIA         12874 non-null  object\n",
      " 10  SG_UF                        12874 non-null  object\n",
      " 11  CD_MUNICIPIO                 12874 non-null  int64 \n",
      " 12  NM_MUNICIPIO                 11606 non-null  object\n",
      " 13  NR_CNPJ_PRESTADOR_CONTA      12874 non-null  int64 \n",
      " 14  NR_PARTIDO                   12874 non-null  int64 \n",
      " 15  SG_PARTIDO                   12874 non-null  object\n",
      " 16  NM_PARTIDO                   12874 non-null  object\n",
      " 17  CD_FONTE_RECEITA             12874 non-null  int64 \n",
      " 18  DS_FONTE_RECEITA             12874 non-null  object\n",
      " 19  CD_ORIGEM_RECEITA            12874 non-null  int64 \n",
      " 20  DS_ORIGEM_RECEITA            12874 non-null  object\n",
      " 21  CD_NATUREZA_RECEITA          12874 non-null  int64 \n",
      " 22  DS_NATUREZA_RECEITA          12874 non-null  object\n",
      " 23  CD_ESPECIE_RECEITA           12874 non-null  int64 \n",
      " 24  DS_ESPECIE_RECEITA           12874 non-null  object\n",
      " 25  CD_CNAE_DOADOR               12874 non-null  int64 \n",
      " 26  DS_CNAE_DOADOR               5977 non-null   object\n",
      " 27  NR_CPF_CNPJ_DOADOR           12874 non-null  int64 \n",
      " 28  NM_DOADOR                    12785 non-null  object\n",
      " 29  NM_DOADOR_RFB                12784 non-null  object\n",
      " 30  CD_ESFERA_PARTIDARIA_DOADOR  3233 non-null   object\n",
      " 31  DS_ESFERA_PARTIDARIA_DOADOR  3233 non-null   object\n",
      " 32  SG_UF_DOADOR                 5976 non-null   object\n",
      " 33  CD_MUNICIPIO_DOADOR          12874 non-null  int64 \n",
      " 34  NM_MUNICIPIO_DOADOR          3162 non-null   object\n",
      " 35  SQ_CANDIDATO_DOADOR          12874 non-null  int64 \n",
      " 36  NR_CANDIDATO_DOADOR          12874 non-null  int64 \n",
      " 37  CD_CARGO_CANDIDATO_DOADOR    12874 non-null  int64 \n",
      " 38  DS_CARGO_CANDIDATO_DOADOR    2743 non-null   object\n",
      " 39  NR_PARTIDO_DOADOR            12874 non-null  int64 \n",
      " 40  SG_PARTIDO_DOADOR            5976 non-null   object\n",
      " 41  NM_PARTIDO_DOADOR            5976 non-null   object\n",
      " 42  NR_RECIBO_DOACAO             10955 non-null  object\n",
      " 43  NR_DOCUMENTO_DOACAO          9020 non-null   object\n",
      " 44  SQ_RECEITA                   12874 non-null  int64 \n",
      " 45  DT_RECEITA                   12874 non-null  object\n",
      " 46  DS_RECEITA                   3301 non-null   object\n",
      " 47  VR_RECEITA                   12874 non-null  int64 \n",
      "dtypes: int64(19), object(29)\n",
      "memory usage: 4.7+ MB\n"
     ]
    }
   ],
   "source": [
    "df = pd.read_csv('receitas_orgaos_partidarios_2020_NORDESTE.csv',sep=';',na_values='#NULO#')\n",
    "\n",
    "df.info()"
   ]
  },
  {
   "cell_type": "markdown",
   "id": "a3aeef40",
   "metadata": {},
   "source": [
    "# Filtre apenas os registros que sejam da prestação de contas final\n"
   ]
  },
  {
   "cell_type": "code",
   "execution_count": 13,
   "id": "620a2dce",
   "metadata": {},
   "outputs": [
    {
     "data": {
      "text/plain": [
       "array(['Final', 'Relatório Financeiro', 'Parcial',\n",
       "       'Regularização da Omissão'], dtype=object)"
      ]
     },
     "execution_count": 13,
     "metadata": {},
     "output_type": "execute_result"
    }
   ],
   "source": [
    "# Primeiro vamos ver os valores únicos da coluna TP_PRESTACAO_CONTAS\n",
    "\n",
    "df['TP_PRESTACAO_CONTAS'].unique()"
   ]
  },
  {
   "cell_type": "code",
   "execution_count": 14,
   "id": "b7932426",
   "metadata": {},
   "outputs": [
    {
     "data": {
      "text/plain": [
       "(12874, 48)"
      ]
     },
     "execution_count": 14,
     "metadata": {},
     "output_type": "execute_result"
    }
   ],
   "source": [
    "# O resultado deste comando nos diz que quantas linhas e colunas temos antes do filtro\n",
    "df.shape"
   ]
  },
  {
   "cell_type": "code",
   "execution_count": 15,
   "id": "14624854",
   "metadata": {},
   "outputs": [],
   "source": [
    "# Preencha o campo os espaços abaixo com o nome da coluna e o valor desejado para nosso filtro\n",
    "df_final = df[df['TP_PRESTACAO_CONTAS'] == 'Final'].copy()"
   ]
  },
  {
   "cell_type": "code",
   "execution_count": 16,
   "id": "3d1b1468",
   "metadata": {},
   "outputs": [
    {
     "data": {
      "text/plain": [
       "(12288, 48)"
      ]
     },
     "execution_count": 16,
     "metadata": {},
     "output_type": "execute_result"
    }
   ],
   "source": [
    "# Rode o comando shape no novo dataframe criado e confira se o número de linhas foi reduzido\n",
    "df_final.shape\n",
    "\n"
   ]
  },
  {
   "cell_type": "markdown",
   "id": "cc88d16d",
   "metadata": {},
   "source": [
    "## Qual foi a maior doação de pessoa física e pessoa jurídica em cada estado?\n",
    "\n",
    "Vamos usar o método `value_counts` para não só listar cada valor único da coluna `CD_CNAE_DOADOR`, como também mostrar quantos registros temos em cada um."
   ]
  },
  {
   "cell_type": "code",
   "execution_count": 17,
   "id": "d6a91338",
   "metadata": {},
   "outputs": [
    {
     "data": {
      "text/plain": [
       "-1        6509\n",
       " 94928    5735\n",
       " 94308      37\n",
       " 14126       3\n",
       " 62023       1\n",
       " 17311       1\n",
       " 84116       1\n",
       " 94995       1\n",
       "Name: CD_CNAE_DOADOR, dtype: int64"
      ]
     },
     "execution_count": 17,
     "metadata": {},
     "output_type": "execute_result"
    }
   ],
   "source": [
    "# Preencha o nome da coluna abaixo\n",
    "df_final['CD_CNAE_DOADOR'].value_counts()"
   ]
  },
  {
   "cell_type": "code",
   "execution_count": 18,
   "id": "b3f26cfa",
   "metadata": {},
   "outputs": [
    {
     "data": {
      "text/plain": [
       "-1        0.529704\n",
       " 94928    0.466715\n",
       " 94308    0.003011\n",
       " 14126    0.000244\n",
       " 62023    0.000081\n",
       " 17311    0.000081\n",
       " 84116    0.000081\n",
       " 94995    0.000081\n",
       "Name: CD_CNAE_DOADOR, dtype: float64"
      ]
     },
     "execution_count": 18,
     "metadata": {},
     "output_type": "execute_result"
    }
   ],
   "source": [
    "# Para ver os resultados em percentuais é fácil! Basta falarmos para o value_counts que queremos os resultados normalizados\n",
    "df_final['CD_CNAE_DOADOR'].value_counts(normalize=True)"
   ]
  },
  {
   "cell_type": "markdown",
   "id": "8802b973",
   "metadata": {},
   "source": [
    "Se o doador for pessoa jurídica, temos seu respectivo código CNAE. Se for pessoa física, então temos o valor `-1`. \n",
    "\n",
    "Qual conclusão podemos tirar a respeito dos comandos acima?\n",
    "\n",
    "Escreva um **comentário** na célula abaixo com a resposta."
   ]
  },
  {
   "cell_type": "code",
   "execution_count": 11,
   "id": "f6ef0508",
   "metadata": {},
   "outputs": [],
   "source": [
    "# Mais de 50 por cento das doações vieram de pessoas físicas"
   ]
  },
  {
   "cell_type": "markdown",
   "id": "c9379e82",
   "metadata": {},
   "source": [
    "Agora, vamos duplicar a coluna `CD_CNAE_DOADOR` e deixar esta nova coluna apenas com 2 categorias: física (representada pelo valor -1) ou jurídica (que vamos representar inicialmente com 1)."
   ]
  },
  {
   "cell_type": "code",
   "execution_count": 20,
   "id": "e6253e99",
   "metadata": {
    "scrolled": true
   },
   "outputs": [
    {
     "data": {
      "text/plain": [
       "(12288, 49)"
      ]
     },
     "execution_count": 20,
     "metadata": {},
     "output_type": "execute_result"
    }
   ],
   "source": [
    "# Vamos criar uma nova coluna que seja uma cópia exata da coluna CD_CNAE_DOADOR\n",
    "df_final['TIPO_DOADOR'] = df_final['CD_CNAE_DOADOR']\n",
    "df_final.shape"
   ]
  },
  {
   "cell_type": "markdown",
   "id": "88eb5056",
   "metadata": {},
   "source": [
    "## Substituição condicional (conditional replacing)\n",
    "\n",
    "Agora, vamos usar o método where do pacote NumPy (carinhosamente chamado de np abaixo).\n",
    "\n",
    "Esta função recebe três parâmetros:\n",
    "\n",
    "* Uma condição: no nosso caso, queremos que filtrar as coluna do CNAE onde os valores sejam -1\n",
    "* Um valor: caso a condição acima seja verdadeira, qual valor deverá ser retornado?\n",
    "* Outro valor: se a condição for falsa, então, qual outro valor deverá ser retornado?\n"
   ]
  },
  {
   "cell_type": "code",
   "execution_count": 25,
   "id": "476e9da4",
   "metadata": {},
   "outputs": [
    {
     "name": "stdout",
     "output_type": "stream",
     "text": [
      "0           -1\n",
      "1           -1\n",
      "2        94928\n",
      "3        94928\n",
      "4        94928\n",
      "         ...  \n",
      "12869    94928\n",
      "12870       -1\n",
      "12871    94928\n",
      "12872       -1\n",
      "12873    94928\n",
      "Name: CD_CNAE_DOADOR, Length: 12288, dtype: int64 0          fisica\n",
      "1          fisica\n",
      "2        juridica\n",
      "3        juridica\n",
      "4        juridica\n",
      "           ...   \n",
      "12869    juridica\n",
      "12870      fisica\n",
      "12871    juridica\n",
      "12872      fisica\n",
      "12873    juridica\n",
      "Name: TIPO_DOADOR, Length: 12288, dtype: object\n"
     ]
    }
   ],
   "source": [
    "df_final['TIPO_DOADOR'] = np.where(df_final['CD_CNAE_DOADOR']==-1, 'fisica', 'juridica')\n",
    "print(df_final['CD_CNAE_DOADOR'],df_final['TIPO_DOADOR'])"
   ]
  },
  {
   "cell_type": "markdown",
   "id": "5c5acdb1",
   "metadata": {},
   "source": [
    "## Agrupando (group by)"
   ]
  },
  {
   "cell_type": "code",
   "execution_count": null,
   "id": "e8a5fa77",
   "metadata": {},
   "outputs": [],
   "source": [
    "# Preencha abaixo primeiro uma lista com as 3 colunas que precisamos utilizar para responder à pergunta. E depois o nome das 2 colunas que precisamos agrupar.\n",
    "\n",
    "df_final[______].groupby(by=______).max()"
   ]
  },
  {
   "cell_type": "code",
   "execution_count": 1,
   "id": "33876c0c",
   "metadata": {},
   "outputs": [],
   "source": [
    "# Para repetir o valor da coluna TIPO_DOADOR nas linhas, coloque o parâmetro as_index=False no método groupby do comando acima\n",
    "\n"
   ]
  },
  {
   "cell_type": "markdown",
   "id": "6b150f10",
   "metadata": {},
   "source": [
    "## Qual o total de doações recebidas por partido?"
   ]
  },
  {
   "cell_type": "code",
   "execution_count": null,
   "id": "8fb2c674",
   "metadata": {},
   "outputs": [],
   "source": [
    "df_final[__________].groupby(by=_____).___()"
   ]
  },
  {
   "cell_type": "markdown",
   "id": "3c50eb92",
   "metadata": {},
   "source": [
    "## Qual é o top 10?\n",
    "\n",
    "Crie um novo dataframe com os 10 partidos com mais doações. Você precisa primeiro ordenar os resultados e depois selecionar apenas os 10 primeiros.\n",
    "\n"
   ]
  },
  {
   "cell_type": "code",
   "execution_count": null,
   "id": "1d63c732",
   "metadata": {},
   "outputs": [],
   "source": [
    "df_final[__________].groupby(by=_____).___().sort_values(by='____',ascending=______).head(___)"
   ]
  },
  {
   "cell_type": "markdown",
   "id": "d735e2dd",
   "metadata": {},
   "source": [
    "# Vamos visualizar os resultados?\n",
    "Na aula, nós vimos como usar o matplotlib para gerar gráficos. Agora, vamos descobrir uma nova forma de fazer o mesmo usando um método nativo Pandas. Experimente colocar `.plot(kind='barh')` após a consulta ou dataframe anterior.\n",
    "\n",
    "Com este comando, podemos produzir um gráfico (plot) do tipo (kind) de barras horizontais (barh)."
   ]
  },
  {
   "cell_type": "code",
   "execution_count": null,
   "id": "57c29016",
   "metadata": {},
   "outputs": [],
   "source": [
    "df_final[__________].groupby(by=_____).___().sort_values(by='____',ascending=______).head(___).plot(kind='barh')"
   ]
  },
  {
   "cell_type": "markdown",
   "id": "362c0969",
   "metadata": {},
   "source": [
    "## Qual o valor médio das doações por tipo de doador?\n",
    "\n",
    "Agora é sua vez! A partir dos comandos anteriores, faça uma nova consulta para descobrir a mediana de acordo com o tipo de doador."
   ]
  },
  {
   "cell_type": "code",
   "execution_count": null,
   "id": "c4143556",
   "metadata": {},
   "outputs": [],
   "source": []
  },
  {
   "cell_type": "markdown",
   "id": "b29fc90f",
   "metadata": {},
   "source": [
    "# Entreviste você mesmo"
   ]
  },
  {
   "cell_type": "markdown",
   "id": "709d46c6",
   "metadata": {},
   "source": [
    "Escreva abaixo pelo menos outras três perguntas que podem ser feitas à base de dados. Escreva a pergunta como um comentário acima do código com a consulta em Python."
   ]
  },
  {
   "cell_type": "markdown",
   "id": "801f50eb",
   "metadata": {},
   "source": []
  }
 ],
 "metadata": {
  "interpreter": {
   "hash": "916dbcbb3f70747c44a77c7bcd40155683ae19c65e1c03b4aa3499c5328201f1"
  },
  "kernelspec": {
   "display_name": "Python 3 (ipykernel)",
   "language": "python",
   "name": "python3"
  },
  "language_info": {
   "codemirror_mode": {
    "name": "ipython",
    "version": 3
   },
   "file_extension": ".py",
   "mimetype": "text/x-python",
   "name": "python",
   "nbconvert_exporter": "python",
   "pygments_lexer": "ipython3",
   "version": "3.9.6"
  }
 },
 "nbformat": 4,
 "nbformat_minor": 5
}
