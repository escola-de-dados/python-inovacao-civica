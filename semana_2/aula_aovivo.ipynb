{
  "nbformat": 4,
  "nbformat_minor": 5,
  "metadata": {
    "kernelspec": {
      "display_name": "Python 3",
      "language": "python",
      "name": "python3"
    },
    "language_info": {
      "codemirror_mode": {
        "name": "ipython",
        "version": 3
      },
      "file_extension": ".py",
      "mimetype": "text/x-python",
      "name": "python",
      "nbconvert_exporter": "python",
      "pygments_lexer": "ipython3",
      "version": "3.8.10"
    },
    "colab": {
      "name": "aula_aovivo.ipynb",
      "provenance": [],
      "collapsed_sections": []
    }
  },
  "cells": [
    {
      "cell_type": "markdown",
      "metadata": {
        "id": "7187e3e9"
      },
      "source": [
        "# Escola de Dados - Python para inovação cívica\n",
        "\n",
        "Os dados que usaremos nesse notebook pode ser encontrado em: [TSE. Candidaturas em 2016 e 2020](https://www.tse.jus.br/eleicoes/estatisticas/repositorio-de-dados-eleitorais-1).\n",
        "\n",
        "Trabalharemos com os dados referentes as candidaturas nos estados de Pernambuco e Rio Grande do Norte.\n",
        "\n",
        "------\n",
        "Pontos para aula:\n",
        "\n",
        "Quantas candidaturas houveram em cada ano agrupado por gênero ? \n",
        "Qual a faixa etária média das pessoas candidatas?\n",
        "Há correlação entre idade, gênero e custo da campanha?\n",
        "Visualização gráfica da distribuição da variável DS_COR_RACA em 2016"
      ],
      "id": "7187e3e9"
    },
    {
      "cell_type": "code",
      "metadata": {
        "id": "6a996d66"
      },
      "source": [
        "import matplotlib.pyplot as plt\n",
        "import pandas as pd\n",
        "import glob"
      ],
      "id": "6a996d66",
      "execution_count": null,
      "outputs": []
    },
    {
      "cell_type": "code",
      "metadata": {
        "id": "bc0a96bc",
        "outputId": "c2025c1f-8c99-4885-9de1-710564ea7d19"
      },
      "source": [
        "dados_pe_rn = glob.glob('base_dados/consulta*.csv')\n",
        "print(dados_pe_rn)"
      ],
      "id": "bc0a96bc",
      "execution_count": null,
      "outputs": [
        {
          "name": "stdout",
          "output_type": "stream",
          "text": [
            "['base_dados/consulta_cand_2020_PE.csv', 'base_dados/consulta_cand_2016_RN.csv', 'base_dados/consulta_cand_2020_RN.csv', 'base_dados/consulta_cand_2016_PE.csv']\n"
          ]
        }
      ]
    },
    {
      "cell_type": "code",
      "metadata": {
        "id": "57c7595c"
      },
      "source": [
        "lista_df = []\n",
        "\n",
        "for dados_estado in dados_pe_rn:\n",
        "    df_estado = pd.read_csv(dados_estado, sep=\";\", encoding='latin_1', na_values=['#NULO#'])\n",
        "    lista_df.append(df_estado)"
      ],
      "id": "57c7595c",
      "execution_count": null,
      "outputs": []
    },
    {
      "cell_type": "code",
      "metadata": {
        "id": "d854e293",
        "outputId": "85abaf47-c8fd-4838-b9b6-9b129de1f7fd"
      },
      "source": [
        "lista_df[0].columns == lista_df[3].columns"
      ],
      "id": "d854e293",
      "execution_count": null,
      "outputs": [
        {
          "data": {
            "text/plain": [
              "array([ True,  True,  True,  True,  True,  True,  True,  True,  True,\n",
              "        True,  True,  True,  True,  True,  True,  True,  True,  True,\n",
              "        True,  True,  True,  True,  True,  True,  True,  True,  True,\n",
              "        True,  True,  True,  True,  True,  True,  True,  True,  True,\n",
              "        True,  True,  True,  True,  True,  True,  True,  True,  True,\n",
              "        True,  True,  True,  True,  True,  True,  True,  True,  True,\n",
              "        True,  True,  True,  True,  True,  True,  True,  True,  True])"
            ]
          },
          "execution_count": 11,
          "metadata": {},
          "output_type": "execute_result"
        }
      ]
    },
    {
      "cell_type": "code",
      "metadata": {
        "id": "582e0ca5"
      },
      "source": [
        "df_completo = pd.concat(lista_df, axis=0, ignore_index=True)"
      ],
      "id": "582e0ca5",
      "execution_count": null,
      "outputs": []
    },
    {
      "cell_type": "code",
      "metadata": {
        "id": "e332acab",
        "outputId": "e9332682-3ebb-4e87-a4e2-7add188bcbdc"
      },
      "source": [
        "df_completo.shape"
      ],
      "id": "e332acab",
      "execution_count": null,
      "outputs": [
        {
          "data": {
            "text/plain": [
              "(59991, 63)"
            ]
          },
          "execution_count": 13,
          "metadata": {},
          "output_type": "execute_result"
        }
      ]
    },
    {
      "cell_type": "code",
      "metadata": {
        "id": "ac039a8c",
        "outputId": "19b37703-8874-4ad2-ff0c-94f6d5cf3bbc"
      },
      "source": [
        "df_completo.info()"
      ],
      "id": "ac039a8c",
      "execution_count": null,
      "outputs": [
        {
          "name": "stdout",
          "output_type": "stream",
          "text": [
            "<class 'pandas.core.frame.DataFrame'>\n",
            "RangeIndex: 59991 entries, 0 to 59990\n",
            "Data columns (total 63 columns):\n",
            " #   Column                         Non-Null Count  Dtype  \n",
            "---  ------                         --------------  -----  \n",
            " 0   DT_GERACAO                     59991 non-null  object \n",
            " 1   HH_GERACAO                     59991 non-null  object \n",
            " 2   ANO_ELEICAO                    59991 non-null  int64  \n",
            " 3   CD_TIPO_ELEICAO                59991 non-null  int64  \n",
            " 4   NM_TIPO_ELEICAO                59991 non-null  object \n",
            " 5   NR_TURNO                       59991 non-null  int64  \n",
            " 6   CD_ELEICAO                     59991 non-null  int64  \n",
            " 7   DS_ELEICAO                     59991 non-null  object \n",
            " 8   DT_ELEICAO                     59991 non-null  object \n",
            " 9   TP_ABRANGENCIA                 59991 non-null  object \n",
            " 10  SG_UF                          59991 non-null  object \n",
            " 11  SG_UE                          59991 non-null  int64  \n",
            " 12  NM_UE                          59991 non-null  object \n",
            " 13  CD_CARGO                       59991 non-null  int64  \n",
            " 14  DS_CARGO                       59991 non-null  object \n",
            " 15  SQ_CANDIDATO                   59991 non-null  int64  \n",
            " 16  NR_CANDIDATO                   59991 non-null  int64  \n",
            " 17  NM_CANDIDATO                   59991 non-null  object \n",
            " 18  NM_URNA_CANDIDATO              59991 non-null  object \n",
            " 19  NM_SOCIAL_CANDIDATO            14 non-null     object \n",
            " 20  NR_CPF_CANDIDATO               59991 non-null  object \n",
            " 21  NM_EMAIL                       59991 non-null  object \n",
            " 22  CD_SITUACAO_CANDIDATURA        59991 non-null  int64  \n",
            " 23  DS_SITUACAO_CANDIDATURA        59991 non-null  object \n",
            " 24  CD_DETALHE_SITUACAO_CAND       59991 non-null  int64  \n",
            " 25  DS_DETALHE_SITUACAO_CAND       59991 non-null  object \n",
            " 26  TP_AGREMIACAO                  59991 non-null  object \n",
            " 27  NR_PARTIDO                     59991 non-null  int64  \n",
            " 28  SG_PARTIDO                     59991 non-null  object \n",
            " 29  NM_PARTIDO                     59991 non-null  object \n",
            " 30  SQ_COLIGACAO                   59991 non-null  int64  \n",
            " 31  NM_COLIGACAO                   59991 non-null  object \n",
            " 32  DS_COMPOSICAO_COLIGACAO        59933 non-null  object \n",
            " 33  CD_NACIONALIDADE               59991 non-null  int64  \n",
            " 34  DS_NACIONALIDADE               59991 non-null  object \n",
            " 35  SG_UF_NASCIMENTO               59991 non-null  object \n",
            " 36  CD_MUNICIPIO_NASCIMENTO        59991 non-null  int64  \n",
            " 37  NM_MUNICIPIO_NASCIMENTO        59991 non-null  object \n",
            " 38  DT_NASCIMENTO                  59990 non-null  object \n",
            " 39  NR_IDADE_DATA_POSSE            59990 non-null  float64\n",
            " 40  NR_TITULO_ELEITORAL_CANDIDATO  59991 non-null  int64  \n",
            " 41  CD_GENERO                      59991 non-null  int64  \n",
            " 42  DS_GENERO                      59991 non-null  object \n",
            " 43  CD_GRAU_INSTRUCAO              59991 non-null  int64  \n",
            " 44  DS_GRAU_INSTRUCAO              59991 non-null  object \n",
            " 45  CD_ESTADO_CIVIL                59991 non-null  int64  \n",
            " 46  DS_ESTADO_CIVIL                59991 non-null  object \n",
            " 47  CD_COR_RACA                    59991 non-null  int64  \n",
            " 48  DS_COR_RACA                    59991 non-null  object \n",
            " 49  CD_OCUPACAO                    59991 non-null  int64  \n",
            " 50  DS_OCUPACAO                    59991 non-null  object \n",
            " 51  VR_DESPESA_MAX_CAMPANHA        59991 non-null  float64\n",
            " 52  CD_SIT_TOT_TURNO               59991 non-null  int64  \n",
            " 53  DS_SIT_TOT_TURNO               57643 non-null  object \n",
            " 54  ST_REELEICAO                   59991 non-null  object \n",
            " 55  ST_DECLARAR_BENS               59991 non-null  object \n",
            " 56  NR_PROTOCOLO_CANDIDATURA       59991 non-null  int64  \n",
            " 57  NR_PROCESSO                    59991 non-null  object \n",
            " 58  CD_SITUACAO_CANDIDATO_PLEITO   59991 non-null  int64  \n",
            " 59  DS_SITUACAO_CANDIDATO_PLEITO   57649 non-null  object \n",
            " 60  CD_SITUACAO_CANDIDATO_URNA     59991 non-null  int64  \n",
            " 61  DS_SITUACAO_CANDIDATO_URNA     57649 non-null  object \n",
            " 62  ST_CANDIDATO_INSERIDO_URNA     59991 non-null  object \n",
            "dtypes: float64(2), int64(24), object(37)\n",
            "memory usage: 28.8+ MB\n"
          ]
        }
      ]
    },
    {
      "cell_type": "code",
      "metadata": {
        "id": "1cc6f4ad",
        "outputId": "584ccb9e-d6b4-4f04-a4e1-ebafda3fd660"
      },
      "source": [
        "df_completo['DS_CARGO'].unique()"
      ],
      "id": "1cc6f4ad",
      "execution_count": null,
      "outputs": [
        {
          "data": {
            "text/plain": [
              "array(['VEREADOR', 'PREFEITO', 'VICE-PREFEITO'], dtype=object)"
            ]
          },
          "execution_count": 15,
          "metadata": {},
          "output_type": "execute_result"
        }
      ]
    },
    {
      "cell_type": "code",
      "metadata": {
        "id": "7fc56a1e",
        "outputId": "ef6c880a-7cb7-4dd5-cde6-86828f9f6813"
      },
      "source": [
        "df_completo['DS_DETALHE_SITUACAO_CAND'].unique()"
      ],
      "id": "7fc56a1e",
      "execution_count": null,
      "outputs": [
        {
          "data": {
            "text/plain": [
              "array(['DEFERIDO', 'RENÚNCIA', 'INDEFERIDO', 'FALECIDO',\n",
              "       'PEDIDO NÃO CONHECIDO', 'DEFERIDO COM RECURSO',\n",
              "       'INDEFERIDO COM RECURSO', 'CASSADO', 'NÃO CONHECIMENTO DO PEDIDO',\n",
              "       'PENDENTE DE JULGAMENTO', 'CANCELADO', 'CASSADO COM RECURSO',\n",
              "       'CANCELADO COM RECURSO'], dtype=object)"
            ]
          },
          "execution_count": 16,
          "metadata": {},
          "output_type": "execute_result"
        }
      ]
    },
    {
      "cell_type": "code",
      "metadata": {
        "id": "706e8b6e"
      },
      "source": [
        "df_vereadores = df_completo[\n",
        "    (df_completo['CD_CARGO'] == 13) &\n",
        "    ((df_completo['DS_DETALHE_SITUACAO_CAND'] == 'DEFERIDO') | \n",
        "    (df_completo['DS_DETALHE_SITUACAO_CAND'] == 'DEFERIDO COM RECURSO'))\n",
        "].copy()"
      ],
      "id": "706e8b6e",
      "execution_count": null,
      "outputs": []
    },
    {
      "cell_type": "code",
      "metadata": {
        "id": "5230c4ad",
        "outputId": "2119057c-fced-4ba0-eddf-98fec914d5d2"
      },
      "source": [
        "df_vereadores.shape"
      ],
      "id": "5230c4ad",
      "execution_count": null,
      "outputs": [
        {
          "data": {
            "text/plain": [
              "(52176, 63)"
            ]
          },
          "execution_count": 18,
          "metadata": {},
          "output_type": "execute_result"
        }
      ]
    },
    {
      "cell_type": "code",
      "metadata": {
        "id": "82d05ad0"
      },
      "source": [
        "df_raca_genero = df_vereadores[['ANO_ELEICAO', 'CD_CARGO', 'SG_UF', 'NR_PARTIDO', 'SG_PARTIDO', 'CD_GENERO', \n",
        "                                'DS_GENERO', 'CD_COR_RACA', 'DS_COR_RACA', 'NR_IDADE_DATA_POSSE', \n",
        "                                'VR_DESPESA_MAX_CAMPANHA']].copy()"
      ],
      "id": "82d05ad0",
      "execution_count": null,
      "outputs": []
    },
    {
      "cell_type": "code",
      "metadata": {
        "id": "3ac272b1",
        "outputId": "1a8cae1c-6587-4253-d328-42f637247e11"
      },
      "source": [
        "df_raca_genero.head()"
      ],
      "id": "3ac272b1",
      "execution_count": null,
      "outputs": [
        {
          "data": {
            "text/html": [
              "<div>\n",
              "<style scoped>\n",
              "    .dataframe tbody tr th:only-of-type {\n",
              "        vertical-align: middle;\n",
              "    }\n",
              "\n",
              "    .dataframe tbody tr th {\n",
              "        vertical-align: top;\n",
              "    }\n",
              "\n",
              "    .dataframe thead th {\n",
              "        text-align: right;\n",
              "    }\n",
              "</style>\n",
              "<table border=\"1\" class=\"dataframe\">\n",
              "  <thead>\n",
              "    <tr style=\"text-align: right;\">\n",
              "      <th></th>\n",
              "      <th>ANO_ELEICAO</th>\n",
              "      <th>CD_CARGO</th>\n",
              "      <th>SG_UF</th>\n",
              "      <th>NR_PARTIDO</th>\n",
              "      <th>SG_PARTIDO</th>\n",
              "      <th>CD_GENERO</th>\n",
              "      <th>DS_GENERO</th>\n",
              "      <th>CD_COR_RACA</th>\n",
              "      <th>DS_COR_RACA</th>\n",
              "      <th>NR_IDADE_DATA_POSSE</th>\n",
              "      <th>VR_DESPESA_MAX_CAMPANHA</th>\n",
              "    </tr>\n",
              "  </thead>\n",
              "  <tbody>\n",
              "    <tr>\n",
              "      <th>0</th>\n",
              "      <td>2020</td>\n",
              "      <td>13</td>\n",
              "      <td>PE</td>\n",
              "      <td>17</td>\n",
              "      <td>PSL</td>\n",
              "      <td>4</td>\n",
              "      <td>FEMININO</td>\n",
              "      <td>3</td>\n",
              "      <td>PARDA</td>\n",
              "      <td>68.0</td>\n",
              "      <td>149376.80</td>\n",
              "    </tr>\n",
              "    <tr>\n",
              "      <th>1</th>\n",
              "      <td>2020</td>\n",
              "      <td>13</td>\n",
              "      <td>PE</td>\n",
              "      <td>15</td>\n",
              "      <td>MDB</td>\n",
              "      <td>2</td>\n",
              "      <td>MASCULINO</td>\n",
              "      <td>3</td>\n",
              "      <td>PARDA</td>\n",
              "      <td>51.0</td>\n",
              "      <td>48405.01</td>\n",
              "    </tr>\n",
              "    <tr>\n",
              "      <th>2</th>\n",
              "      <td>2020</td>\n",
              "      <td>13</td>\n",
              "      <td>PE</td>\n",
              "      <td>25</td>\n",
              "      <td>DEM</td>\n",
              "      <td>2</td>\n",
              "      <td>MASCULINO</td>\n",
              "      <td>1</td>\n",
              "      <td>BRANCA</td>\n",
              "      <td>58.0</td>\n",
              "      <td>1011149.65</td>\n",
              "    </tr>\n",
              "    <tr>\n",
              "      <th>3</th>\n",
              "      <td>2020</td>\n",
              "      <td>13</td>\n",
              "      <td>PE</td>\n",
              "      <td>45</td>\n",
              "      <td>PSDB</td>\n",
              "      <td>4</td>\n",
              "      <td>FEMININO</td>\n",
              "      <td>3</td>\n",
              "      <td>PARDA</td>\n",
              "      <td>49.0</td>\n",
              "      <td>26120.37</td>\n",
              "    </tr>\n",
              "    <tr>\n",
              "      <th>7</th>\n",
              "      <td>2020</td>\n",
              "      <td>13</td>\n",
              "      <td>PE</td>\n",
              "      <td>70</td>\n",
              "      <td>AVANTE</td>\n",
              "      <td>2</td>\n",
              "      <td>MASCULINO</td>\n",
              "      <td>3</td>\n",
              "      <td>PARDA</td>\n",
              "      <td>26.0</td>\n",
              "      <td>18991.16</td>\n",
              "    </tr>\n",
              "  </tbody>\n",
              "</table>\n",
              "</div>"
            ],
            "text/plain": [
              "   ANO_ELEICAO  CD_CARGO SG_UF  NR_PARTIDO SG_PARTIDO  CD_GENERO  DS_GENERO  \\\n",
              "0         2020        13    PE          17        PSL          4   FEMININO   \n",
              "1         2020        13    PE          15        MDB          2  MASCULINO   \n",
              "2         2020        13    PE          25        DEM          2  MASCULINO   \n",
              "3         2020        13    PE          45       PSDB          4   FEMININO   \n",
              "7         2020        13    PE          70     AVANTE          2  MASCULINO   \n",
              "\n",
              "   CD_COR_RACA DS_COR_RACA  NR_IDADE_DATA_POSSE  VR_DESPESA_MAX_CAMPANHA  \n",
              "0            3       PARDA                 68.0                149376.80  \n",
              "1            3       PARDA                 51.0                 48405.01  \n",
              "2            1      BRANCA                 58.0               1011149.65  \n",
              "3            3       PARDA                 49.0                 26120.37  \n",
              "7            3       PARDA                 26.0                 18991.16  "
            ]
          },
          "execution_count": 20,
          "metadata": {},
          "output_type": "execute_result"
        }
      ]
    },
    {
      "cell_type": "markdown",
      "metadata": {
        "id": "d2aa52d3"
      },
      "source": [
        "Quantas candidaturas houveram em cada ano agrupado por gênero ? "
      ],
      "id": "d2aa52d3"
    },
    {
      "cell_type": "code",
      "metadata": {
        "id": "5e6d362a",
        "outputId": "c61f73d8-29f4-40b3-9a91-a014782438d7"
      },
      "source": [
        "df_raca_genero[['ANO_ELEICAO', 'DS_GENERO', 'CD_CARGO']].groupby(by=['ANO_ELEICAO', 'DS_GENERO']).count()"
      ],
      "id": "5e6d362a",
      "execution_count": null,
      "outputs": [
        {
          "data": {
            "text/html": [
              "<div>\n",
              "<style scoped>\n",
              "    .dataframe tbody tr th:only-of-type {\n",
              "        vertical-align: middle;\n",
              "    }\n",
              "\n",
              "    .dataframe tbody tr th {\n",
              "        vertical-align: top;\n",
              "    }\n",
              "\n",
              "    .dataframe thead th {\n",
              "        text-align: right;\n",
              "    }\n",
              "</style>\n",
              "<table border=\"1\" class=\"dataframe\">\n",
              "  <thead>\n",
              "    <tr style=\"text-align: right;\">\n",
              "      <th></th>\n",
              "      <th></th>\n",
              "      <th>CD_CARGO</th>\n",
              "    </tr>\n",
              "    <tr>\n",
              "      <th>ANO_ELEICAO</th>\n",
              "      <th>DS_GENERO</th>\n",
              "      <th></th>\n",
              "    </tr>\n",
              "  </thead>\n",
              "  <tbody>\n",
              "    <tr>\n",
              "      <th rowspan=\"3\" valign=\"top\">2016</th>\n",
              "      <th>FEMININO</th>\n",
              "      <td>7760</td>\n",
              "    </tr>\n",
              "    <tr>\n",
              "      <th>MASCULINO</th>\n",
              "      <td>16622</td>\n",
              "    </tr>\n",
              "    <tr>\n",
              "      <th>NÃO DIVULGÁVEL</th>\n",
              "      <td>1</td>\n",
              "    </tr>\n",
              "    <tr>\n",
              "      <th rowspan=\"2\" valign=\"top\">2020</th>\n",
              "      <th>FEMININO</th>\n",
              "      <td>9398</td>\n",
              "    </tr>\n",
              "    <tr>\n",
              "      <th>MASCULINO</th>\n",
              "      <td>18395</td>\n",
              "    </tr>\n",
              "  </tbody>\n",
              "</table>\n",
              "</div>"
            ],
            "text/plain": [
              "                            CD_CARGO\n",
              "ANO_ELEICAO DS_GENERO               \n",
              "2016        FEMININO            7760\n",
              "            MASCULINO          16622\n",
              "            NÃO DIVULGÁVEL         1\n",
              "2020        FEMININO            9398\n",
              "            MASCULINO          18395"
            ]
          },
          "execution_count": 28,
          "metadata": {},
          "output_type": "execute_result"
        }
      ]
    },
    {
      "cell_type": "code",
      "metadata": {
        "id": "4a404194",
        "outputId": "f751b4c9-d0bb-417d-bb7d-14a58eea48e7"
      },
      "source": [
        "df_raca_genero[['ANO_ELEICAO', 'SG_UF','DS_GENERO']].groupby(by=['ANO_ELEICAO', 'DS_GENERO']).count().plot(kind='bar')"
      ],
      "id": "4a404194",
      "execution_count": null,
      "outputs": [
        {
          "data": {
            "text/plain": [
              "<AxesSubplot:xlabel='ANO_ELEICAO,DS_GENERO'>"
            ]
          },
          "execution_count": 31,
          "metadata": {},
          "output_type": "execute_result"
        },
        {
          "data": {
            "image/png": "[encoded data removed]",
            "text/plain": [
              "<Figure size 432x288 with 1 Axes>"
            ]
          },
          "metadata": {
            "needs_background": "light"
          },
          "output_type": "display_data"
        }
      ]
    },
    {
      "cell_type": "code",
      "metadata": {
        "id": "7b7f6baa",
        "outputId": "fa9786ad-4c0f-497d-b859-de396a456e27"
      },
      "source": [
        "round(df_raca_genero[['DS_GENERO', 'VR_DESPESA_MAX_CAMPANHA']].groupby(by=['DS_GENERO']).mean(), 2)"
      ],
      "id": "7b7f6baa",
      "execution_count": null,
      "outputs": [
        {
          "data": {
            "text/html": [
              "<div>\n",
              "<style scoped>\n",
              "    .dataframe tbody tr th:only-of-type {\n",
              "        vertical-align: middle;\n",
              "    }\n",
              "\n",
              "    .dataframe tbody tr th {\n",
              "        vertical-align: top;\n",
              "    }\n",
              "\n",
              "    .dataframe thead th {\n",
              "        text-align: right;\n",
              "    }\n",
              "</style>\n",
              "<table border=\"1\" class=\"dataframe\">\n",
              "  <thead>\n",
              "    <tr style=\"text-align: right;\">\n",
              "      <th></th>\n",
              "      <th>VR_DESPESA_MAX_CAMPANHA</th>\n",
              "    </tr>\n",
              "    <tr>\n",
              "      <th>DS_GENERO</th>\n",
              "      <th></th>\n",
              "    </tr>\n",
              "  </thead>\n",
              "  <tbody>\n",
              "    <tr>\n",
              "      <th>FEMININO</th>\n",
              "      <td>74018.08</td>\n",
              "    </tr>\n",
              "    <tr>\n",
              "      <th>MASCULINO</th>\n",
              "      <td>78522.27</td>\n",
              "    </tr>\n",
              "    <tr>\n",
              "      <th>NÃO DIVULGÁVEL</th>\n",
              "      <td>-4.00</td>\n",
              "    </tr>\n",
              "  </tbody>\n",
              "</table>\n",
              "</div>"
            ],
            "text/plain": [
              "                VR_DESPESA_MAX_CAMPANHA\n",
              "DS_GENERO                              \n",
              "FEMININO                       74018.08\n",
              "MASCULINO                      78522.27\n",
              "NÃO DIVULGÁVEL                    -4.00"
            ]
          },
          "execution_count": 33,
          "metadata": {},
          "output_type": "execute_result"
        }
      ]
    },
    {
      "cell_type": "markdown",
      "metadata": {
        "id": "aaeb951e"
      },
      "source": [
        "Qual a faixa etária média das pessoas candidatas?"
      ],
      "id": "aaeb951e"
    },
    {
      "cell_type": "code",
      "metadata": {
        "id": "2ec02938",
        "outputId": "4df0e717-fb7d-4531-a7ba-5d539bbf1e22"
      },
      "source": [
        "df_raca_genero.head()"
      ],
      "id": "2ec02938",
      "execution_count": null,
      "outputs": [
        {
          "data": {
            "text/html": [
              "<div>\n",
              "<style scoped>\n",
              "    .dataframe tbody tr th:only-of-type {\n",
              "        vertical-align: middle;\n",
              "    }\n",
              "\n",
              "    .dataframe tbody tr th {\n",
              "        vertical-align: top;\n",
              "    }\n",
              "\n",
              "    .dataframe thead th {\n",
              "        text-align: right;\n",
              "    }\n",
              "</style>\n",
              "<table border=\"1\" class=\"dataframe\">\n",
              "  <thead>\n",
              "    <tr style=\"text-align: right;\">\n",
              "      <th></th>\n",
              "      <th>ANO_ELEICAO</th>\n",
              "      <th>CD_CARGO</th>\n",
              "      <th>SG_UF</th>\n",
              "      <th>NR_PARTIDO</th>\n",
              "      <th>SG_PARTIDO</th>\n",
              "      <th>CD_GENERO</th>\n",
              "      <th>DS_GENERO</th>\n",
              "      <th>CD_COR_RACA</th>\n",
              "      <th>DS_COR_RACA</th>\n",
              "      <th>NR_IDADE_DATA_POSSE</th>\n",
              "      <th>VR_DESPESA_MAX_CAMPANHA</th>\n",
              "    </tr>\n",
              "  </thead>\n",
              "  <tbody>\n",
              "    <tr>\n",
              "      <th>0</th>\n",
              "      <td>2020</td>\n",
              "      <td>13</td>\n",
              "      <td>PE</td>\n",
              "      <td>17</td>\n",
              "      <td>PSL</td>\n",
              "      <td>4</td>\n",
              "      <td>FEMININO</td>\n",
              "      <td>3</td>\n",
              "      <td>PARDA</td>\n",
              "      <td>68.0</td>\n",
              "      <td>149376.80</td>\n",
              "    </tr>\n",
              "    <tr>\n",
              "      <th>1</th>\n",
              "      <td>2020</td>\n",
              "      <td>13</td>\n",
              "      <td>PE</td>\n",
              "      <td>15</td>\n",
              "      <td>MDB</td>\n",
              "      <td>2</td>\n",
              "      <td>MASCULINO</td>\n",
              "      <td>3</td>\n",
              "      <td>PARDA</td>\n",
              "      <td>51.0</td>\n",
              "      <td>48405.01</td>\n",
              "    </tr>\n",
              "    <tr>\n",
              "      <th>2</th>\n",
              "      <td>2020</td>\n",
              "      <td>13</td>\n",
              "      <td>PE</td>\n",
              "      <td>25</td>\n",
              "      <td>DEM</td>\n",
              "      <td>2</td>\n",
              "      <td>MASCULINO</td>\n",
              "      <td>1</td>\n",
              "      <td>BRANCA</td>\n",
              "      <td>58.0</td>\n",
              "      <td>1011149.65</td>\n",
              "    </tr>\n",
              "    <tr>\n",
              "      <th>3</th>\n",
              "      <td>2020</td>\n",
              "      <td>13</td>\n",
              "      <td>PE</td>\n",
              "      <td>45</td>\n",
              "      <td>PSDB</td>\n",
              "      <td>4</td>\n",
              "      <td>FEMININO</td>\n",
              "      <td>3</td>\n",
              "      <td>PARDA</td>\n",
              "      <td>49.0</td>\n",
              "      <td>26120.37</td>\n",
              "    </tr>\n",
              "    <tr>\n",
              "      <th>7</th>\n",
              "      <td>2020</td>\n",
              "      <td>13</td>\n",
              "      <td>PE</td>\n",
              "      <td>70</td>\n",
              "      <td>AVANTE</td>\n",
              "      <td>2</td>\n",
              "      <td>MASCULINO</td>\n",
              "      <td>3</td>\n",
              "      <td>PARDA</td>\n",
              "      <td>26.0</td>\n",
              "      <td>18991.16</td>\n",
              "    </tr>\n",
              "  </tbody>\n",
              "</table>\n",
              "</div>"
            ],
            "text/plain": [
              "   ANO_ELEICAO  CD_CARGO SG_UF  NR_PARTIDO SG_PARTIDO  CD_GENERO  DS_GENERO  \\\n",
              "0         2020        13    PE          17        PSL          4   FEMININO   \n",
              "1         2020        13    PE          15        MDB          2  MASCULINO   \n",
              "2         2020        13    PE          25        DEM          2  MASCULINO   \n",
              "3         2020        13    PE          45       PSDB          4   FEMININO   \n",
              "7         2020        13    PE          70     AVANTE          2  MASCULINO   \n",
              "\n",
              "   CD_COR_RACA DS_COR_RACA  NR_IDADE_DATA_POSSE  VR_DESPESA_MAX_CAMPANHA  \n",
              "0            3       PARDA                 68.0                149376.80  \n",
              "1            3       PARDA                 51.0                 48405.01  \n",
              "2            1      BRANCA                 58.0               1011149.65  \n",
              "3            3       PARDA                 49.0                 26120.37  \n",
              "7            3       PARDA                 26.0                 18991.16  "
            ]
          },
          "execution_count": 34,
          "metadata": {},
          "output_type": "execute_result"
        }
      ]
    },
    {
      "cell_type": "code",
      "metadata": {
        "id": "a78c5263",
        "outputId": "761215f9-726b-4244-8636-928086588559"
      },
      "source": [
        "df_raca_genero.describe()"
      ],
      "id": "a78c5263",
      "execution_count": null,
      "outputs": [
        {
          "data": {
            "text/html": [
              "<div>\n",
              "<style scoped>\n",
              "    .dataframe tbody tr th:only-of-type {\n",
              "        vertical-align: middle;\n",
              "    }\n",
              "\n",
              "    .dataframe tbody tr th {\n",
              "        vertical-align: top;\n",
              "    }\n",
              "\n",
              "    .dataframe thead th {\n",
              "        text-align: right;\n",
              "    }\n",
              "</style>\n",
              "<table border=\"1\" class=\"dataframe\">\n",
              "  <thead>\n",
              "    <tr style=\"text-align: right;\">\n",
              "      <th></th>\n",
              "      <th>ANO_ELEICAO</th>\n",
              "      <th>CD_CARGO</th>\n",
              "      <th>NR_PARTIDO</th>\n",
              "      <th>CD_GENERO</th>\n",
              "      <th>CD_COR_RACA</th>\n",
              "      <th>NR_IDADE_DATA_POSSE</th>\n",
              "      <th>VR_DESPESA_MAX_CAMPANHA</th>\n",
              "    </tr>\n",
              "  </thead>\n",
              "  <tbody>\n",
              "    <tr>\n",
              "      <th>count</th>\n",
              "      <td>52176.000000</td>\n",
              "      <td>52176.0</td>\n",
              "      <td>52176.000000</td>\n",
              "      <td>52176.000000</td>\n",
              "      <td>52176.000000</td>\n",
              "      <td>52175.000000</td>\n",
              "      <td>5.217600e+04</td>\n",
              "    </tr>\n",
              "    <tr>\n",
              "      <th>mean</th>\n",
              "      <td>2018.130711</td>\n",
              "      <td>13.0</td>\n",
              "      <td>33.530186</td>\n",
              "      <td>2.657582</td>\n",
              "      <td>2.160610</td>\n",
              "      <td>43.680824</td>\n",
              "      <td>7.703957e+04</td>\n",
              "    </tr>\n",
              "    <tr>\n",
              "      <th>std</th>\n",
              "      <td>1.995743</td>\n",
              "      <td>0.0</td>\n",
              "      <td>21.004875</td>\n",
              "      <td>0.940046</td>\n",
              "      <td>0.992971</td>\n",
              "      <td>12.088887</td>\n",
              "      <td>1.755014e+05</td>\n",
              "    </tr>\n",
              "    <tr>\n",
              "      <th>min</th>\n",
              "      <td>2016.000000</td>\n",
              "      <td>13.0</td>\n",
              "      <td>10.000000</td>\n",
              "      <td>-4.000000</td>\n",
              "      <td>-4.000000</td>\n",
              "      <td>18.000000</td>\n",
              "      <td>-4.000000e+00</td>\n",
              "    </tr>\n",
              "    <tr>\n",
              "      <th>25%</th>\n",
              "      <td>2016.000000</td>\n",
              "      <td>13.0</td>\n",
              "      <td>15.000000</td>\n",
              "      <td>2.000000</td>\n",
              "      <td>1.000000</td>\n",
              "      <td>35.000000</td>\n",
              "      <td>1.230775e+04</td>\n",
              "    </tr>\n",
              "    <tr>\n",
              "      <th>50%</th>\n",
              "      <td>2020.000000</td>\n",
              "      <td>13.0</td>\n",
              "      <td>25.000000</td>\n",
              "      <td>2.000000</td>\n",
              "      <td>3.000000</td>\n",
              "      <td>43.000000</td>\n",
              "      <td>2.292882e+04</td>\n",
              "    </tr>\n",
              "    <tr>\n",
              "      <th>75%</th>\n",
              "      <td>2020.000000</td>\n",
              "      <td>13.0</td>\n",
              "      <td>45.000000</td>\n",
              "      <td>4.000000</td>\n",
              "      <td>3.000000</td>\n",
              "      <td>51.000000</td>\n",
              "      <td>4.662495e+04</td>\n",
              "    </tr>\n",
              "    <tr>\n",
              "      <th>max</th>\n",
              "      <td>2020.000000</td>\n",
              "      <td>13.0</td>\n",
              "      <td>90.000000</td>\n",
              "      <td>4.000000</td>\n",
              "      <td>6.000000</td>\n",
              "      <td>999.000000</td>\n",
              "      <td>1.011150e+06</td>\n",
              "    </tr>\n",
              "  </tbody>\n",
              "</table>\n",
              "</div>"
            ],
            "text/plain": [
              "        ANO_ELEICAO  CD_CARGO    NR_PARTIDO     CD_GENERO   CD_COR_RACA  \\\n",
              "count  52176.000000   52176.0  52176.000000  52176.000000  52176.000000   \n",
              "mean    2018.130711      13.0     33.530186      2.657582      2.160610   \n",
              "std        1.995743       0.0     21.004875      0.940046      0.992971   \n",
              "min     2016.000000      13.0     10.000000     -4.000000     -4.000000   \n",
              "25%     2016.000000      13.0     15.000000      2.000000      1.000000   \n",
              "50%     2020.000000      13.0     25.000000      2.000000      3.000000   \n",
              "75%     2020.000000      13.0     45.000000      4.000000      3.000000   \n",
              "max     2020.000000      13.0     90.000000      4.000000      6.000000   \n",
              "\n",
              "       NR_IDADE_DATA_POSSE  VR_DESPESA_MAX_CAMPANHA  \n",
              "count         52175.000000             5.217600e+04  \n",
              "mean             43.680824             7.703957e+04  \n",
              "std              12.088887             1.755014e+05  \n",
              "min              18.000000            -4.000000e+00  \n",
              "25%              35.000000             1.230775e+04  \n",
              "50%              43.000000             2.292882e+04  \n",
              "75%              51.000000             4.662495e+04  \n",
              "max             999.000000             1.011150e+06  "
            ]
          },
          "execution_count": 35,
          "metadata": {},
          "output_type": "execute_result"
        }
      ]
    },
    {
      "cell_type": "code",
      "metadata": {
        "id": "71be20b8"
      },
      "source": [
        "cortes = [18, 25, 35, 45, 55, 65, 100]\n",
        "categorias = ['18 a 24 anos', '25 a 34 anos', '35 a 44 anos', '45 a 54 anos', '55 a 64 anos', 'acima de 64 anos']"
      ],
      "id": "71be20b8",
      "execution_count": null,
      "outputs": []
    },
    {
      "cell_type": "code",
      "metadata": {
        "id": "4c423687"
      },
      "source": [
        "df_raca_genero['FAIXA_ETARIA'] = pd.cut(df_raca_genero['NR_IDADE_DATA_POSSE'], cortes, labels=categorias, include_lowest=True)"
      ],
      "id": "4c423687",
      "execution_count": null,
      "outputs": []
    },
    {
      "cell_type": "code",
      "metadata": {
        "id": "6fcc29d2",
        "outputId": "42e71f66-adb3-4e9d-c8ea-2822451a04d3"
      },
      "source": [
        "df_raca_genero.head()"
      ],
      "id": "6fcc29d2",
      "execution_count": null,
      "outputs": [
        {
          "data": {
            "text/html": [
              "<div>\n",
              "<style scoped>\n",
              "    .dataframe tbody tr th:only-of-type {\n",
              "        vertical-align: middle;\n",
              "    }\n",
              "\n",
              "    .dataframe tbody tr th {\n",
              "        vertical-align: top;\n",
              "    }\n",
              "\n",
              "    .dataframe thead th {\n",
              "        text-align: right;\n",
              "    }\n",
              "</style>\n",
              "<table border=\"1\" class=\"dataframe\">\n",
              "  <thead>\n",
              "    <tr style=\"text-align: right;\">\n",
              "      <th></th>\n",
              "      <th>ANO_ELEICAO</th>\n",
              "      <th>CD_CARGO</th>\n",
              "      <th>SG_UF</th>\n",
              "      <th>NR_PARTIDO</th>\n",
              "      <th>SG_PARTIDO</th>\n",
              "      <th>CD_GENERO</th>\n",
              "      <th>DS_GENERO</th>\n",
              "      <th>CD_COR_RACA</th>\n",
              "      <th>DS_COR_RACA</th>\n",
              "      <th>NR_IDADE_DATA_POSSE</th>\n",
              "      <th>VR_DESPESA_MAX_CAMPANHA</th>\n",
              "      <th>FAIXA_ETARIA</th>\n",
              "    </tr>\n",
              "  </thead>\n",
              "  <tbody>\n",
              "    <tr>\n",
              "      <th>0</th>\n",
              "      <td>2020</td>\n",
              "      <td>13</td>\n",
              "      <td>PE</td>\n",
              "      <td>17</td>\n",
              "      <td>PSL</td>\n",
              "      <td>4</td>\n",
              "      <td>FEMININO</td>\n",
              "      <td>3</td>\n",
              "      <td>PARDA</td>\n",
              "      <td>68.0</td>\n",
              "      <td>149376.80</td>\n",
              "      <td>acima de 64 anos</td>\n",
              "    </tr>\n",
              "    <tr>\n",
              "      <th>1</th>\n",
              "      <td>2020</td>\n",
              "      <td>13</td>\n",
              "      <td>PE</td>\n",
              "      <td>15</td>\n",
              "      <td>MDB</td>\n",
              "      <td>2</td>\n",
              "      <td>MASCULINO</td>\n",
              "      <td>3</td>\n",
              "      <td>PARDA</td>\n",
              "      <td>51.0</td>\n",
              "      <td>48405.01</td>\n",
              "      <td>45 a 54 anos</td>\n",
              "    </tr>\n",
              "    <tr>\n",
              "      <th>2</th>\n",
              "      <td>2020</td>\n",
              "      <td>13</td>\n",
              "      <td>PE</td>\n",
              "      <td>25</td>\n",
              "      <td>DEM</td>\n",
              "      <td>2</td>\n",
              "      <td>MASCULINO</td>\n",
              "      <td>1</td>\n",
              "      <td>BRANCA</td>\n",
              "      <td>58.0</td>\n",
              "      <td>1011149.65</td>\n",
              "      <td>55 a 64 anos</td>\n",
              "    </tr>\n",
              "    <tr>\n",
              "      <th>3</th>\n",
              "      <td>2020</td>\n",
              "      <td>13</td>\n",
              "      <td>PE</td>\n",
              "      <td>45</td>\n",
              "      <td>PSDB</td>\n",
              "      <td>4</td>\n",
              "      <td>FEMININO</td>\n",
              "      <td>3</td>\n",
              "      <td>PARDA</td>\n",
              "      <td>49.0</td>\n",
              "      <td>26120.37</td>\n",
              "      <td>45 a 54 anos</td>\n",
              "    </tr>\n",
              "    <tr>\n",
              "      <th>7</th>\n",
              "      <td>2020</td>\n",
              "      <td>13</td>\n",
              "      <td>PE</td>\n",
              "      <td>70</td>\n",
              "      <td>AVANTE</td>\n",
              "      <td>2</td>\n",
              "      <td>MASCULINO</td>\n",
              "      <td>3</td>\n",
              "      <td>PARDA</td>\n",
              "      <td>26.0</td>\n",
              "      <td>18991.16</td>\n",
              "      <td>25 a 34 anos</td>\n",
              "    </tr>\n",
              "  </tbody>\n",
              "</table>\n",
              "</div>"
            ],
            "text/plain": [
              "   ANO_ELEICAO  CD_CARGO SG_UF  NR_PARTIDO SG_PARTIDO  CD_GENERO  DS_GENERO  \\\n",
              "0         2020        13    PE          17        PSL          4   FEMININO   \n",
              "1         2020        13    PE          15        MDB          2  MASCULINO   \n",
              "2         2020        13    PE          25        DEM          2  MASCULINO   \n",
              "3         2020        13    PE          45       PSDB          4   FEMININO   \n",
              "7         2020        13    PE          70     AVANTE          2  MASCULINO   \n",
              "\n",
              "   CD_COR_RACA DS_COR_RACA  NR_IDADE_DATA_POSSE  VR_DESPESA_MAX_CAMPANHA  \\\n",
              "0            3       PARDA                 68.0                149376.80   \n",
              "1            3       PARDA                 51.0                 48405.01   \n",
              "2            1      BRANCA                 58.0               1011149.65   \n",
              "3            3       PARDA                 49.0                 26120.37   \n",
              "7            3       PARDA                 26.0                 18991.16   \n",
              "\n",
              "       FAIXA_ETARIA  \n",
              "0  acima de 64 anos  \n",
              "1      45 a 54 anos  \n",
              "2      55 a 64 anos  \n",
              "3      45 a 54 anos  \n",
              "7      25 a 34 anos  "
            ]
          },
          "execution_count": 38,
          "metadata": {},
          "output_type": "execute_result"
        }
      ]
    },
    {
      "cell_type": "code",
      "metadata": {
        "id": "19841090",
        "outputId": "b7582218-c052-4ad5-9059-a6e99e8b2d54"
      },
      "source": [
        "df_raca_genero['FAIXA_ETARIA'].mode()"
      ],
      "id": "19841090",
      "execution_count": null,
      "outputs": [
        {
          "data": {
            "text/plain": [
              "0    35 a 44 anos\n",
              "Name: FAIXA_ETARIA, dtype: category\n",
              "Categories (6, object): ['18 a 24 anos' < '25 a 34 anos' < '35 a 44 anos' < '45 a 54 anos' < '55 a 64 anos' < 'acima de 64 anos']"
            ]
          },
          "execution_count": 39,
          "metadata": {},
          "output_type": "execute_result"
        }
      ]
    },
    {
      "cell_type": "markdown",
      "metadata": {
        "id": "173e6e5f"
      },
      "source": [
        "Visualize graficamente a distribuição da variável DS_COR_RACA em 2016"
      ],
      "id": "173e6e5f"
    },
    {
      "cell_type": "code",
      "metadata": {
        "id": "5877851b"
      },
      "source": [
        "df_raca_2016 = df_raca_genero[df_raca_genero['ANO_ELEICAO'] == 2016].copy()"
      ],
      "id": "5877851b",
      "execution_count": null,
      "outputs": []
    },
    {
      "cell_type": "code",
      "metadata": {
        "id": "bed1e3f0",
        "outputId": "2e5e6ea5-78db-4749-88e1-933bef004fa9"
      },
      "source": [
        "df_raca_2016[['CD_COR_RACA', 'DS_COR_RACA']].groupby(['DS_COR_RACA']).count()"
      ],
      "id": "bed1e3f0",
      "execution_count": null,
      "outputs": [
        {
          "data": {
            "text/html": [
              "<div>\n",
              "<style scoped>\n",
              "    .dataframe tbody tr th:only-of-type {\n",
              "        vertical-align: middle;\n",
              "    }\n",
              "\n",
              "    .dataframe tbody tr th {\n",
              "        vertical-align: top;\n",
              "    }\n",
              "\n",
              "    .dataframe thead th {\n",
              "        text-align: right;\n",
              "    }\n",
              "</style>\n",
              "<table border=\"1\" class=\"dataframe\">\n",
              "  <thead>\n",
              "    <tr style=\"text-align: right;\">\n",
              "      <th></th>\n",
              "      <th>CD_COR_RACA</th>\n",
              "    </tr>\n",
              "    <tr>\n",
              "      <th>DS_COR_RACA</th>\n",
              "      <th></th>\n",
              "    </tr>\n",
              "  </thead>\n",
              "  <tbody>\n",
              "    <tr>\n",
              "      <th>AMARELA</th>\n",
              "      <td>132</td>\n",
              "    </tr>\n",
              "    <tr>\n",
              "      <th>BRANCA</th>\n",
              "      <td>9956</td>\n",
              "    </tr>\n",
              "    <tr>\n",
              "      <th>INDÍGENA</th>\n",
              "      <td>89</td>\n",
              "    </tr>\n",
              "    <tr>\n",
              "      <th>NÃO DIVULGÁVEL</th>\n",
              "      <td>1</td>\n",
              "    </tr>\n",
              "    <tr>\n",
              "      <th>PARDA</th>\n",
              "      <td>12156</td>\n",
              "    </tr>\n",
              "    <tr>\n",
              "      <th>PRETA</th>\n",
              "      <td>2049</td>\n",
              "    </tr>\n",
              "  </tbody>\n",
              "</table>\n",
              "</div>"
            ],
            "text/plain": [
              "                CD_COR_RACA\n",
              "DS_COR_RACA                \n",
              "AMARELA                 132\n",
              "BRANCA                 9956\n",
              "INDÍGENA                 89\n",
              "NÃO DIVULGÁVEL            1\n",
              "PARDA                 12156\n",
              "PRETA                  2049"
            ]
          },
          "execution_count": 46,
          "metadata": {},
          "output_type": "execute_result"
        }
      ]
    },
    {
      "cell_type": "code",
      "metadata": {
        "id": "3afdf2a3",
        "outputId": "ea73721d-550a-4901-a929-615c0fd4f5af"
      },
      "source": [
        "raca = df_raca_2016['DS_COR_RACA'].unique().tolist()\n",
        "print(raca)"
      ],
      "id": "3afdf2a3",
      "execution_count": null,
      "outputs": [
        {
          "name": "stdout",
          "output_type": "stream",
          "text": [
            "['BRANCA', 'PARDA', 'PRETA', 'INDÍGENA', 'AMARELA', 'NÃO DIVULGÁVEL']\n"
          ]
        }
      ]
    },
    {
      "cell_type": "code",
      "metadata": {
        "id": "a275cfd2",
        "outputId": "66751490-da17-41c6-c10a-3cec577d4bab"
      },
      "source": [
        "frequencia = df_raca_2016['DS_COR_RACA'].value_counts().tolist()\n",
        "print(frequencia)"
      ],
      "id": "a275cfd2",
      "execution_count": null,
      "outputs": [
        {
          "name": "stdout",
          "output_type": "stream",
          "text": [
            "[12156, 9956, 2049, 132, 89, 1]\n"
          ]
        }
      ]
    },
    {
      "cell_type": "code",
      "metadata": {
        "id": "86cdbba7",
        "outputId": "396745d2-eb60-4c60-a578-ea6fcd351da6"
      },
      "source": [
        "plt.bar(raca, frequencia)\n",
        "\n",
        "plt.xticks(rotation=45) \n",
        "plt.title('Distribuição por raça em 2016')\n",
        "plt.ylabel('Quantitativo de candidaturas')\n",
        "\n",
        "plt.savefig('test.pdf')"
      ],
      "id": "86cdbba7",
      "execution_count": null,
      "outputs": [
        {
          "data": {
            "image/png": "[encoded data removed]",
            "text/plain": [
              "<Figure size 432x288 with 1 Axes>"
            ]
          },
          "metadata": {
            "needs_background": "light"
          },
          "output_type": "display_data"
        }
      ]
    },
    {
      "cell_type": "markdown",
      "metadata": {
        "id": "9c79b476"
      },
      "source": [
        "Há correlação entre idade, gênero e custo da campanha?"
      ],
      "id": "9c79b476"
    },
    {
      "cell_type": "code",
      "metadata": {
        "id": "481151a6",
        "outputId": "3ab20d39-9469-46d1-b63e-4d38d574125a"
      },
      "source": [
        "df_raca_genero[['NR_IDADE_DATA_POSSE', 'CD_GENERO', 'VR_DESPESA_MAX_CAMPANHA']].corr(method='pearson')"
      ],
      "id": "481151a6",
      "execution_count": null,
      "outputs": [
        {
          "data": {
            "text/html": [
              "<div>\n",
              "<style scoped>\n",
              "    .dataframe tbody tr th:only-of-type {\n",
              "        vertical-align: middle;\n",
              "    }\n",
              "\n",
              "    .dataframe tbody tr th {\n",
              "        vertical-align: top;\n",
              "    }\n",
              "\n",
              "    .dataframe thead th {\n",
              "        text-align: right;\n",
              "    }\n",
              "</style>\n",
              "<table border=\"1\" class=\"dataframe\">\n",
              "  <thead>\n",
              "    <tr style=\"text-align: right;\">\n",
              "      <th></th>\n",
              "      <th>NR_IDADE_DATA_POSSE</th>\n",
              "      <th>CD_GENERO</th>\n",
              "      <th>VR_DESPESA_MAX_CAMPANHA</th>\n",
              "    </tr>\n",
              "  </thead>\n",
              "  <tbody>\n",
              "    <tr>\n",
              "      <th>NR_IDADE_DATA_POSSE</th>\n",
              "      <td>1.000000</td>\n",
              "      <td>-0.056293</td>\n",
              "      <td>0.072223</td>\n",
              "    </tr>\n",
              "    <tr>\n",
              "      <th>CD_GENERO</th>\n",
              "      <td>-0.056293</td>\n",
              "      <td>1.000000</td>\n",
              "      <td>-0.011992</td>\n",
              "    </tr>\n",
              "    <tr>\n",
              "      <th>VR_DESPESA_MAX_CAMPANHA</th>\n",
              "      <td>0.072223</td>\n",
              "      <td>-0.011992</td>\n",
              "      <td>1.000000</td>\n",
              "    </tr>\n",
              "  </tbody>\n",
              "</table>\n",
              "</div>"
            ],
            "text/plain": [
              "                         NR_IDADE_DATA_POSSE  CD_GENERO  \\\n",
              "NR_IDADE_DATA_POSSE                 1.000000  -0.056293   \n",
              "CD_GENERO                          -0.056293   1.000000   \n",
              "VR_DESPESA_MAX_CAMPANHA             0.072223  -0.011992   \n",
              "\n",
              "                         VR_DESPESA_MAX_CAMPANHA  \n",
              "NR_IDADE_DATA_POSSE                     0.072223  \n",
              "CD_GENERO                              -0.011992  \n",
              "VR_DESPESA_MAX_CAMPANHA                 1.000000  "
            ]
          },
          "execution_count": 59,
          "metadata": {},
          "output_type": "execute_result"
        }
      ]
    },
    {
      "cell_type": "code",
      "metadata": {
        "id": "ed0a0d3e"
      },
      "source": [
        ""
      ],
      "id": "ed0a0d3e",
      "execution_count": null,
      "outputs": []
    }
  ]
}