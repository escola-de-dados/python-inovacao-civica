{
 "cells": [
  {
   "cell_type": "markdown",
   "metadata": {
    "id": "9aUTR9hD9QuN"
   },
   "source": [
    "# 1. Apresentação: "
   ]
  },
  {
   "cell_type": "markdown",
   "metadata": {
    "id": "tPluP35E8VQo"
   },
   "source": [
    "O desafio deste módulo envolve ajudar a criar um programa em Python que soma três números. Uma pessoa fez parte do código, mas ele precisa ser finalizado. Existem partes do código faltando e correções precisam ser realizadas, pois o código contém 3 erros. **Você deve alterar o código neste notebook.**\n",
    "\n",
    "\n",
    "\n",
    "\n",
    "\n"
   ]
  },
  {
   "cell_type": "markdown",
   "metadata": {
    "id": "t-BkgXHeYW3x"
   },
   "source": [
    "# 2. Dicas"
   ]
  },
  {
   "cell_type": "markdown",
   "metadata": {
    "id": "m0J6ZTlWQt9p"
   },
   "source": [
    "*   Antes de ir pro código, leia a descrição do desafio e busque definir pequenos passos para chegar a solução.  \n",
    "*   Leia o código para se familiarizar com a solução que está em desenvolvimento;\n",
    "\n",
    "*  Tente entender o que o código faz ou significa. \n",
    "\n",
    "*  Busque encontrar as partes que faltam ser colocadas e erros no código que precisam ser corrigidos;\n",
    "\n",
    "*  Se aparecer erros, procure corrigir e/ou repita os passos acima.\n"
   ]
  },
  {
   "cell_type": "markdown",
   "metadata": {
    "id": "KxyVKC7wYbv-"
   },
   "source": [
    "# 3. Descrição do desafio"
   ]
  },
  {
   "cell_type": "markdown",
   "metadata": {
    "id": "78VQdbBeXgVN"
   },
   "source": [
    "Faça um programa que Calcule a **soma** de **três números inteiros**. O programa deve exibir na tela uma mensagem como a indicada abaixo de exemplo:\n",
    "\n",
    "OBS: os valores 15, 10, 30 representam números de exemplo. Seu programa deve funcionar para quaisquer outros valores. \n",
    "\n",
    "\n",
    "```\n",
    "    Entrada: 15, 10, 30\n",
    "    Processamento: 15 + 10 + 30\n",
    "    Saída: 55\n",
    "```\n",
    "    \n",
    "\n",
    "\n",
    "\n"
   ]
  },
  {
   "cell_type": "markdown",
   "metadata": {
    "id": "OGYH7v5VTc4A"
   },
   "source": [
    "# 4. Desafio\n",
    "\n",
    "Complete e ajuste o código abaixo para solucionar o desafio. "
   ]
  },
  {
   "cell_type": "code",
   "execution_count": 1,
   "metadata": {
    "id": "bJh04OEnPb_2"
   },
   "outputs": [
    {
     "name": "stdout",
     "output_type": "stream",
     "text": [
      "Entrada: 35, 38, 36\n",
      "Processamento: (35) + (38) + (36)\n",
      "Saída: 109\n"
     ]
    }
   ],
   "source": [
    "num1 = int(input('Digite o 1º número: '))\n",
    "num2 = int(input('Digite o 2º número: '))\n",
    "num3 = int(input('Digite o 3º número: '))\n",
    "\n",
    "soma = num1 + num2 + num3\n",
    "\n",
    "print(f'Entrada: {num1}, {num2}, {num3}')\n",
    "print(f'Processamento: ({num1}) + ({num2}) + ({num3})')\n",
    "print(f'Saída: {soma}')"
   ]
  },
  {
   "cell_type": "code",
   "execution_count": 1,
   "metadata": {},
   "outputs": [
    {
     "name": "stdout",
     "output_type": "stream",
     "text": [
      "Digite o 1º número: 20\n",
      "Digite o 2º número: 30\n",
      "Digite o 3º número: 10\n",
      "Entrada: 20, 30, 10\n",
      "Processamento: (20) + (30) + (10)\n",
      "Saída: 60\n"
     ]
    }
   ],
   "source": [
    "num1 = int(input('Digite o 1º número: '))\n",
    "num2 = int(input('Digite o 2º número: '))\n",
    "num3 = int(input('Digite o 3º número: '))\n",
    "\n",
    "soma = num1 + num2 + num3\n",
    "\n",
    "print('Entrada: ' + str(num1) + ', ' + str(num2) + ', ' + str(num3))\n",
    "print(f'Processamento: ({num1}) + ({num2}) + ({num3})')\n",
    "print(f'Saída: {soma}')"
   ]
  },
  {
   "cell_type": "code",
   "execution_count": null,
   "metadata": {},
   "outputs": [],
   "source": []
  }
 ],
 "metadata": {
  "colab": {
   "collapsed_sections": [],
   "name": "M0-desafio.ipynb",
   "provenance": []
  },
  "kernelspec": {
   "display_name": "Python 3 (ipykernel)",
   "language": "python",
   "name": "python3"
  },
  "language_info": {
   "codemirror_mode": {
    "name": "ipython",
    "version": 3
   },
   "file_extension": ".py",
   "mimetype": "text/x-python",
   "name": "python",
   "nbconvert_exporter": "python",
   "pygments_lexer": "ipython3",
   "version": "3.9.6"
  }
 },
 "nbformat": 4,
 "nbformat_minor": 1
}
