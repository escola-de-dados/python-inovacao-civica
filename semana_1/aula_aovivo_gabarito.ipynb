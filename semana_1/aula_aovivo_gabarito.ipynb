{
 "cells": [
  {
   "cell_type": "markdown",
   "id": "73e1abaf",
   "metadata": {},
   "source": [
    "# Exercício\n",
    "\n",
    "Construa um programa que:\n",
    " - Pergunte a usuária 2 números inteiro;\n",
    " - Crie uma lista numérica do intervalo;\n",
    " - Se o número for divisível por 3, substitua-o o número por \"Tecnologia\";\n",
    " - Se o número for divisível por 5, substitua-o por \"Cívica\";\n",
    " - Se o número for divisível por 3 e 5, substitua-o por \"Tecnologia Cívica\"."
   ]
  },
  {
   "cell_type": "code",
   "execution_count": 2,
   "id": "63cb239b",
   "metadata": {},
   "outputs": [
    {
     "name": "stdout",
     "output_type": "stream",
     "text": [
      "Insira um número inteiro positivo: 6\n"
     ]
    }
   ],
   "source": [
    "numero_1 = int(input('Insira um número inteiro positivo: '))"
   ]
  },
  {
   "cell_type": "code",
   "execution_count": 3,
   "id": "956676c6",
   "metadata": {},
   "outputs": [
    {
     "name": "stdout",
     "output_type": "stream",
     "text": [
      "Insira um número inteiro positivo maior do que o anterior: 90\n"
     ]
    }
   ],
   "source": [
    "numero_2 = int(input('Insira um número inteiro positivo maior do que o anterior: '))"
   ]
  },
  {
   "cell_type": "code",
   "execution_count": 4,
   "id": "32c3adf8",
   "metadata": {},
   "outputs": [],
   "source": [
    "lista = []"
   ]
  },
  {
   "cell_type": "code",
   "execution_count": 8,
   "id": "3e1684b2",
   "metadata": {},
   "outputs": [],
   "source": [
    "for numero in range(numero_1, numero_2): \n",
    "    if numero % 3 == 0 and numero % 5 == 0:\n",
    "        lista.append('Tecnologia Cívica')\n",
    "    elif numero % 3 == 0:\n",
    "        lista.append('Tecnologia')\n",
    "    elif numero % 5 == 0:\n",
    "        lista.append('Cívica')\n",
    "    else:\n",
    "        lista.append(numero)\n",
    "        "
   ]
  },
  {
   "cell_type": "code",
   "execution_count": 9,
   "id": "522ccfcc",
   "metadata": {},
   "outputs": [
    {
     "name": "stdout",
     "output_type": "stream",
     "text": [
      "['Tecnologia', 7, 8, 'Tecnologia', 'Cívica', 11, 'Tecnologia', 13, 14, 'Tecnologia Cívica', 16, 17, 'Tecnologia', 19, 'Cívica', 'Tecnologia', 22, 23, 'Tecnologia', 'Cívica', 26, 'Tecnologia', 28, 29, 'Tecnologia Cívica', 31, 32, 'Tecnologia', 34, 'Cívica', 'Tecnologia', 37, 38, 'Tecnologia', 'Cívica', 41, 'Tecnologia', 43, 44, 'Tecnologia Cívica', 46, 47, 'Tecnologia', 49, 'Cívica', 'Tecnologia', 52, 53, 'Tecnologia', 'Cívica', 56, 'Tecnologia', 58, 59, 'Tecnologia Cívica', 61, 62, 'Tecnologia', 64, 'Cívica', 'Tecnologia', 67, 68, 'Tecnologia', 'Cívica', 71, 'Tecnologia', 73, 74, 'Tecnologia Cívica', 76, 77, 'Tecnologia', 79, 'Cívica', 'Tecnologia', 82, 83, 'Tecnologia', 'Cívica', 86, 'Tecnologia', 88, 89]\n"
     ]
    }
   ],
   "source": [
    "print(lista)"
   ]
  },
  {
   "cell_type": "code",
   "execution_count": null,
   "id": "c28f0860",
   "metadata": {},
   "outputs": [],
   "source": []
  }
 ],
 "metadata": {
  "kernelspec": {
   "display_name": "Python 3",
   "language": "python",
   "name": "python3"
  },
  "language_info": {
   "codemirror_mode": {
    "name": "ipython",
    "version": 3
   },
   "file_extension": ".py",
   "mimetype": "text/x-python",
   "name": "python",
   "nbconvert_exporter": "python",
   "pygments_lexer": "ipython3",
   "version": "3.8.10"
  }
 },
 "nbformat": 4,
 "nbformat_minor": 5
}
